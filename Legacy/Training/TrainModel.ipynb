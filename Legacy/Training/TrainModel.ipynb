{
 "cells": [
  {
   "cell_type": "code",
   "execution_count": 1,
   "metadata": {},
   "outputs": [
    {
     "name": "stdout",
     "output_type": "stream",
     "text": [
      "New https://pypi.org/project/ultralytics/8.3.69 available  Update with 'pip install -U ultralytics'\n",
      "Ultralytics 8.3.61  Python-3.12.8 torch-2.5.1 CUDA:0 (NVIDIA GeForce RTX 4060 Laptop GPU, 8188MiB)\n",
      "\u001b[34m\u001b[1mengine\\trainer: \u001b[0mtask=detect, mode=train, model=yolo11n.pt, data=data.yaml, epochs=100, time=None, patience=100, batch=8, imgsz=640, save=True, save_period=-1, cache=False, device=0, workers=8, project=None, name=train, exist_ok=False, pretrained=True, optimizer=auto, verbose=True, seed=0, deterministic=True, single_cls=False, rect=False, cos_lr=False, close_mosaic=10, resume=False, amp=True, fraction=1.0, profile=False, freeze=None, multi_scale=False, overlap_mask=True, mask_ratio=4, dropout=0.0, val=True, split=val, save_json=False, save_hybrid=False, conf=None, iou=0.7, max_det=300, half=False, dnn=False, plots=True, source=None, vid_stride=1, stream_buffer=False, visualize=False, augment=False, agnostic_nms=False, classes=None, retina_masks=False, embed=None, show=False, save_frames=False, save_txt=False, save_conf=False, save_crop=False, show_labels=True, show_conf=True, show_boxes=True, line_width=None, format=torchscript, keras=False, optimize=False, int8=False, dynamic=False, simplify=True, opset=None, workspace=None, nms=False, lr0=0.01, lrf=0.01, momentum=0.937, weight_decay=0.0005, warmup_epochs=3.0, warmup_momentum=0.8, warmup_bias_lr=0.1, box=7.5, cls=0.5, dfl=1.5, pose=12.0, kobj=1.0, nbs=64, hsv_h=0.015, hsv_s=0.7, hsv_v=0.4, degrees=0.0, translate=0.1, scale=0.5, shear=0.0, perspective=0.0, flipud=0.0, fliplr=0.5, bgr=0.0, mosaic=1.0, mixup=0.0, copy_paste=0.0, copy_paste_mode=flip, auto_augment=randaugment, erasing=0.4, crop_fraction=1.0, cfg=None, tracker=botsort.yaml, save_dir=runs\\detect\\train\n",
      "Overriding model.yaml nc=80 with nc=1\n",
      "\n",
      "                   from  n    params  module                                       arguments                     \n",
      "  0                  -1  1       464  ultralytics.nn.modules.conv.Conv             [3, 16, 3, 2]                 \n",
      "  1                  -1  1      4672  ultralytics.nn.modules.conv.Conv             [16, 32, 3, 2]                \n",
      "  2                  -1  1      6640  ultralytics.nn.modules.block.C3k2            [32, 64, 1, False, 0.25]      \n",
      "  3                  -1  1     36992  ultralytics.nn.modules.conv.Conv             [64, 64, 3, 2]                \n",
      "  4                  -1  1     26080  ultralytics.nn.modules.block.C3k2            [64, 128, 1, False, 0.25]     \n",
      "  5                  -1  1    147712  ultralytics.nn.modules.conv.Conv             [128, 128, 3, 2]              \n",
      "  6                  -1  1     87040  ultralytics.nn.modules.block.C3k2            [128, 128, 1, True]           \n",
      "  7                  -1  1    295424  ultralytics.nn.modules.conv.Conv             [128, 256, 3, 2]              \n",
      "  8                  -1  1    346112  ultralytics.nn.modules.block.C3k2            [256, 256, 1, True]           \n",
      "  9                  -1  1    164608  ultralytics.nn.modules.block.SPPF            [256, 256, 5]                 \n",
      " 10                  -1  1    249728  ultralytics.nn.modules.block.C2PSA           [256, 256, 1]                 \n",
      " 11                  -1  1         0  torch.nn.modules.upsampling.Upsample         [None, 2, 'nearest']          \n",
      " 12             [-1, 6]  1         0  ultralytics.nn.modules.conv.Concat           [1]                           \n",
      " 13                  -1  1    111296  ultralytics.nn.modules.block.C3k2            [384, 128, 1, False]          \n",
      " 14                  -1  1         0  torch.nn.modules.upsampling.Upsample         [None, 2, 'nearest']          \n",
      " 15             [-1, 4]  1         0  ultralytics.nn.modules.conv.Concat           [1]                           \n",
      " 16                  -1  1     32096  ultralytics.nn.modules.block.C3k2            [256, 64, 1, False]           \n",
      " 17                  -1  1     36992  ultralytics.nn.modules.conv.Conv             [64, 64, 3, 2]                \n",
      " 18            [-1, 13]  1         0  ultralytics.nn.modules.conv.Concat           [1]                           \n",
      " 19                  -1  1     86720  ultralytics.nn.modules.block.C3k2            [192, 128, 1, False]          \n",
      " 20                  -1  1    147712  ultralytics.nn.modules.conv.Conv             [128, 128, 3, 2]              \n",
      " 21            [-1, 10]  1         0  ultralytics.nn.modules.conv.Concat           [1]                           \n",
      " 22                  -1  1    378880  ultralytics.nn.modules.block.C3k2            [384, 256, 1, True]           \n",
      " 23        [16, 19, 22]  1    430867  ultralytics.nn.modules.head.Detect           [1, [64, 128, 256]]           \n",
      "YOLO11n summary: 319 layers, 2,590,035 parameters, 2,590,019 gradients\n",
      "\n",
      "Transferred 448/499 items from pretrained weights\n",
      "Freezing layer 'model.23.dfl.conv.weight'\n",
      "\u001b[34m\u001b[1mAMP: \u001b[0mrunning Automatic Mixed Precision (AMP) checks...\n",
      "\u001b[34m\u001b[1mAMP: \u001b[0mchecks passed \n"
     ]
    },
    {
     "name": "stderr",
     "output_type": "stream",
     "text": [
      "\u001b[34m\u001b[1mtrain: \u001b[0mScanning C:\\Users\\urise\\OneDrive\\Desktop\\Chess\\train\\labels.cache... 21001 images, 0 backgrounds, 0 corrupt: 100%|██████████| 21001/21001 [00:00<?, ?it/s]\n",
      "\u001b[34m\u001b[1mval: \u001b[0mScanning C:\\Users\\urise\\OneDrive\\Desktop\\Chess\\valid\\labels.cache... 1989 images, 0 backgrounds, 0 corrupt: 100%|██████████| 1989/1989 [00:00<?, ?it/s]\n"
     ]
    },
    {
     "name": "stdout",
     "output_type": "stream",
     "text": [
      "Plotting labels to runs\\detect\\train\\labels.jpg... \n",
      "\u001b[34m\u001b[1moptimizer:\u001b[0m 'optimizer=auto' found, ignoring 'lr0=0.01' and 'momentum=0.937' and determining best 'optimizer', 'lr0' and 'momentum' automatically... \n",
      "\u001b[34m\u001b[1moptimizer:\u001b[0m SGD(lr=0.01, momentum=0.9) with parameter groups 81 weight(decay=0.0), 88 weight(decay=0.0005), 87 bias(decay=0.0)\n",
      "Image sizes 640 train, 640 val\n",
      "Using 8 dataloader workers\n",
      "Logging results to \u001b[1mruns\\detect\\train\u001b[0m\n",
      "Starting training for 100 epochs...\n",
      "\n",
      "      Epoch    GPU_mem   box_loss   cls_loss   dfl_loss  Instances       Size\n"
     ]
    },
    {
     "name": "stderr",
     "output_type": "stream",
     "text": [
      "      1/100      1.24G      2.543      2.779      1.505          3        640: 100%|██████████| 2626/2626 [04:01<00:00, 10.89it/s]\n",
      "                 Class     Images  Instances      Box(P          R      mAP50  mAP50-95): 100%|██████████| 125/125 [00:10<00:00, 12.29it/s]\n"
     ]
    },
    {
     "name": "stdout",
     "output_type": "stream",
     "text": [
      "                   all       1989       7169      0.559        0.4       0.43      0.172\n",
      "\n",
      "      Epoch    GPU_mem   box_loss   cls_loss   dfl_loss  Instances       Size\n"
     ]
    },
    {
     "name": "stderr",
     "output_type": "stream",
     "text": [
      "      2/100      1.28G      2.241      1.743      1.298          3        640: 100%|██████████| 2626/2626 [03:38<00:00, 12.04it/s]\n",
      "                 Class     Images  Instances      Box(P          R      mAP50  mAP50-95): 100%|██████████| 125/125 [00:09<00:00, 13.33it/s]\n"
     ]
    },
    {
     "name": "stdout",
     "output_type": "stream",
     "text": [
      "                   all       1989       7169      0.583      0.409      0.456      0.189\n",
      "\n",
      "      Epoch    GPU_mem   box_loss   cls_loss   dfl_loss  Instances       Size\n"
     ]
    },
    {
     "name": "stderr",
     "output_type": "stream",
     "text": [
      "      3/100      1.27G       2.24      1.666      1.299          3        640: 100%|██████████| 2626/2626 [03:30<00:00, 12.50it/s]\n",
      "                 Class     Images  Instances      Box(P          R      mAP50  mAP50-95): 100%|██████████| 125/125 [00:09<00:00, 12.82it/s]"
     ]
    },
    {
     "name": "stdout",
     "output_type": "stream",
     "text": [
      "                   all       1989       7169      0.619      0.436      0.482      0.198\n"
     ]
    },
    {
     "name": "stderr",
     "output_type": "stream",
     "text": [
      "\n"
     ]
    },
    {
     "name": "stdout",
     "output_type": "stream",
     "text": [
      "\n",
      "      Epoch    GPU_mem   box_loss   cls_loss   dfl_loss  Instances       Size\n"
     ]
    },
    {
     "name": "stderr",
     "output_type": "stream",
     "text": [
      "      4/100      1.27G      2.219      1.616      1.312          4        640: 100%|██████████| 2626/2626 [03:30<00:00, 12.48it/s]\n",
      "                 Class     Images  Instances      Box(P          R      mAP50  mAP50-95): 100%|██████████| 125/125 [00:09<00:00, 13.27it/s]"
     ]
    },
    {
     "name": "stdout",
     "output_type": "stream",
     "text": [
      "                   all       1989       7169      0.628      0.452      0.512      0.228\n"
     ]
    },
    {
     "name": "stderr",
     "output_type": "stream",
     "text": [
      "\n"
     ]
    },
    {
     "name": "stdout",
     "output_type": "stream",
     "text": [
      "\n",
      "      Epoch    GPU_mem   box_loss   cls_loss   dfl_loss  Instances       Size\n"
     ]
    },
    {
     "name": "stderr",
     "output_type": "stream",
     "text": [
      "      5/100      1.27G      2.113      1.502      1.276          2        640: 100%|██████████| 2626/2626 [03:30<00:00, 12.46it/s]\n",
      "                 Class     Images  Instances      Box(P          R      mAP50  mAP50-95): 100%|██████████| 125/125 [00:09<00:00, 12.93it/s]"
     ]
    },
    {
     "name": "stdout",
     "output_type": "stream",
     "text": [
      "                   all       1989       7169      0.652      0.478       0.55      0.252\n"
     ]
    },
    {
     "name": "stderr",
     "output_type": "stream",
     "text": [
      "\n"
     ]
    },
    {
     "name": "stdout",
     "output_type": "stream",
     "text": [
      "\n",
      "      Epoch    GPU_mem   box_loss   cls_loss   dfl_loss  Instances       Size\n"
     ]
    },
    {
     "name": "stderr",
     "output_type": "stream",
     "text": [
      "      6/100      1.27G      2.044      1.429      1.245          1        640: 100%|██████████| 2626/2626 [03:28<00:00, 12.61it/s]\n",
      "                 Class     Images  Instances      Box(P          R      mAP50  mAP50-95): 100%|██████████| 125/125 [00:09<00:00, 12.78it/s]"
     ]
    },
    {
     "name": "stdout",
     "output_type": "stream",
     "text": [
      "                   all       1989       7169      0.637      0.477      0.547      0.267\n"
     ]
    },
    {
     "name": "stderr",
     "output_type": "stream",
     "text": [
      "\n"
     ]
    },
    {
     "name": "stdout",
     "output_type": "stream",
     "text": [
      "\n",
      "      Epoch    GPU_mem   box_loss   cls_loss   dfl_loss  Instances       Size\n"
     ]
    },
    {
     "name": "stderr",
     "output_type": "stream",
     "text": [
      "      7/100      1.27G      1.989      1.378      1.225          2        640: 100%|██████████| 2626/2626 [03:31<00:00, 12.44it/s]\n",
      "                 Class     Images  Instances      Box(P          R      mAP50  mAP50-95): 100%|██████████| 125/125 [00:09<00:00, 13.03it/s]"
     ]
    },
    {
     "name": "stdout",
     "output_type": "stream",
     "text": [
      "                   all       1989       7169      0.666      0.511      0.582      0.287\n"
     ]
    },
    {
     "name": "stderr",
     "output_type": "stream",
     "text": [
      "\n"
     ]
    },
    {
     "name": "stdout",
     "output_type": "stream",
     "text": [
      "\n",
      "      Epoch    GPU_mem   box_loss   cls_loss   dfl_loss  Instances       Size\n"
     ]
    },
    {
     "name": "stderr",
     "output_type": "stream",
     "text": [
      "      8/100      1.27G       1.95       1.34      1.207          0        640: 100%|██████████| 2626/2626 [03:30<00:00, 12.48it/s]\n",
      "                 Class     Images  Instances      Box(P          R      mAP50  mAP50-95): 100%|██████████| 125/125 [00:09<00:00, 12.87it/s]"
     ]
    },
    {
     "name": "stdout",
     "output_type": "stream",
     "text": [
      "                   all       1989       7169      0.682      0.518      0.593      0.297\n"
     ]
    },
    {
     "name": "stderr",
     "output_type": "stream",
     "text": [
      "\n"
     ]
    },
    {
     "name": "stdout",
     "output_type": "stream",
     "text": [
      "\n",
      "      Epoch    GPU_mem   box_loss   cls_loss   dfl_loss  Instances       Size\n"
     ]
    },
    {
     "name": "stderr",
     "output_type": "stream",
     "text": [
      "      9/100      1.27G       1.92      1.312      1.195          4        640: 100%|██████████| 2626/2626 [03:30<00:00, 12.50it/s]\n",
      "                 Class     Images  Instances      Box(P          R      mAP50  mAP50-95): 100%|██████████| 125/125 [00:09<00:00, 12.94it/s]"
     ]
    },
    {
     "name": "stdout",
     "output_type": "stream",
     "text": [
      "                   all       1989       7169      0.675      0.524      0.595      0.297\n"
     ]
    },
    {
     "name": "stderr",
     "output_type": "stream",
     "text": [
      "\n"
     ]
    },
    {
     "name": "stdout",
     "output_type": "stream",
     "text": [
      "\n",
      "      Epoch    GPU_mem   box_loss   cls_loss   dfl_loss  Instances       Size\n"
     ]
    },
    {
     "name": "stderr",
     "output_type": "stream",
     "text": [
      "     10/100      1.27G      1.895      1.287      1.188          1        640: 100%|██████████| 2626/2626 [03:31<00:00, 12.42it/s]\n",
      "                 Class     Images  Instances      Box(P          R      mAP50  mAP50-95): 100%|██████████| 125/125 [00:09<00:00, 12.83it/s]"
     ]
    },
    {
     "name": "stdout",
     "output_type": "stream",
     "text": [
      "                   all       1989       7169       0.68      0.554      0.618      0.311\n"
     ]
    },
    {
     "name": "stderr",
     "output_type": "stream",
     "text": [
      "\n"
     ]
    },
    {
     "name": "stdout",
     "output_type": "stream",
     "text": [
      "\n",
      "      Epoch    GPU_mem   box_loss   cls_loss   dfl_loss  Instances       Size\n"
     ]
    },
    {
     "name": "stderr",
     "output_type": "stream",
     "text": [
      "     11/100      1.27G      1.869      1.257      1.172          3        640: 100%|██████████| 2626/2626 [03:30<00:00, 12.50it/s]\n",
      "                 Class     Images  Instances      Box(P          R      mAP50  mAP50-95): 100%|██████████| 125/125 [00:09<00:00, 12.81it/s]"
     ]
    },
    {
     "name": "stdout",
     "output_type": "stream",
     "text": [
      "                   all       1989       7169      0.733      0.578      0.649      0.327\n"
     ]
    },
    {
     "name": "stderr",
     "output_type": "stream",
     "text": [
      "\n"
     ]
    },
    {
     "name": "stdout",
     "output_type": "stream",
     "text": [
      "\n",
      "      Epoch    GPU_mem   box_loss   cls_loss   dfl_loss  Instances       Size\n"
     ]
    },
    {
     "name": "stderr",
     "output_type": "stream",
     "text": [
      "     12/100      1.27G      1.847      1.231      1.168          4        640: 100%|██████████| 2626/2626 [03:31<00:00, 12.41it/s]\n",
      "                 Class     Images  Instances      Box(P          R      mAP50  mAP50-95): 100%|██████████| 125/125 [00:09<00:00, 13.04it/s]"
     ]
    },
    {
     "name": "stdout",
     "output_type": "stream",
     "text": [
      "                   all       1989       7169      0.732       0.58      0.647      0.334\n"
     ]
    },
    {
     "name": "stderr",
     "output_type": "stream",
     "text": [
      "\n"
     ]
    },
    {
     "name": "stdout",
     "output_type": "stream",
     "text": [
      "\n",
      "      Epoch    GPU_mem   box_loss   cls_loss   dfl_loss  Instances       Size\n"
     ]
    },
    {
     "name": "stderr",
     "output_type": "stream",
     "text": [
      "     13/100      1.26G      1.836      1.215      1.161          3        640: 100%|██████████| 2626/2626 [03:31<00:00, 12.42it/s]\n",
      "                 Class     Images  Instances      Box(P          R      mAP50  mAP50-95): 100%|██████████| 125/125 [00:09<00:00, 12.95it/s]"
     ]
    },
    {
     "name": "stdout",
     "output_type": "stream",
     "text": [
      "                   all       1989       7169      0.743       0.59      0.662       0.34\n"
     ]
    },
    {
     "name": "stderr",
     "output_type": "stream",
     "text": [
      "\n"
     ]
    },
    {
     "name": "stdout",
     "output_type": "stream",
     "text": [
      "\n",
      "      Epoch    GPU_mem   box_loss   cls_loss   dfl_loss  Instances       Size\n"
     ]
    },
    {
     "name": "stderr",
     "output_type": "stream",
     "text": [
      "     14/100      1.27G      1.816      1.191      1.153          2        640: 100%|██████████| 2626/2626 [03:31<00:00, 12.39it/s]\n",
      "                 Class     Images  Instances      Box(P          R      mAP50  mAP50-95): 100%|██████████| 125/125 [00:09<00:00, 12.82it/s]"
     ]
    },
    {
     "name": "stdout",
     "output_type": "stream",
     "text": [
      "                   all       1989       7169      0.758      0.594      0.671      0.345\n"
     ]
    },
    {
     "name": "stderr",
     "output_type": "stream",
     "text": [
      "\n"
     ]
    },
    {
     "name": "stdout",
     "output_type": "stream",
     "text": [
      "\n",
      "      Epoch    GPU_mem   box_loss   cls_loss   dfl_loss  Instances       Size\n"
     ]
    },
    {
     "name": "stderr",
     "output_type": "stream",
     "text": [
      "     15/100      1.26G      1.793      1.166      1.142          2        640: 100%|██████████| 2626/2626 [03:34<00:00, 12.27it/s]\n",
      "                 Class     Images  Instances      Box(P          R      mAP50  mAP50-95): 100%|██████████| 125/125 [00:09<00:00, 13.04it/s]"
     ]
    },
    {
     "name": "stdout",
     "output_type": "stream",
     "text": [
      "                   all       1989       7169      0.779      0.612      0.693      0.357\n"
     ]
    },
    {
     "name": "stderr",
     "output_type": "stream",
     "text": [
      "\n"
     ]
    },
    {
     "name": "stdout",
     "output_type": "stream",
     "text": [
      "\n",
      "      Epoch    GPU_mem   box_loss   cls_loss   dfl_loss  Instances       Size\n"
     ]
    },
    {
     "name": "stderr",
     "output_type": "stream",
     "text": [
      "     16/100      1.26G      1.785      1.159      1.142          5        640: 100%|██████████| 2626/2626 [03:30<00:00, 12.46it/s]\n",
      "                 Class     Images  Instances      Box(P          R      mAP50  mAP50-95): 100%|██████████| 125/125 [00:09<00:00, 13.09it/s]"
     ]
    },
    {
     "name": "stdout",
     "output_type": "stream",
     "text": [
      "                   all       1989       7169      0.767      0.612      0.692      0.364\n"
     ]
    },
    {
     "name": "stderr",
     "output_type": "stream",
     "text": [
      "\n"
     ]
    },
    {
     "name": "stdout",
     "output_type": "stream",
     "text": [
      "\n",
      "      Epoch    GPU_mem   box_loss   cls_loss   dfl_loss  Instances       Size\n"
     ]
    },
    {
     "name": "stderr",
     "output_type": "stream",
     "text": [
      "     17/100      1.27G      1.766      1.143      1.133          4        640: 100%|██████████| 2626/2626 [03:31<00:00, 12.42it/s]\n",
      "                 Class     Images  Instances      Box(P          R      mAP50  mAP50-95): 100%|██████████| 125/125 [00:09<00:00, 13.13it/s]"
     ]
    },
    {
     "name": "stdout",
     "output_type": "stream",
     "text": [
      "                   all       1989       7169      0.785      0.624      0.706      0.375\n"
     ]
    },
    {
     "name": "stderr",
     "output_type": "stream",
     "text": [
      "\n"
     ]
    },
    {
     "name": "stdout",
     "output_type": "stream",
     "text": [
      "\n",
      "      Epoch    GPU_mem   box_loss   cls_loss   dfl_loss  Instances       Size\n"
     ]
    },
    {
     "name": "stderr",
     "output_type": "stream",
     "text": [
      "     18/100      1.27G      1.751      1.122      1.125          3        640: 100%|██████████| 2626/2626 [03:33<00:00, 12.32it/s]\n",
      "                 Class     Images  Instances      Box(P          R      mAP50  mAP50-95): 100%|██████████| 125/125 [00:09<00:00, 12.83it/s]"
     ]
    },
    {
     "name": "stdout",
     "output_type": "stream",
     "text": [
      "                   all       1989       7169      0.797       0.63      0.716      0.374\n"
     ]
    },
    {
     "name": "stderr",
     "output_type": "stream",
     "text": [
      "\n"
     ]
    },
    {
     "name": "stdout",
     "output_type": "stream",
     "text": [
      "\n",
      "      Epoch    GPU_mem   box_loss   cls_loss   dfl_loss  Instances       Size\n"
     ]
    },
    {
     "name": "stderr",
     "output_type": "stream",
     "text": [
      "     19/100      1.26G       1.74      1.111      1.125          3        640: 100%|██████████| 2626/2626 [03:30<00:00, 12.50it/s]\n",
      "                 Class     Images  Instances      Box(P          R      mAP50  mAP50-95): 100%|██████████| 125/125 [00:09<00:00, 12.83it/s]"
     ]
    },
    {
     "name": "stdout",
     "output_type": "stream",
     "text": [
      "                   all       1989       7169      0.804      0.633      0.724      0.387\n"
     ]
    },
    {
     "name": "stderr",
     "output_type": "stream",
     "text": [
      "\n"
     ]
    },
    {
     "name": "stdout",
     "output_type": "stream",
     "text": [
      "\n",
      "      Epoch    GPU_mem   box_loss   cls_loss   dfl_loss  Instances       Size\n"
     ]
    },
    {
     "name": "stderr",
     "output_type": "stream",
     "text": [
      "     20/100      1.27G       1.73      1.093      1.118          3        640: 100%|██████████| 2626/2626 [03:31<00:00, 12.44it/s]\n",
      "                 Class     Images  Instances      Box(P          R      mAP50  mAP50-95): 100%|██████████| 125/125 [00:09<00:00, 13.40it/s]"
     ]
    },
    {
     "name": "stdout",
     "output_type": "stream",
     "text": [
      "                   all       1989       7169      0.821      0.644      0.737      0.395\n"
     ]
    },
    {
     "name": "stderr",
     "output_type": "stream",
     "text": [
      "\n"
     ]
    },
    {
     "name": "stdout",
     "output_type": "stream",
     "text": [
      "\n",
      "      Epoch    GPU_mem   box_loss   cls_loss   dfl_loss  Instances       Size\n"
     ]
    },
    {
     "name": "stderr",
     "output_type": "stream",
     "text": [
      "     21/100      1.26G      1.722      1.091      1.116         11        640: 100%|██████████| 2626/2626 [03:32<00:00, 12.37it/s]\n",
      "                 Class     Images  Instances      Box(P          R      mAP50  mAP50-95): 100%|██████████| 125/125 [00:09<00:00, 12.95it/s]"
     ]
    },
    {
     "name": "stdout",
     "output_type": "stream",
     "text": [
      "                   all       1989       7169      0.818      0.652      0.742      0.403\n"
     ]
    },
    {
     "name": "stderr",
     "output_type": "stream",
     "text": [
      "\n"
     ]
    },
    {
     "name": "stdout",
     "output_type": "stream",
     "text": [
      "\n",
      "      Epoch    GPU_mem   box_loss   cls_loss   dfl_loss  Instances       Size\n"
     ]
    },
    {
     "name": "stderr",
     "output_type": "stream",
     "text": [
      "     22/100      1.26G      1.715      1.074      1.114          4        640: 100%|██████████| 2626/2626 [03:30<00:00, 12.47it/s]\n",
      "                 Class     Images  Instances      Box(P          R      mAP50  mAP50-95): 100%|██████████| 125/125 [00:09<00:00, 12.98it/s]"
     ]
    },
    {
     "name": "stdout",
     "output_type": "stream",
     "text": [
      "                   all       1989       7169      0.831      0.654      0.747      0.402\n"
     ]
    },
    {
     "name": "stderr",
     "output_type": "stream",
     "text": [
      "\n"
     ]
    },
    {
     "name": "stdout",
     "output_type": "stream",
     "text": [
      "\n",
      "      Epoch    GPU_mem   box_loss   cls_loss   dfl_loss  Instances       Size\n"
     ]
    },
    {
     "name": "stderr",
     "output_type": "stream",
     "text": [
      "     23/100      1.27G      1.705      1.065       1.11          6        640: 100%|██████████| 2626/2626 [03:31<00:00, 12.40it/s]\n",
      "                 Class     Images  Instances      Box(P          R      mAP50  mAP50-95): 100%|██████████| 125/125 [00:09<00:00, 12.89it/s]"
     ]
    },
    {
     "name": "stdout",
     "output_type": "stream",
     "text": [
      "                   all       1989       7169      0.832      0.658      0.754      0.405\n"
     ]
    },
    {
     "name": "stderr",
     "output_type": "stream",
     "text": [
      "\n"
     ]
    },
    {
     "name": "stdout",
     "output_type": "stream",
     "text": [
      "\n",
      "      Epoch    GPU_mem   box_loss   cls_loss   dfl_loss  Instances       Size\n"
     ]
    },
    {
     "name": "stderr",
     "output_type": "stream",
     "text": [
      "     24/100      1.27G      1.694      1.052      1.106          4        640: 100%|██████████| 2626/2626 [03:30<00:00, 12.49it/s]\n",
      "                 Class     Images  Instances      Box(P          R      mAP50  mAP50-95): 100%|██████████| 125/125 [00:09<00:00, 12.97it/s]"
     ]
    },
    {
     "name": "stdout",
     "output_type": "stream",
     "text": [
      "                   all       1989       7169      0.842      0.659      0.759      0.409\n"
     ]
    },
    {
     "name": "stderr",
     "output_type": "stream",
     "text": [
      "\n"
     ]
    },
    {
     "name": "stdout",
     "output_type": "stream",
     "text": [
      "\n",
      "      Epoch    GPU_mem   box_loss   cls_loss   dfl_loss  Instances       Size\n"
     ]
    },
    {
     "name": "stderr",
     "output_type": "stream",
     "text": [
      "     25/100      1.27G      1.682      1.041      1.104          4        640: 100%|██████████| 2626/2626 [03:32<00:00, 12.38it/s]\n",
      "                 Class     Images  Instances      Box(P          R      mAP50  mAP50-95): 100%|██████████| 125/125 [00:09<00:00, 13.71it/s]"
     ]
    },
    {
     "name": "stdout",
     "output_type": "stream",
     "text": [
      "                   all       1989       7169      0.841       0.66       0.76      0.413\n"
     ]
    },
    {
     "name": "stderr",
     "output_type": "stream",
     "text": [
      "\n"
     ]
    },
    {
     "name": "stdout",
     "output_type": "stream",
     "text": [
      "\n",
      "      Epoch    GPU_mem   box_loss   cls_loss   dfl_loss  Instances       Size\n"
     ]
    },
    {
     "name": "stderr",
     "output_type": "stream",
     "text": [
      "     26/100      1.27G      1.679      1.035      1.099          4        640: 100%|██████████| 2626/2626 [03:30<00:00, 12.49it/s]\n",
      "                 Class     Images  Instances      Box(P          R      mAP50  mAP50-95): 100%|██████████| 125/125 [00:09<00:00, 12.99it/s]"
     ]
    },
    {
     "name": "stdout",
     "output_type": "stream",
     "text": [
      "                   all       1989       7169      0.846      0.659      0.763      0.414\n"
     ]
    },
    {
     "name": "stderr",
     "output_type": "stream",
     "text": [
      "\n"
     ]
    },
    {
     "name": "stdout",
     "output_type": "stream",
     "text": [
      "\n",
      "      Epoch    GPU_mem   box_loss   cls_loss   dfl_loss  Instances       Size\n"
     ]
    },
    {
     "name": "stderr",
     "output_type": "stream",
     "text": [
      "     27/100      1.27G      1.677      1.027      1.098          6        640: 100%|██████████| 2626/2626 [03:31<00:00, 12.41it/s]\n",
      "                 Class     Images  Instances      Box(P          R      mAP50  mAP50-95): 100%|██████████| 125/125 [00:09<00:00, 12.93it/s]"
     ]
    },
    {
     "name": "stdout",
     "output_type": "stream",
     "text": [
      "                   all       1989       7169       0.85      0.672      0.769       0.42\n"
     ]
    },
    {
     "name": "stderr",
     "output_type": "stream",
     "text": [
      "\n"
     ]
    },
    {
     "name": "stdout",
     "output_type": "stream",
     "text": [
      "\n",
      "      Epoch    GPU_mem   box_loss   cls_loss   dfl_loss  Instances       Size\n"
     ]
    },
    {
     "name": "stderr",
     "output_type": "stream",
     "text": [
      "     28/100      1.27G      1.658      1.009      1.091          2        640: 100%|██████████| 2626/2626 [03:32<00:00, 12.38it/s]\n",
      "                 Class     Images  Instances      Box(P          R      mAP50  mAP50-95): 100%|██████████| 125/125 [00:09<00:00, 12.91it/s]\n"
     ]
    },
    {
     "name": "stdout",
     "output_type": "stream",
     "text": [
      "                   all       1989       7169      0.854      0.677      0.777      0.424\n",
      "\n",
      "      Epoch    GPU_mem   box_loss   cls_loss   dfl_loss  Instances       Size\n"
     ]
    },
    {
     "name": "stderr",
     "output_type": "stream",
     "text": [
      "     29/100      1.26G      1.654      1.002      1.091          2        640: 100%|██████████| 2626/2626 [03:29<00:00, 12.52it/s]\n",
      "                 Class     Images  Instances      Box(P          R      mAP50  mAP50-95): 100%|██████████| 125/125 [00:09<00:00, 12.91it/s]"
     ]
    },
    {
     "name": "stdout",
     "output_type": "stream",
     "text": [
      "                   all       1989       7169      0.859      0.681      0.782       0.43\n"
     ]
    },
    {
     "name": "stderr",
     "output_type": "stream",
     "text": [
      "\n"
     ]
    },
    {
     "name": "stdout",
     "output_type": "stream",
     "text": [
      "\n",
      "      Epoch    GPU_mem   box_loss   cls_loss   dfl_loss  Instances       Size\n"
     ]
    },
    {
     "name": "stderr",
     "output_type": "stream",
     "text": [
      "     30/100      1.27G      1.645     0.9954       1.09          7        640: 100%|██████████| 2626/2626 [03:31<00:00, 12.44it/s]\n",
      "                 Class     Images  Instances      Box(P          R      mAP50  mAP50-95): 100%|██████████| 125/125 [00:09<00:00, 13.17it/s]"
     ]
    },
    {
     "name": "stdout",
     "output_type": "stream",
     "text": [
      "                   all       1989       7169      0.853      0.683      0.783      0.431\n"
     ]
    },
    {
     "name": "stderr",
     "output_type": "stream",
     "text": [
      "\n"
     ]
    },
    {
     "name": "stdout",
     "output_type": "stream",
     "text": [
      "\n",
      "      Epoch    GPU_mem   box_loss   cls_loss   dfl_loss  Instances       Size\n"
     ]
    },
    {
     "name": "stderr",
     "output_type": "stream",
     "text": [
      "     31/100      1.26G      1.634     0.9904      1.084          3        640: 100%|██████████| 2626/2626 [03:31<00:00, 12.40it/s]\n",
      "                 Class     Images  Instances      Box(P          R      mAP50  mAP50-95): 100%|██████████| 125/125 [00:09<00:00, 13.04it/s]"
     ]
    },
    {
     "name": "stdout",
     "output_type": "stream",
     "text": [
      "                   all       1989       7169      0.851      0.688      0.788      0.435\n"
     ]
    },
    {
     "name": "stderr",
     "output_type": "stream",
     "text": [
      "\n"
     ]
    },
    {
     "name": "stdout",
     "output_type": "stream",
     "text": [
      "\n",
      "      Epoch    GPU_mem   box_loss   cls_loss   dfl_loss  Instances       Size\n"
     ]
    },
    {
     "name": "stderr",
     "output_type": "stream",
     "text": [
      "     32/100      1.27G      1.632     0.9808      1.082          6        640: 100%|██████████| 2626/2626 [03:31<00:00, 12.41it/s]\n",
      "                 Class     Images  Instances      Box(P          R      mAP50  mAP50-95): 100%|██████████| 125/125 [00:09<00:00, 12.79it/s]"
     ]
    },
    {
     "name": "stdout",
     "output_type": "stream",
     "text": [
      "                   all       1989       7169      0.857      0.686       0.79      0.439\n"
     ]
    },
    {
     "name": "stderr",
     "output_type": "stream",
     "text": [
      "\n"
     ]
    },
    {
     "name": "stdout",
     "output_type": "stream",
     "text": [
      "\n",
      "      Epoch    GPU_mem   box_loss   cls_loss   dfl_loss  Instances       Size\n"
     ]
    },
    {
     "name": "stderr",
     "output_type": "stream",
     "text": [
      "     33/100      1.26G      1.624      0.971      1.079          1        640: 100%|██████████| 2626/2626 [03:32<00:00, 12.38it/s]\n",
      "                 Class     Images  Instances      Box(P          R      mAP50  mAP50-95): 100%|██████████| 125/125 [00:09<00:00, 13.05it/s]"
     ]
    },
    {
     "name": "stdout",
     "output_type": "stream",
     "text": [
      "                   all       1989       7169       0.86      0.689      0.794      0.441\n"
     ]
    },
    {
     "name": "stderr",
     "output_type": "stream",
     "text": [
      "\n"
     ]
    },
    {
     "name": "stdout",
     "output_type": "stream",
     "text": [
      "\n",
      "      Epoch    GPU_mem   box_loss   cls_loss   dfl_loss  Instances       Size\n"
     ]
    },
    {
     "name": "stderr",
     "output_type": "stream",
     "text": [
      "     34/100      1.26G      1.616     0.9603      1.076          2        640: 100%|██████████| 2626/2626 [03:32<00:00, 12.36it/s]\n",
      "                 Class     Images  Instances      Box(P          R      mAP50  mAP50-95): 100%|██████████| 125/125 [00:09<00:00, 12.65it/s]"
     ]
    },
    {
     "name": "stdout",
     "output_type": "stream",
     "text": [
      "                   all       1989       7169      0.864      0.693      0.797      0.442\n"
     ]
    },
    {
     "name": "stderr",
     "output_type": "stream",
     "text": [
      "\n"
     ]
    },
    {
     "name": "stdout",
     "output_type": "stream",
     "text": [
      "\n",
      "      Epoch    GPU_mem   box_loss   cls_loss   dfl_loss  Instances       Size\n"
     ]
    },
    {
     "name": "stderr",
     "output_type": "stream",
     "text": [
      "     35/100      1.27G      1.615     0.9603      1.076          8        640: 100%|██████████| 2626/2626 [03:30<00:00, 12.45it/s]\n",
      "                 Class     Images  Instances      Box(P          R      mAP50  mAP50-95): 100%|██████████| 125/125 [00:09<00:00, 12.57it/s]"
     ]
    },
    {
     "name": "stdout",
     "output_type": "stream",
     "text": [
      "                   all       1989       7169      0.866      0.692      0.798      0.445\n"
     ]
    },
    {
     "name": "stderr",
     "output_type": "stream",
     "text": [
      "\n"
     ]
    },
    {
     "name": "stdout",
     "output_type": "stream",
     "text": [
      "\n",
      "      Epoch    GPU_mem   box_loss   cls_loss   dfl_loss  Instances       Size\n"
     ]
    },
    {
     "name": "stderr",
     "output_type": "stream",
     "text": [
      "     36/100      1.27G       1.61     0.9516      1.073          5        640: 100%|██████████| 2626/2626 [03:30<00:00, 12.48it/s]\n",
      "                 Class     Images  Instances      Box(P          R      mAP50  mAP50-95): 100%|██████████| 125/125 [00:09<00:00, 12.84it/s]"
     ]
    },
    {
     "name": "stdout",
     "output_type": "stream",
     "text": [
      "                   all       1989       7169      0.871      0.697      0.802      0.447\n"
     ]
    },
    {
     "name": "stderr",
     "output_type": "stream",
     "text": [
      "\n"
     ]
    },
    {
     "name": "stdout",
     "output_type": "stream",
     "text": [
      "\n",
      "      Epoch    GPU_mem   box_loss   cls_loss   dfl_loss  Instances       Size\n"
     ]
    },
    {
     "name": "stderr",
     "output_type": "stream",
     "text": [
      "     37/100      1.27G      1.608     0.9511      1.073         11        640: 100%|██████████| 2626/2626 [03:30<00:00, 12.48it/s]\n",
      "                 Class     Images  Instances      Box(P          R      mAP50  mAP50-95): 100%|██████████| 125/125 [00:09<00:00, 12.73it/s]"
     ]
    },
    {
     "name": "stdout",
     "output_type": "stream",
     "text": [
      "                   all       1989       7169      0.874        0.7      0.804      0.449\n"
     ]
    },
    {
     "name": "stderr",
     "output_type": "stream",
     "text": [
      "\n"
     ]
    },
    {
     "name": "stdout",
     "output_type": "stream",
     "text": [
      "\n",
      "      Epoch    GPU_mem   box_loss   cls_loss   dfl_loss  Instances       Size\n"
     ]
    },
    {
     "name": "stderr",
     "output_type": "stream",
     "text": [
      "     38/100      1.26G        1.6      0.943      1.069          2        640: 100%|██████████| 2626/2626 [03:32<00:00, 12.38it/s]\n",
      "                 Class     Images  Instances      Box(P          R      mAP50  mAP50-95): 100%|██████████| 125/125 [00:09<00:00, 13.16it/s]"
     ]
    },
    {
     "name": "stdout",
     "output_type": "stream",
     "text": [
      "                   all       1989       7169      0.875      0.701      0.807      0.452\n"
     ]
    },
    {
     "name": "stderr",
     "output_type": "stream",
     "text": [
      "\n"
     ]
    },
    {
     "name": "stdout",
     "output_type": "stream",
     "text": [
      "\n",
      "      Epoch    GPU_mem   box_loss   cls_loss   dfl_loss  Instances       Size\n"
     ]
    },
    {
     "name": "stderr",
     "output_type": "stream",
     "text": [
      "     39/100      1.27G      1.586     0.9337      1.065          4        640: 100%|██████████| 2626/2626 [03:32<00:00, 12.37it/s]\n",
      "                 Class     Images  Instances      Box(P          R      mAP50  mAP50-95): 100%|██████████| 125/125 [00:09<00:00, 12.86it/s]"
     ]
    },
    {
     "name": "stdout",
     "output_type": "stream",
     "text": [
      "                   all       1989       7169      0.877      0.706       0.81      0.454\n"
     ]
    },
    {
     "name": "stderr",
     "output_type": "stream",
     "text": [
      "\n"
     ]
    },
    {
     "name": "stdout",
     "output_type": "stream",
     "text": [
      "\n",
      "      Epoch    GPU_mem   box_loss   cls_loss   dfl_loss  Instances       Size\n"
     ]
    },
    {
     "name": "stderr",
     "output_type": "stream",
     "text": [
      "     40/100      1.27G      1.588     0.9249      1.064          3        640: 100%|██████████| 2626/2626 [03:30<00:00, 12.48it/s]\n",
      "                 Class     Images  Instances      Box(P          R      mAP50  mAP50-95): 100%|██████████| 125/125 [00:09<00:00, 12.85it/s]"
     ]
    },
    {
     "name": "stdout",
     "output_type": "stream",
     "text": [
      "                   all       1989       7169      0.879      0.706       0.81      0.455\n"
     ]
    },
    {
     "name": "stderr",
     "output_type": "stream",
     "text": [
      "\n"
     ]
    },
    {
     "name": "stdout",
     "output_type": "stream",
     "text": [
      "\n",
      "      Epoch    GPU_mem   box_loss   cls_loss   dfl_loss  Instances       Size\n"
     ]
    },
    {
     "name": "stderr",
     "output_type": "stream",
     "text": [
      "     41/100      1.27G      1.578     0.9167      1.063          6        640: 100%|██████████| 2626/2626 [03:29<00:00, 12.53it/s]\n",
      "                 Class     Images  Instances      Box(P          R      mAP50  mAP50-95): 100%|██████████| 125/125 [00:09<00:00, 13.33it/s]"
     ]
    },
    {
     "name": "stdout",
     "output_type": "stream",
     "text": [
      "                   all       1989       7169       0.88      0.706      0.811      0.456\n"
     ]
    },
    {
     "name": "stderr",
     "output_type": "stream",
     "text": [
      "\n"
     ]
    },
    {
     "name": "stdout",
     "output_type": "stream",
     "text": [
      "\n",
      "      Epoch    GPU_mem   box_loss   cls_loss   dfl_loss  Instances       Size\n"
     ]
    },
    {
     "name": "stderr",
     "output_type": "stream",
     "text": [
      "     42/100      1.26G      1.573     0.9141       1.06          4        640: 100%|██████████| 2626/2626 [03:29<00:00, 12.54it/s]\n",
      "                 Class     Images  Instances      Box(P          R      mAP50  mAP50-95): 100%|██████████| 125/125 [00:09<00:00, 13.12it/s]"
     ]
    },
    {
     "name": "stdout",
     "output_type": "stream",
     "text": [
      "                   all       1989       7169      0.881      0.706      0.811      0.458\n"
     ]
    },
    {
     "name": "stderr",
     "output_type": "stream",
     "text": [
      "\n"
     ]
    },
    {
     "name": "stdout",
     "output_type": "stream",
     "text": [
      "\n",
      "      Epoch    GPU_mem   box_loss   cls_loss   dfl_loss  Instances       Size\n"
     ]
    },
    {
     "name": "stderr",
     "output_type": "stream",
     "text": [
      "     43/100      1.27G      1.567     0.9077      1.061          7        640: 100%|██████████| 2626/2626 [03:32<00:00, 12.36it/s]\n",
      "                 Class     Images  Instances      Box(P          R      mAP50  mAP50-95): 100%|██████████| 125/125 [00:09<00:00, 12.57it/s]"
     ]
    },
    {
     "name": "stdout",
     "output_type": "stream",
     "text": [
      "                   all       1989       7169      0.887      0.705      0.811      0.459\n"
     ]
    },
    {
     "name": "stderr",
     "output_type": "stream",
     "text": [
      "\n"
     ]
    },
    {
     "name": "stdout",
     "output_type": "stream",
     "text": [
      "\n",
      "      Epoch    GPU_mem   box_loss   cls_loss   dfl_loss  Instances       Size\n"
     ]
    },
    {
     "name": "stderr",
     "output_type": "stream",
     "text": [
      "     44/100      1.26G      1.569     0.9015       1.06          2        640: 100%|██████████| 2626/2626 [03:34<00:00, 12.26it/s]\n",
      "                 Class     Images  Instances      Box(P          R      mAP50  mAP50-95): 100%|██████████| 125/125 [00:09<00:00, 12.69it/s]"
     ]
    },
    {
     "name": "stdout",
     "output_type": "stream",
     "text": [
      "                   all       1989       7169      0.885      0.708      0.812      0.461\n"
     ]
    },
    {
     "name": "stderr",
     "output_type": "stream",
     "text": [
      "\n"
     ]
    },
    {
     "name": "stdout",
     "output_type": "stream",
     "text": [
      "\n",
      "      Epoch    GPU_mem   box_loss   cls_loss   dfl_loss  Instances       Size\n"
     ]
    },
    {
     "name": "stderr",
     "output_type": "stream",
     "text": [
      "     45/100      1.26G      1.556     0.8951      1.054          4        640: 100%|██████████| 2626/2626 [03:30<00:00, 12.47it/s]\n",
      "                 Class     Images  Instances      Box(P          R      mAP50  mAP50-95): 100%|██████████| 125/125 [00:09<00:00, 13.05it/s]"
     ]
    },
    {
     "name": "stdout",
     "output_type": "stream",
     "text": [
      "                   all       1989       7169      0.888      0.706      0.813      0.462\n"
     ]
    },
    {
     "name": "stderr",
     "output_type": "stream",
     "text": [
      "\n"
     ]
    },
    {
     "name": "stdout",
     "output_type": "stream",
     "text": [
      "\n",
      "      Epoch    GPU_mem   box_loss   cls_loss   dfl_loss  Instances       Size\n"
     ]
    },
    {
     "name": "stderr",
     "output_type": "stream",
     "text": [
      "     46/100      1.26G      1.548     0.8893      1.056          2        640: 100%|██████████| 2626/2626 [03:32<00:00, 12.37it/s]\n",
      "                 Class     Images  Instances      Box(P          R      mAP50  mAP50-95): 100%|██████████| 125/125 [00:09<00:00, 13.58it/s]"
     ]
    },
    {
     "name": "stdout",
     "output_type": "stream",
     "text": [
      "                   all       1989       7169      0.886      0.709      0.814      0.463\n"
     ]
    },
    {
     "name": "stderr",
     "output_type": "stream",
     "text": [
      "\n"
     ]
    },
    {
     "name": "stdout",
     "output_type": "stream",
     "text": [
      "\n",
      "      Epoch    GPU_mem   box_loss   cls_loss   dfl_loss  Instances       Size\n"
     ]
    },
    {
     "name": "stderr",
     "output_type": "stream",
     "text": [
      "     47/100      1.27G      1.549     0.8871      1.056          4        640: 100%|██████████| 2626/2626 [03:30<00:00, 12.47it/s]\n",
      "                 Class     Images  Instances      Box(P          R      mAP50  mAP50-95): 100%|██████████| 125/125 [00:09<00:00, 13.02it/s]"
     ]
    },
    {
     "name": "stdout",
     "output_type": "stream",
     "text": [
      "                   all       1989       7169      0.885      0.711      0.815      0.463\n"
     ]
    },
    {
     "name": "stderr",
     "output_type": "stream",
     "text": [
      "\n"
     ]
    },
    {
     "name": "stdout",
     "output_type": "stream",
     "text": [
      "\n",
      "      Epoch    GPU_mem   box_loss   cls_loss   dfl_loss  Instances       Size\n"
     ]
    },
    {
     "name": "stderr",
     "output_type": "stream",
     "text": [
      "     48/100      1.26G      1.536     0.8775       1.05          3        640: 100%|██████████| 2626/2626 [03:28<00:00, 12.59it/s]\n",
      "                 Class     Images  Instances      Box(P          R      mAP50  mAP50-95): 100%|██████████| 125/125 [00:09<00:00, 12.77it/s]"
     ]
    },
    {
     "name": "stdout",
     "output_type": "stream",
     "text": [
      "                   all       1989       7169      0.883      0.714      0.818      0.465\n"
     ]
    },
    {
     "name": "stderr",
     "output_type": "stream",
     "text": [
      "\n"
     ]
    },
    {
     "name": "stdout",
     "output_type": "stream",
     "text": [
      "\n",
      "      Epoch    GPU_mem   box_loss   cls_loss   dfl_loss  Instances       Size\n"
     ]
    },
    {
     "name": "stderr",
     "output_type": "stream",
     "text": [
      "     49/100      1.26G      1.533      0.871      1.051          4        640: 100%|██████████| 2626/2626 [03:29<00:00, 12.51it/s]\n",
      "                 Class     Images  Instances      Box(P          R      mAP50  mAP50-95): 100%|██████████| 125/125 [00:09<00:00, 13.09it/s]"
     ]
    },
    {
     "name": "stdout",
     "output_type": "stream",
     "text": [
      "                   all       1989       7169      0.882      0.715      0.819      0.466\n"
     ]
    },
    {
     "name": "stderr",
     "output_type": "stream",
     "text": [
      "\n"
     ]
    },
    {
     "name": "stdout",
     "output_type": "stream",
     "text": [
      "\n",
      "      Epoch    GPU_mem   box_loss   cls_loss   dfl_loss  Instances       Size\n"
     ]
    },
    {
     "name": "stderr",
     "output_type": "stream",
     "text": [
      "     50/100      1.27G      1.529     0.8666      1.049          8        640: 100%|██████████| 2626/2626 [03:31<00:00, 12.44it/s]\n",
      "                 Class     Images  Instances      Box(P          R      mAP50  mAP50-95): 100%|██████████| 125/125 [00:09<00:00, 12.79it/s]"
     ]
    },
    {
     "name": "stdout",
     "output_type": "stream",
     "text": [
      "                   all       1989       7169      0.882      0.718      0.821      0.466\n"
     ]
    },
    {
     "name": "stderr",
     "output_type": "stream",
     "text": [
      "\n"
     ]
    },
    {
     "name": "stdout",
     "output_type": "stream",
     "text": [
      "\n",
      "      Epoch    GPU_mem   box_loss   cls_loss   dfl_loss  Instances       Size\n"
     ]
    },
    {
     "name": "stderr",
     "output_type": "stream",
     "text": [
      "     51/100      1.26G      1.527     0.8637      1.046          3        640: 100%|██████████| 2626/2626 [03:32<00:00, 12.35it/s]\n",
      "                 Class     Images  Instances      Box(P          R      mAP50  mAP50-95): 100%|██████████| 125/125 [00:09<00:00, 13.04it/s]"
     ]
    },
    {
     "name": "stdout",
     "output_type": "stream",
     "text": [
      "                   all       1989       7169       0.88      0.718      0.822      0.467\n"
     ]
    },
    {
     "name": "stderr",
     "output_type": "stream",
     "text": [
      "\n"
     ]
    },
    {
     "name": "stdout",
     "output_type": "stream",
     "text": [
      "\n",
      "      Epoch    GPU_mem   box_loss   cls_loss   dfl_loss  Instances       Size\n"
     ]
    },
    {
     "name": "stderr",
     "output_type": "stream",
     "text": [
      "     52/100      1.27G      1.526     0.8628      1.043          8        640: 100%|██████████| 2626/2626 [03:31<00:00, 12.44it/s]\n",
      "                 Class     Images  Instances      Box(P          R      mAP50  mAP50-95): 100%|██████████| 125/125 [00:09<00:00, 13.12it/s]"
     ]
    },
    {
     "name": "stdout",
     "output_type": "stream",
     "text": [
      "                   all       1989       7169      0.882       0.72      0.823      0.469\n"
     ]
    },
    {
     "name": "stderr",
     "output_type": "stream",
     "text": [
      "\n"
     ]
    },
    {
     "name": "stdout",
     "output_type": "stream",
     "text": [
      "\n",
      "      Epoch    GPU_mem   box_loss   cls_loss   dfl_loss  Instances       Size\n"
     ]
    },
    {
     "name": "stderr",
     "output_type": "stream",
     "text": [
      "     53/100      1.26G      1.515     0.8535      1.041          4        640: 100%|██████████| 2626/2626 [03:28<00:00, 12.57it/s]\n",
      "                 Class     Images  Instances      Box(P          R      mAP50  mAP50-95): 100%|██████████| 125/125 [00:09<00:00, 12.97it/s]"
     ]
    },
    {
     "name": "stdout",
     "output_type": "stream",
     "text": [
      "                   all       1989       7169      0.882      0.722      0.824       0.47\n"
     ]
    },
    {
     "name": "stderr",
     "output_type": "stream",
     "text": [
      "\n"
     ]
    },
    {
     "name": "stdout",
     "output_type": "stream",
     "text": [
      "\n",
      "      Epoch    GPU_mem   box_loss   cls_loss   dfl_loss  Instances       Size\n"
     ]
    },
    {
     "name": "stderr",
     "output_type": "stream",
     "text": [
      "     54/100      1.27G      1.509     0.8473      1.036          5        640: 100%|██████████| 2626/2626 [03:32<00:00, 12.36it/s]\n",
      "                 Class     Images  Instances      Box(P          R      mAP50  mAP50-95): 100%|██████████| 125/125 [00:09<00:00, 12.96it/s]"
     ]
    },
    {
     "name": "stdout",
     "output_type": "stream",
     "text": [
      "                   all       1989       7169      0.882      0.723      0.825       0.47\n"
     ]
    },
    {
     "name": "stderr",
     "output_type": "stream",
     "text": [
      "\n"
     ]
    },
    {
     "name": "stdout",
     "output_type": "stream",
     "text": [
      "\n",
      "      Epoch    GPU_mem   box_loss   cls_loss   dfl_loss  Instances       Size\n"
     ]
    },
    {
     "name": "stderr",
     "output_type": "stream",
     "text": [
      "     55/100      1.27G      1.505     0.8431      1.038         12        640: 100%|██████████| 2626/2626 [03:29<00:00, 12.56it/s]\n",
      "                 Class     Images  Instances      Box(P          R      mAP50  mAP50-95): 100%|██████████| 125/125 [00:09<00:00, 12.96it/s]"
     ]
    },
    {
     "name": "stdout",
     "output_type": "stream",
     "text": [
      "                   all       1989       7169      0.883      0.725      0.826      0.471\n"
     ]
    },
    {
     "name": "stderr",
     "output_type": "stream",
     "text": [
      "\n"
     ]
    },
    {
     "name": "stdout",
     "output_type": "stream",
     "text": [
      "\n",
      "      Epoch    GPU_mem   box_loss   cls_loss   dfl_loss  Instances       Size\n"
     ]
    },
    {
     "name": "stderr",
     "output_type": "stream",
     "text": [
      "     56/100      1.26G      1.497     0.8367      1.038          8        640: 100%|██████████| 2626/2626 [03:31<00:00, 12.41it/s]\n",
      "                 Class     Images  Instances      Box(P          R      mAP50  mAP50-95): 100%|██████████| 125/125 [00:09<00:00, 13.14it/s]"
     ]
    },
    {
     "name": "stdout",
     "output_type": "stream",
     "text": [
      "                   all       1989       7169      0.882      0.726      0.826      0.471\n"
     ]
    },
    {
     "name": "stderr",
     "output_type": "stream",
     "text": [
      "\n"
     ]
    },
    {
     "name": "stdout",
     "output_type": "stream",
     "text": [
      "\n",
      "      Epoch    GPU_mem   box_loss   cls_loss   dfl_loss  Instances       Size\n"
     ]
    },
    {
     "name": "stderr",
     "output_type": "stream",
     "text": [
      "     57/100      1.26G      1.487     0.8272      1.035          4        640: 100%|██████████| 2626/2626 [03:33<00:00, 12.28it/s]\n",
      "                 Class     Images  Instances      Box(P          R      mAP50  mAP50-95): 100%|██████████| 125/125 [00:09<00:00, 12.64it/s]"
     ]
    },
    {
     "name": "stdout",
     "output_type": "stream",
     "text": [
      "                   all       1989       7169      0.883      0.727      0.827      0.472\n"
     ]
    },
    {
     "name": "stderr",
     "output_type": "stream",
     "text": [
      "\n"
     ]
    },
    {
     "name": "stdout",
     "output_type": "stream",
     "text": [
      "\n",
      "      Epoch    GPU_mem   box_loss   cls_loss   dfl_loss  Instances       Size\n"
     ]
    },
    {
     "name": "stderr",
     "output_type": "stream",
     "text": [
      "     58/100      1.27G      1.487     0.8242      1.034         11        640: 100%|██████████| 2626/2626 [03:31<00:00, 12.40it/s]\n",
      "                 Class     Images  Instances      Box(P          R      mAP50  mAP50-95): 100%|██████████| 125/125 [00:09<00:00, 12.91it/s]"
     ]
    },
    {
     "name": "stdout",
     "output_type": "stream",
     "text": [
      "                   all       1989       7169      0.883      0.727      0.827      0.473\n"
     ]
    },
    {
     "name": "stderr",
     "output_type": "stream",
     "text": [
      "\n"
     ]
    },
    {
     "name": "stdout",
     "output_type": "stream",
     "text": [
      "\n",
      "      Epoch    GPU_mem   box_loss   cls_loss   dfl_loss  Instances       Size\n"
     ]
    },
    {
     "name": "stderr",
     "output_type": "stream",
     "text": [
      "     59/100      1.27G      1.485     0.8302      1.032          8        640: 100%|██████████| 2626/2626 [03:34<00:00, 12.27it/s]\n",
      "                 Class     Images  Instances      Box(P          R      mAP50  mAP50-95): 100%|██████████| 125/125 [00:09<00:00, 13.07it/s]"
     ]
    },
    {
     "name": "stdout",
     "output_type": "stream",
     "text": [
      "                   all       1989       7169      0.883      0.729      0.828      0.473\n"
     ]
    },
    {
     "name": "stderr",
     "output_type": "stream",
     "text": [
      "\n"
     ]
    },
    {
     "name": "stdout",
     "output_type": "stream",
     "text": [
      "\n",
      "      Epoch    GPU_mem   box_loss   cls_loss   dfl_loss  Instances       Size\n"
     ]
    },
    {
     "name": "stderr",
     "output_type": "stream",
     "text": [
      "     60/100      1.26G      1.476     0.8213      1.028          2        640: 100%|██████████| 2626/2626 [03:32<00:00, 12.37it/s]\n",
      "                 Class     Images  Instances      Box(P          R      mAP50  mAP50-95): 100%|██████████| 125/125 [00:09<00:00, 13.11it/s]"
     ]
    },
    {
     "name": "stdout",
     "output_type": "stream",
     "text": [
      "                   all       1989       7169      0.882       0.73      0.828      0.474\n"
     ]
    },
    {
     "name": "stderr",
     "output_type": "stream",
     "text": [
      "\n"
     ]
    },
    {
     "name": "stdout",
     "output_type": "stream",
     "text": [
      "\n",
      "      Epoch    GPU_mem   box_loss   cls_loss   dfl_loss  Instances       Size\n"
     ]
    },
    {
     "name": "stderr",
     "output_type": "stream",
     "text": [
      "     61/100      1.26G       1.48      0.818      1.028          1        640: 100%|██████████| 2626/2626 [03:28<00:00, 12.58it/s]\n",
      "                 Class     Images  Instances      Box(P          R      mAP50  mAP50-95): 100%|██████████| 125/125 [00:09<00:00, 12.88it/s]"
     ]
    },
    {
     "name": "stdout",
     "output_type": "stream",
     "text": [
      "                   all       1989       7169      0.879      0.731      0.828      0.475\n"
     ]
    },
    {
     "name": "stderr",
     "output_type": "stream",
     "text": [
      "\n"
     ]
    },
    {
     "name": "stdout",
     "output_type": "stream",
     "text": [
      "\n",
      "      Epoch    GPU_mem   box_loss   cls_loss   dfl_loss  Instances       Size\n"
     ]
    },
    {
     "name": "stderr",
     "output_type": "stream",
     "text": [
      "     62/100      1.26G       1.47     0.8112      1.027          1        640: 100%|██████████| 2626/2626 [03:31<00:00, 12.41it/s]\n",
      "                 Class     Images  Instances      Box(P          R      mAP50  mAP50-95): 100%|██████████| 125/125 [00:09<00:00, 12.96it/s]"
     ]
    },
    {
     "name": "stdout",
     "output_type": "stream",
     "text": [
      "                   all       1989       7169      0.879      0.732      0.829      0.475\n"
     ]
    },
    {
     "name": "stderr",
     "output_type": "stream",
     "text": [
      "\n"
     ]
    },
    {
     "name": "stdout",
     "output_type": "stream",
     "text": [
      "\n",
      "      Epoch    GPU_mem   box_loss   cls_loss   dfl_loss  Instances       Size\n"
     ]
    },
    {
     "name": "stderr",
     "output_type": "stream",
     "text": [
      "     63/100      1.27G      1.468     0.8066      1.024          8        640: 100%|██████████| 2626/2626 [03:32<00:00, 12.38it/s]\n",
      "                 Class     Images  Instances      Box(P          R      mAP50  mAP50-95): 100%|██████████| 125/125 [00:09<00:00, 12.83it/s]"
     ]
    },
    {
     "name": "stdout",
     "output_type": "stream",
     "text": [
      "                   all       1989       7169      0.879      0.735      0.829      0.476\n"
     ]
    },
    {
     "name": "stderr",
     "output_type": "stream",
     "text": [
      "\n"
     ]
    },
    {
     "name": "stdout",
     "output_type": "stream",
     "text": [
      "\n",
      "      Epoch    GPU_mem   box_loss   cls_loss   dfl_loss  Instances       Size\n"
     ]
    },
    {
     "name": "stderr",
     "output_type": "stream",
     "text": [
      "     64/100      1.26G      1.462     0.8012      1.024          8        640: 100%|██████████| 2626/2626 [03:31<00:00, 12.39it/s]\n",
      "                 Class     Images  Instances      Box(P          R      mAP50  mAP50-95): 100%|██████████| 125/125 [00:09<00:00, 13.22it/s]"
     ]
    },
    {
     "name": "stdout",
     "output_type": "stream",
     "text": [
      "                   all       1989       7169      0.883      0.734       0.83      0.477\n"
     ]
    },
    {
     "name": "stderr",
     "output_type": "stream",
     "text": [
      "\n"
     ]
    },
    {
     "name": "stdout",
     "output_type": "stream",
     "text": [
      "\n",
      "      Epoch    GPU_mem   box_loss   cls_loss   dfl_loss  Instances       Size\n"
     ]
    },
    {
     "name": "stderr",
     "output_type": "stream",
     "text": [
      "     65/100      1.26G       1.45     0.7909      1.019          1        640: 100%|██████████| 2626/2626 [03:30<00:00, 12.47it/s]\n",
      "                 Class     Images  Instances      Box(P          R      mAP50  mAP50-95): 100%|██████████| 125/125 [00:09<00:00, 12.86it/s]"
     ]
    },
    {
     "name": "stdout",
     "output_type": "stream",
     "text": [
      "                   all       1989       7169      0.883      0.736      0.831      0.477\n"
     ]
    },
    {
     "name": "stderr",
     "output_type": "stream",
     "text": [
      "\n"
     ]
    },
    {
     "name": "stdout",
     "output_type": "stream",
     "text": [
      "\n",
      "      Epoch    GPU_mem   box_loss   cls_loss   dfl_loss  Instances       Size\n"
     ]
    },
    {
     "name": "stderr",
     "output_type": "stream",
     "text": [
      "     66/100      1.27G      1.448     0.7909      1.018          5        640: 100%|██████████| 2626/2626 [03:30<00:00, 12.48it/s]\n",
      "                 Class     Images  Instances      Box(P          R      mAP50  mAP50-95): 100%|██████████| 125/125 [00:09<00:00, 12.70it/s]"
     ]
    },
    {
     "name": "stdout",
     "output_type": "stream",
     "text": [
      "                   all       1989       7169      0.883      0.736      0.831      0.478\n"
     ]
    },
    {
     "name": "stderr",
     "output_type": "stream",
     "text": [
      "\n"
     ]
    },
    {
     "name": "stdout",
     "output_type": "stream",
     "text": [
      "\n",
      "      Epoch    GPU_mem   box_loss   cls_loss   dfl_loss  Instances       Size\n"
     ]
    },
    {
     "name": "stderr",
     "output_type": "stream",
     "text": [
      "     67/100      1.27G      1.441     0.7835      1.018          9        640: 100%|██████████| 2626/2626 [03:33<00:00, 12.32it/s]\n",
      "                 Class     Images  Instances      Box(P          R      mAP50  mAP50-95): 100%|██████████| 125/125 [00:09<00:00, 13.00it/s]"
     ]
    },
    {
     "name": "stdout",
     "output_type": "stream",
     "text": [
      "                   all       1989       7169      0.882      0.738      0.832      0.478\n"
     ]
    },
    {
     "name": "stderr",
     "output_type": "stream",
     "text": [
      "\n"
     ]
    },
    {
     "name": "stdout",
     "output_type": "stream",
     "text": [
      "\n",
      "      Epoch    GPU_mem   box_loss   cls_loss   dfl_loss  Instances       Size\n"
     ]
    },
    {
     "name": "stderr",
     "output_type": "stream",
     "text": [
      "     68/100      1.26G      1.433     0.7794      1.014          4        640: 100%|██████████| 2626/2626 [03:30<00:00, 12.48it/s]\n",
      "                 Class     Images  Instances      Box(P          R      mAP50  mAP50-95): 100%|██████████| 125/125 [00:09<00:00, 12.75it/s]"
     ]
    },
    {
     "name": "stdout",
     "output_type": "stream",
     "text": [
      "                   all       1989       7169      0.886      0.737      0.832      0.479\n"
     ]
    },
    {
     "name": "stderr",
     "output_type": "stream",
     "text": [
      "\n"
     ]
    },
    {
     "name": "stdout",
     "output_type": "stream",
     "text": [
      "\n",
      "      Epoch    GPU_mem   box_loss   cls_loss   dfl_loss  Instances       Size\n"
     ]
    },
    {
     "name": "stderr",
     "output_type": "stream",
     "text": [
      "     69/100      1.27G      1.431     0.7726      1.014          8        640: 100%|██████████| 2626/2626 [03:30<00:00, 12.47it/s]\n",
      "                 Class     Images  Instances      Box(P          R      mAP50  mAP50-95): 100%|██████████| 125/125 [00:09<00:00, 13.13it/s]"
     ]
    },
    {
     "name": "stdout",
     "output_type": "stream",
     "text": [
      "                   all       1989       7169      0.884      0.739      0.832       0.48\n"
     ]
    },
    {
     "name": "stderr",
     "output_type": "stream",
     "text": [
      "\n"
     ]
    },
    {
     "name": "stdout",
     "output_type": "stream",
     "text": [
      "\n",
      "      Epoch    GPU_mem   box_loss   cls_loss   dfl_loss  Instances       Size\n"
     ]
    },
    {
     "name": "stderr",
     "output_type": "stream",
     "text": [
      "     70/100      1.27G      1.425     0.7723      1.012          7        640: 100%|██████████| 2626/2626 [03:32<00:00, 12.34it/s]\n",
      "                 Class     Images  Instances      Box(P          R      mAP50  mAP50-95): 100%|██████████| 125/125 [00:09<00:00, 12.96it/s]"
     ]
    },
    {
     "name": "stdout",
     "output_type": "stream",
     "text": [
      "                   all       1989       7169      0.887      0.737      0.833       0.48\n"
     ]
    },
    {
     "name": "stderr",
     "output_type": "stream",
     "text": [
      "\n"
     ]
    },
    {
     "name": "stdout",
     "output_type": "stream",
     "text": [
      "\n",
      "      Epoch    GPU_mem   box_loss   cls_loss   dfl_loss  Instances       Size\n"
     ]
    },
    {
     "name": "stderr",
     "output_type": "stream",
     "text": [
      "     71/100      1.27G      1.423     0.7648      1.009         11        640: 100%|██████████| 2626/2626 [03:29<00:00, 12.53it/s]\n",
      "                 Class     Images  Instances      Box(P          R      mAP50  mAP50-95): 100%|██████████| 125/125 [00:09<00:00, 12.79it/s]"
     ]
    },
    {
     "name": "stdout",
     "output_type": "stream",
     "text": [
      "                   all       1989       7169      0.888      0.738      0.834      0.481\n"
     ]
    },
    {
     "name": "stderr",
     "output_type": "stream",
     "text": [
      "\n"
     ]
    },
    {
     "name": "stdout",
     "output_type": "stream",
     "text": [
      "\n",
      "      Epoch    GPU_mem   box_loss   cls_loss   dfl_loss  Instances       Size\n"
     ]
    },
    {
     "name": "stderr",
     "output_type": "stream",
     "text": [
      "     72/100      1.27G      1.416     0.7639      1.007          6        640: 100%|██████████| 2626/2626 [03:31<00:00, 12.39it/s]\n",
      "                 Class     Images  Instances      Box(P          R      mAP50  mAP50-95): 100%|██████████| 125/125 [00:09<00:00, 13.22it/s]"
     ]
    },
    {
     "name": "stdout",
     "output_type": "stream",
     "text": [
      "                   all       1989       7169       0.89      0.739      0.835      0.482\n"
     ]
    },
    {
     "name": "stderr",
     "output_type": "stream",
     "text": [
      "\n"
     ]
    },
    {
     "name": "stdout",
     "output_type": "stream",
     "text": [
      "\n",
      "      Epoch    GPU_mem   box_loss   cls_loss   dfl_loss  Instances       Size\n"
     ]
    },
    {
     "name": "stderr",
     "output_type": "stream",
     "text": [
      "     73/100      1.26G       1.41     0.7578      1.007          4        640: 100%|██████████| 2626/2626 [03:31<00:00, 12.39it/s]\n",
      "                 Class     Images  Instances      Box(P          R      mAP50  mAP50-95): 100%|██████████| 125/125 [00:09<00:00, 13.21it/s]"
     ]
    },
    {
     "name": "stdout",
     "output_type": "stream",
     "text": [
      "                   all       1989       7169       0.89      0.739      0.834      0.482\n"
     ]
    },
    {
     "name": "stderr",
     "output_type": "stream",
     "text": [
      "\n"
     ]
    },
    {
     "name": "stdout",
     "output_type": "stream",
     "text": [
      "\n",
      "      Epoch    GPU_mem   box_loss   cls_loss   dfl_loss  Instances       Size\n"
     ]
    },
    {
     "name": "stderr",
     "output_type": "stream",
     "text": [
      "     74/100      1.26G        1.4     0.7491      1.003          5        640: 100%|██████████| 2626/2626 [03:30<00:00, 12.48it/s]\n",
      "                 Class     Images  Instances      Box(P          R      mAP50  mAP50-95): 100%|██████████| 125/125 [00:09<00:00, 13.19it/s]"
     ]
    },
    {
     "name": "stdout",
     "output_type": "stream",
     "text": [
      "                   all       1989       7169      0.887      0.741      0.835      0.483\n"
     ]
    },
    {
     "name": "stderr",
     "output_type": "stream",
     "text": [
      "\n"
     ]
    },
    {
     "name": "stdout",
     "output_type": "stream",
     "text": [
      "\n",
      "      Epoch    GPU_mem   box_loss   cls_loss   dfl_loss  Instances       Size\n"
     ]
    },
    {
     "name": "stderr",
     "output_type": "stream",
     "text": [
      "     75/100      1.26G      1.402     0.7505      1.004          7        640: 100%|██████████| 2626/2626 [03:31<00:00, 12.40it/s]\n",
      "                 Class     Images  Instances      Box(P          R      mAP50  mAP50-95): 100%|██████████| 125/125 [00:09<00:00, 13.10it/s]"
     ]
    },
    {
     "name": "stdout",
     "output_type": "stream",
     "text": [
      "                   all       1989       7169      0.887       0.74      0.835      0.483\n"
     ]
    },
    {
     "name": "stderr",
     "output_type": "stream",
     "text": [
      "\n"
     ]
    },
    {
     "name": "stdout",
     "output_type": "stream",
     "text": [
      "\n",
      "      Epoch    GPU_mem   box_loss   cls_loss   dfl_loss  Instances       Size\n"
     ]
    },
    {
     "name": "stderr",
     "output_type": "stream",
     "text": [
      "     76/100      1.27G      1.388     0.7415     0.9985         13        640: 100%|██████████| 2626/2626 [03:30<00:00, 12.47it/s]\n",
      "                 Class     Images  Instances      Box(P          R      mAP50  mAP50-95): 100%|██████████| 125/125 [00:09<00:00, 12.74it/s]"
     ]
    },
    {
     "name": "stdout",
     "output_type": "stream",
     "text": [
      "                   all       1989       7169      0.888       0.74      0.836      0.484\n"
     ]
    },
    {
     "name": "stderr",
     "output_type": "stream",
     "text": [
      "\n"
     ]
    },
    {
     "name": "stdout",
     "output_type": "stream",
     "text": [
      "\n",
      "      Epoch    GPU_mem   box_loss   cls_loss   dfl_loss  Instances       Size\n"
     ]
    },
    {
     "name": "stderr",
     "output_type": "stream",
     "text": [
      "     77/100      1.26G      1.387     0.7365     0.9997          4        640: 100%|██████████| 2626/2626 [03:31<00:00, 12.40it/s]\n",
      "                 Class     Images  Instances      Box(P          R      mAP50  mAP50-95): 100%|██████████| 125/125 [00:09<00:00, 13.52it/s]"
     ]
    },
    {
     "name": "stdout",
     "output_type": "stream",
     "text": [
      "                   all       1989       7169      0.888      0.745      0.837      0.485\n"
     ]
    },
    {
     "name": "stderr",
     "output_type": "stream",
     "text": [
      "\n"
     ]
    },
    {
     "name": "stdout",
     "output_type": "stream",
     "text": [
      "\n",
      "      Epoch    GPU_mem   box_loss   cls_loss   dfl_loss  Instances       Size\n"
     ]
    },
    {
     "name": "stderr",
     "output_type": "stream",
     "text": [
      "     78/100      1.26G      1.377      0.735     0.9979          1        640: 100%|██████████| 2626/2626 [03:31<00:00, 12.39it/s]\n",
      "                 Class     Images  Instances      Box(P          R      mAP50  mAP50-95): 100%|██████████| 125/125 [00:09<00:00, 12.98it/s]"
     ]
    },
    {
     "name": "stdout",
     "output_type": "stream",
     "text": [
      "                   all       1989       7169       0.89      0.744      0.837      0.486\n"
     ]
    },
    {
     "name": "stderr",
     "output_type": "stream",
     "text": [
      "\n"
     ]
    },
    {
     "name": "stdout",
     "output_type": "stream",
     "text": [
      "\n",
      "      Epoch    GPU_mem   box_loss   cls_loss   dfl_loss  Instances       Size\n"
     ]
    },
    {
     "name": "stderr",
     "output_type": "stream",
     "text": [
      "     79/100      1.26G      1.373     0.7245     0.9928          2        640: 100%|██████████| 2626/2626 [03:31<00:00, 12.43it/s]\n",
      "                 Class     Images  Instances      Box(P          R      mAP50  mAP50-95): 100%|██████████| 125/125 [00:09<00:00, 13.14it/s]"
     ]
    },
    {
     "name": "stdout",
     "output_type": "stream",
     "text": [
      "                   all       1989       7169       0.89      0.745      0.838      0.486\n"
     ]
    },
    {
     "name": "stderr",
     "output_type": "stream",
     "text": [
      "\n"
     ]
    },
    {
     "name": "stdout",
     "output_type": "stream",
     "text": [
      "\n",
      "      Epoch    GPU_mem   box_loss   cls_loss   dfl_loss  Instances       Size\n"
     ]
    },
    {
     "name": "stderr",
     "output_type": "stream",
     "text": [
      "     80/100      1.27G      1.362     0.7249     0.9932          7        640: 100%|██████████| 2626/2626 [03:31<00:00, 12.39it/s]\n",
      "                 Class     Images  Instances      Box(P          R      mAP50  mAP50-95): 100%|██████████| 125/125 [00:09<00:00, 13.19it/s]"
     ]
    },
    {
     "name": "stdout",
     "output_type": "stream",
     "text": [
      "                   all       1989       7169      0.891      0.747      0.839      0.487\n"
     ]
    },
    {
     "name": "stderr",
     "output_type": "stream",
     "text": [
      "\n"
     ]
    },
    {
     "name": "stdout",
     "output_type": "stream",
     "text": [
      "\n",
      "      Epoch    GPU_mem   box_loss   cls_loss   dfl_loss  Instances       Size\n"
     ]
    },
    {
     "name": "stderr",
     "output_type": "stream",
     "text": [
      "     81/100      1.27G      1.364     0.7205     0.9911         12        640: 100%|██████████| 2626/2626 [03:28<00:00, 12.57it/s]\n",
      "                 Class     Images  Instances      Box(P          R      mAP50  mAP50-95): 100%|██████████| 125/125 [00:09<00:00, 13.12it/s]"
     ]
    },
    {
     "name": "stdout",
     "output_type": "stream",
     "text": [
      "                   all       1989       7169      0.892      0.746      0.839      0.488\n"
     ]
    },
    {
     "name": "stderr",
     "output_type": "stream",
     "text": [
      "\n"
     ]
    },
    {
     "name": "stdout",
     "output_type": "stream",
     "text": [
      "\n",
      "      Epoch    GPU_mem   box_loss   cls_loss   dfl_loss  Instances       Size\n"
     ]
    },
    {
     "name": "stderr",
     "output_type": "stream",
     "text": [
      "     82/100      1.27G      1.359     0.7138      0.991          6        640: 100%|██████████| 2626/2626 [03:30<00:00, 12.49it/s]\n",
      "                 Class     Images  Instances      Box(P          R      mAP50  mAP50-95): 100%|██████████| 125/125 [00:09<00:00, 13.23it/s]"
     ]
    },
    {
     "name": "stdout",
     "output_type": "stream",
     "text": [
      "                   all       1989       7169      0.893      0.746       0.84      0.489\n"
     ]
    },
    {
     "name": "stderr",
     "output_type": "stream",
     "text": [
      "\n"
     ]
    },
    {
     "name": "stdout",
     "output_type": "stream",
     "text": [
      "\n",
      "      Epoch    GPU_mem   box_loss   cls_loss   dfl_loss  Instances       Size\n"
     ]
    },
    {
     "name": "stderr",
     "output_type": "stream",
     "text": [
      "     83/100      1.27G      1.349     0.7091     0.9874          8        640: 100%|██████████| 2626/2626 [03:30<00:00, 12.46it/s]\n",
      "                 Class     Images  Instances      Box(P          R      mAP50  mAP50-95): 100%|██████████| 125/125 [00:09<00:00, 12.79it/s]"
     ]
    },
    {
     "name": "stdout",
     "output_type": "stream",
     "text": [
      "                   all       1989       7169      0.893      0.747       0.84      0.489\n"
     ]
    },
    {
     "name": "stderr",
     "output_type": "stream",
     "text": [
      "\n"
     ]
    },
    {
     "name": "stdout",
     "output_type": "stream",
     "text": [
      "\n",
      "      Epoch    GPU_mem   box_loss   cls_loss   dfl_loss  Instances       Size\n"
     ]
    },
    {
     "name": "stderr",
     "output_type": "stream",
     "text": [
      "     84/100      1.26G      1.341     0.7047     0.9837          5        640: 100%|██████████| 2626/2626 [03:30<00:00, 12.49it/s]\n",
      "                 Class     Images  Instances      Box(P          R      mAP50  mAP50-95): 100%|██████████| 125/125 [00:09<00:00, 12.97it/s]"
     ]
    },
    {
     "name": "stdout",
     "output_type": "stream",
     "text": [
      "                   all       1989       7169      0.892      0.747       0.84       0.49\n"
     ]
    },
    {
     "name": "stderr",
     "output_type": "stream",
     "text": [
      "\n"
     ]
    },
    {
     "name": "stdout",
     "output_type": "stream",
     "text": [
      "\n",
      "      Epoch    GPU_mem   box_loss   cls_loss   dfl_loss  Instances       Size\n"
     ]
    },
    {
     "name": "stderr",
     "output_type": "stream",
     "text": [
      "     85/100      1.26G      1.345     0.7059     0.9859          3        640: 100%|██████████| 2626/2626 [03:32<00:00, 12.35it/s]\n",
      "                 Class     Images  Instances      Box(P          R      mAP50  mAP50-95): 100%|██████████| 125/125 [00:09<00:00, 13.47it/s]"
     ]
    },
    {
     "name": "stdout",
     "output_type": "stream",
     "text": [
      "                   all       1989       7169      0.892      0.748      0.841       0.49\n"
     ]
    },
    {
     "name": "stderr",
     "output_type": "stream",
     "text": [
      "\n"
     ]
    },
    {
     "name": "stdout",
     "output_type": "stream",
     "text": [
      "\n",
      "      Epoch    GPU_mem   box_loss   cls_loss   dfl_loss  Instances       Size\n"
     ]
    },
    {
     "name": "stderr",
     "output_type": "stream",
     "text": [
      "     86/100      1.26G      1.331     0.6985     0.9812          2        640: 100%|██████████| 2626/2626 [03:29<00:00, 12.52it/s]\n",
      "                 Class     Images  Instances      Box(P          R      mAP50  mAP50-95): 100%|██████████| 125/125 [00:09<00:00, 12.97it/s]"
     ]
    },
    {
     "name": "stdout",
     "output_type": "stream",
     "text": [
      "                   all       1989       7169      0.892       0.75      0.841       0.49\n"
     ]
    },
    {
     "name": "stderr",
     "output_type": "stream",
     "text": [
      "\n"
     ]
    },
    {
     "name": "stdout",
     "output_type": "stream",
     "text": [
      "\n",
      "      Epoch    GPU_mem   box_loss   cls_loss   dfl_loss  Instances       Size\n"
     ]
    },
    {
     "name": "stderr",
     "output_type": "stream",
     "text": [
      "     87/100      1.26G      1.324     0.6908     0.9807          2        640: 100%|██████████| 2626/2626 [03:29<00:00, 12.51it/s]\n",
      "                 Class     Images  Instances      Box(P          R      mAP50  mAP50-95): 100%|██████████| 125/125 [00:09<00:00, 13.21it/s]"
     ]
    },
    {
     "name": "stdout",
     "output_type": "stream",
     "text": [
      "                   all       1989       7169      0.893       0.75      0.842      0.491\n"
     ]
    },
    {
     "name": "stderr",
     "output_type": "stream",
     "text": [
      "\n"
     ]
    },
    {
     "name": "stdout",
     "output_type": "stream",
     "text": [
      "\n",
      "      Epoch    GPU_mem   box_loss   cls_loss   dfl_loss  Instances       Size\n"
     ]
    },
    {
     "name": "stderr",
     "output_type": "stream",
     "text": [
      "     88/100      1.26G      1.323     0.6899     0.9767          3        640: 100%|██████████| 2626/2626 [03:32<00:00, 12.35it/s]\n",
      "                 Class     Images  Instances      Box(P          R      mAP50  mAP50-95): 100%|██████████| 125/125 [00:09<00:00, 12.83it/s]"
     ]
    },
    {
     "name": "stdout",
     "output_type": "stream",
     "text": [
      "                   all       1989       7169      0.895       0.75      0.842      0.492\n"
     ]
    },
    {
     "name": "stderr",
     "output_type": "stream",
     "text": [
      "\n"
     ]
    },
    {
     "name": "stdout",
     "output_type": "stream",
     "text": [
      "\n",
      "      Epoch    GPU_mem   box_loss   cls_loss   dfl_loss  Instances       Size\n"
     ]
    },
    {
     "name": "stderr",
     "output_type": "stream",
     "text": [
      "     89/100      1.27G      1.316     0.6812     0.9763          6        640: 100%|██████████| 2626/2626 [03:29<00:00, 12.53it/s]\n",
      "                 Class     Images  Instances      Box(P          R      mAP50  mAP50-95): 100%|██████████| 125/125 [00:09<00:00, 12.89it/s]"
     ]
    },
    {
     "name": "stdout",
     "output_type": "stream",
     "text": [
      "                   all       1989       7169      0.895      0.752      0.843      0.493\n"
     ]
    },
    {
     "name": "stderr",
     "output_type": "stream",
     "text": [
      "\n"
     ]
    },
    {
     "name": "stdout",
     "output_type": "stream",
     "text": [
      "\n",
      "      Epoch    GPU_mem   box_loss   cls_loss   dfl_loss  Instances       Size\n"
     ]
    },
    {
     "name": "stderr",
     "output_type": "stream",
     "text": [
      "     90/100      1.27G      1.312     0.6825      0.977          7        640: 100%|██████████| 2626/2626 [03:30<00:00, 12.50it/s]\n",
      "                 Class     Images  Instances      Box(P          R      mAP50  mAP50-95): 100%|██████████| 125/125 [00:09<00:00, 13.22it/s]"
     ]
    },
    {
     "name": "stdout",
     "output_type": "stream",
     "text": [
      "                   all       1989       7169      0.896      0.751      0.843      0.494\n"
     ]
    },
    {
     "name": "stderr",
     "output_type": "stream",
     "text": [
      "\n"
     ]
    },
    {
     "name": "stdout",
     "output_type": "stream",
     "text": [
      "Closing dataloader mosaic\n",
      "\n",
      "      Epoch    GPU_mem   box_loss   cls_loss   dfl_loss  Instances       Size\n"
     ]
    },
    {
     "name": "stderr",
     "output_type": "stream",
     "text": [
      "     91/100      1.26G      1.303     0.6993     0.9887          4        640: 100%|██████████| 2626/2626 [03:33<00:00, 12.28it/s]\n",
      "                 Class     Images  Instances      Box(P          R      mAP50  mAP50-95): 100%|██████████| 125/125 [00:09<00:00, 12.99it/s]"
     ]
    },
    {
     "name": "stdout",
     "output_type": "stream",
     "text": [
      "                   all       1989       7169      0.897      0.752      0.844      0.494\n"
     ]
    },
    {
     "name": "stderr",
     "output_type": "stream",
     "text": [
      "\n"
     ]
    },
    {
     "name": "stdout",
     "output_type": "stream",
     "text": [
      "\n",
      "      Epoch    GPU_mem   box_loss   cls_loss   dfl_loss  Instances       Size\n"
     ]
    },
    {
     "name": "stderr",
     "output_type": "stream",
     "text": [
      "     92/100      1.26G      1.275     0.6828     0.9803          1        640: 100%|██████████| 2626/2626 [03:29<00:00, 12.51it/s]\n",
      "                 Class     Images  Instances      Box(P          R      mAP50  mAP50-95): 100%|██████████| 125/125 [00:09<00:00, 12.57it/s]"
     ]
    },
    {
     "name": "stdout",
     "output_type": "stream",
     "text": [
      "                   all       1989       7169      0.896      0.753      0.844      0.494\n"
     ]
    },
    {
     "name": "stderr",
     "output_type": "stream",
     "text": [
      "\n"
     ]
    },
    {
     "name": "stdout",
     "output_type": "stream",
     "text": [
      "\n",
      "      Epoch    GPU_mem   box_loss   cls_loss   dfl_loss  Instances       Size\n"
     ]
    },
    {
     "name": "stderr",
     "output_type": "stream",
     "text": [
      "     93/100      1.26G      1.261     0.6774     0.9761          4        640: 100%|██████████| 2626/2626 [03:31<00:00, 12.44it/s]\n",
      "                 Class     Images  Instances      Box(P          R      mAP50  mAP50-95): 100%|██████████| 125/125 [00:09<00:00, 13.08it/s]"
     ]
    },
    {
     "name": "stdout",
     "output_type": "stream",
     "text": [
      "                   all       1989       7169      0.895      0.755      0.845      0.495\n"
     ]
    },
    {
     "name": "stderr",
     "output_type": "stream",
     "text": [
      "\n"
     ]
    },
    {
     "name": "stdout",
     "output_type": "stream",
     "text": [
      "\n",
      "      Epoch    GPU_mem   box_loss   cls_loss   dfl_loss  Instances       Size\n"
     ]
    },
    {
     "name": "stderr",
     "output_type": "stream",
     "text": [
      "     94/100      1.26G      1.254      0.665     0.9747          4        640: 100%|██████████| 2626/2626 [03:27<00:00, 12.67it/s]\n",
      "                 Class     Images  Instances      Box(P          R      mAP50  mAP50-95): 100%|██████████| 125/125 [00:09<00:00, 12.68it/s]"
     ]
    },
    {
     "name": "stdout",
     "output_type": "stream",
     "text": [
      "                   all       1989       7169      0.895      0.755      0.846      0.496\n"
     ]
    },
    {
     "name": "stderr",
     "output_type": "stream",
     "text": [
      "\n"
     ]
    },
    {
     "name": "stdout",
     "output_type": "stream",
     "text": [
      "\n",
      "      Epoch    GPU_mem   box_loss   cls_loss   dfl_loss  Instances       Size\n"
     ]
    },
    {
     "name": "stderr",
     "output_type": "stream",
     "text": [
      "     95/100      1.26G      1.246     0.6639     0.9714          3        640: 100%|██████████| 2626/2626 [03:28<00:00, 12.57it/s]\n",
      "                 Class     Images  Instances      Box(P          R      mAP50  mAP50-95): 100%|██████████| 125/125 [00:09<00:00, 13.14it/s]"
     ]
    },
    {
     "name": "stdout",
     "output_type": "stream",
     "text": [
      "                   all       1989       7169      0.897      0.754      0.847      0.497\n"
     ]
    },
    {
     "name": "stderr",
     "output_type": "stream",
     "text": [
      "\n"
     ]
    },
    {
     "name": "stdout",
     "output_type": "stream",
     "text": [
      "\n",
      "      Epoch    GPU_mem   box_loss   cls_loss   dfl_loss  Instances       Size\n"
     ]
    },
    {
     "name": "stderr",
     "output_type": "stream",
     "text": [
      "     96/100      1.26G      1.236     0.6581     0.9686          4        640: 100%|██████████| 2626/2626 [03:31<00:00, 12.44it/s]\n",
      "                 Class     Images  Instances      Box(P          R      mAP50  mAP50-95): 100%|██████████| 125/125 [00:09<00:00, 12.83it/s]"
     ]
    },
    {
     "name": "stdout",
     "output_type": "stream",
     "text": [
      "                   all       1989       7169      0.896      0.756      0.847      0.497\n"
     ]
    },
    {
     "name": "stderr",
     "output_type": "stream",
     "text": [
      "\n"
     ]
    },
    {
     "name": "stdout",
     "output_type": "stream",
     "text": [
      "\n",
      "      Epoch    GPU_mem   box_loss   cls_loss   dfl_loss  Instances       Size\n"
     ]
    },
    {
     "name": "stderr",
     "output_type": "stream",
     "text": [
      "     97/100      1.26G       1.23      0.652     0.9663          4        640: 100%|██████████| 2626/2626 [03:26<00:00, 12.71it/s]\n",
      "                 Class     Images  Instances      Box(P          R      mAP50  mAP50-95): 100%|██████████| 125/125 [00:09<00:00, 12.54it/s]"
     ]
    },
    {
     "name": "stdout",
     "output_type": "stream",
     "text": [
      "                   all       1989       7169      0.894      0.757      0.848      0.498\n"
     ]
    },
    {
     "name": "stderr",
     "output_type": "stream",
     "text": [
      "\n"
     ]
    },
    {
     "name": "stdout",
     "output_type": "stream",
     "text": [
      "\n",
      "      Epoch    GPU_mem   box_loss   cls_loss   dfl_loss  Instances       Size\n"
     ]
    },
    {
     "name": "stderr",
     "output_type": "stream",
     "text": [
      "     98/100      1.26G       1.22     0.6469     0.9646          4        640: 100%|██████████| 2626/2626 [03:32<00:00, 12.33it/s]\n",
      "                 Class     Images  Instances      Box(P          R      mAP50  mAP50-95): 100%|██████████| 125/125 [00:09<00:00, 12.97it/s]"
     ]
    },
    {
     "name": "stdout",
     "output_type": "stream",
     "text": [
      "                   all       1989       7169      0.893      0.757      0.848      0.499\n"
     ]
    },
    {
     "name": "stderr",
     "output_type": "stream",
     "text": [
      "\n"
     ]
    },
    {
     "name": "stdout",
     "output_type": "stream",
     "text": [
      "\n",
      "      Epoch    GPU_mem   box_loss   cls_loss   dfl_loss  Instances       Size\n"
     ]
    },
    {
     "name": "stderr",
     "output_type": "stream",
     "text": [
      "     99/100      1.26G      1.214     0.6385     0.9617          4        640: 100%|██████████| 2626/2626 [03:29<00:00, 12.54it/s]\n",
      "                 Class     Images  Instances      Box(P          R      mAP50  mAP50-95): 100%|██████████| 125/125 [00:09<00:00, 12.75it/s]"
     ]
    },
    {
     "name": "stdout",
     "output_type": "stream",
     "text": [
      "                   all       1989       7169      0.892      0.758      0.848      0.499\n"
     ]
    },
    {
     "name": "stderr",
     "output_type": "stream",
     "text": [
      "\n"
     ]
    },
    {
     "name": "stdout",
     "output_type": "stream",
     "text": [
      "\n",
      "      Epoch    GPU_mem   box_loss   cls_loss   dfl_loss  Instances       Size\n"
     ]
    },
    {
     "name": "stderr",
     "output_type": "stream",
     "text": [
      "    100/100      1.26G       1.21     0.6442     0.9628          1        640: 100%|██████████| 2626/2626 [03:30<00:00, 12.46it/s]\n",
      "                 Class     Images  Instances      Box(P          R      mAP50  mAP50-95): 100%|██████████| 125/125 [00:09<00:00, 12.66it/s]"
     ]
    },
    {
     "name": "stdout",
     "output_type": "stream",
     "text": [
      "                   all       1989       7169      0.892       0.76      0.849        0.5\n"
     ]
    },
    {
     "name": "stderr",
     "output_type": "stream",
     "text": [
      "\n"
     ]
    },
    {
     "name": "stdout",
     "output_type": "stream",
     "text": [
      "\n",
      "100 epochs completed in 6.160 hours.\n",
      "Optimizer stripped from runs\\detect\\train\\weights\\last.pt, 5.5MB\n",
      "Optimizer stripped from runs\\detect\\train\\weights\\best.pt, 5.5MB\n",
      "\n",
      "Validating runs\\detect\\train\\weights\\best.pt...\n",
      "Ultralytics 8.3.61  Python-3.12.8 torch-2.5.1 CUDA:0 (NVIDIA GeForce RTX 4060 Laptop GPU, 8188MiB)\n",
      "YOLO11n summary (fused): 238 layers, 2,582,347 parameters, 0 gradients\n"
     ]
    },
    {
     "name": "stderr",
     "output_type": "stream",
     "text": [
      "                 Class     Images  Instances      Box(P          R      mAP50  mAP50-95): 100%|██████████| 125/125 [00:10<00:00, 12.39it/s]\n"
     ]
    },
    {
     "name": "stdout",
     "output_type": "stream",
     "text": [
      "                   all       1989       7169      0.892       0.76      0.849        0.5\n",
      "Speed: 0.2ms preprocess, 1.5ms inference, 0.0ms loss, 0.7ms postprocess per image\n",
      "Results saved to \u001b[1mruns\\detect\\train\u001b[0m\n"
     ]
    },
    {
     "data": {
      "text/plain": [
       "ultralytics.utils.metrics.DetMetrics object with attributes:\n",
       "\n",
       "ap_class_index: array([0])\n",
       "box: ultralytics.utils.metrics.Metric object\n",
       "confusion_matrix: <ultralytics.utils.metrics.ConfusionMatrix object at 0x000001FBC77A3E60>\n",
       "curves: ['Precision-Recall(B)', 'F1-Confidence(B)', 'Precision-Confidence(B)', 'Recall-Confidence(B)']\n",
       "curves_results: [[array([          0,    0.001001,    0.002002,    0.003003,    0.004004,    0.005005,    0.006006,    0.007007,    0.008008,    0.009009,     0.01001,    0.011011,    0.012012,    0.013013,    0.014014,    0.015015,    0.016016,    0.017017,    0.018018,    0.019019,     0.02002,    0.021021,    0.022022,    0.023023,\n",
       "          0.024024,    0.025025,    0.026026,    0.027027,    0.028028,    0.029029,     0.03003,    0.031031,    0.032032,    0.033033,    0.034034,    0.035035,    0.036036,    0.037037,    0.038038,    0.039039,     0.04004,    0.041041,    0.042042,    0.043043,    0.044044,    0.045045,    0.046046,    0.047047,\n",
       "          0.048048,    0.049049,     0.05005,    0.051051,    0.052052,    0.053053,    0.054054,    0.055055,    0.056056,    0.057057,    0.058058,    0.059059,     0.06006,    0.061061,    0.062062,    0.063063,    0.064064,    0.065065,    0.066066,    0.067067,    0.068068,    0.069069,     0.07007,    0.071071,\n",
       "          0.072072,    0.073073,    0.074074,    0.075075,    0.076076,    0.077077,    0.078078,    0.079079,     0.08008,    0.081081,    0.082082,    0.083083,    0.084084,    0.085085,    0.086086,    0.087087,    0.088088,    0.089089,     0.09009,    0.091091,    0.092092,    0.093093,    0.094094,    0.095095,\n",
       "          0.096096,    0.097097,    0.098098,    0.099099,      0.1001,      0.1011,      0.1021,      0.1031,      0.1041,     0.10511,     0.10611,     0.10711,     0.10811,     0.10911,     0.11011,     0.11111,     0.11211,     0.11311,     0.11411,     0.11512,     0.11612,     0.11712,     0.11812,     0.11912,\n",
       "           0.12012,     0.12112,     0.12212,     0.12312,     0.12412,     0.12513,     0.12613,     0.12713,     0.12813,     0.12913,     0.13013,     0.13113,     0.13213,     0.13313,     0.13413,     0.13514,     0.13614,     0.13714,     0.13814,     0.13914,     0.14014,     0.14114,     0.14214,     0.14314,\n",
       "           0.14414,     0.14515,     0.14615,     0.14715,     0.14815,     0.14915,     0.15015,     0.15115,     0.15215,     0.15315,     0.15415,     0.15516,     0.15616,     0.15716,     0.15816,     0.15916,     0.16016,     0.16116,     0.16216,     0.16316,     0.16416,     0.16517,     0.16617,     0.16717,\n",
       "           0.16817,     0.16917,     0.17017,     0.17117,     0.17217,     0.17317,     0.17417,     0.17518,     0.17618,     0.17718,     0.17818,     0.17918,     0.18018,     0.18118,     0.18218,     0.18318,     0.18418,     0.18519,     0.18619,     0.18719,     0.18819,     0.18919,     0.19019,     0.19119,\n",
       "           0.19219,     0.19319,     0.19419,      0.1952,      0.1962,      0.1972,      0.1982,      0.1992,      0.2002,      0.2012,      0.2022,      0.2032,      0.2042,     0.20521,     0.20621,     0.20721,     0.20821,     0.20921,     0.21021,     0.21121,     0.21221,     0.21321,     0.21421,     0.21522,\n",
       "           0.21622,     0.21722,     0.21822,     0.21922,     0.22022,     0.22122,     0.22222,     0.22322,     0.22422,     0.22523,     0.22623,     0.22723,     0.22823,     0.22923,     0.23023,     0.23123,     0.23223,     0.23323,     0.23423,     0.23524,     0.23624,     0.23724,     0.23824,     0.23924,\n",
       "           0.24024,     0.24124,     0.24224,     0.24324,     0.24424,     0.24525,     0.24625,     0.24725,     0.24825,     0.24925,     0.25025,     0.25125,     0.25225,     0.25325,     0.25425,     0.25526,     0.25626,     0.25726,     0.25826,     0.25926,     0.26026,     0.26126,     0.26226,     0.26326,\n",
       "           0.26426,     0.26527,     0.26627,     0.26727,     0.26827,     0.26927,     0.27027,     0.27127,     0.27227,     0.27327,     0.27427,     0.27528,     0.27628,     0.27728,     0.27828,     0.27928,     0.28028,     0.28128,     0.28228,     0.28328,     0.28428,     0.28529,     0.28629,     0.28729,\n",
       "           0.28829,     0.28929,     0.29029,     0.29129,     0.29229,     0.29329,     0.29429,      0.2953,      0.2963,      0.2973,      0.2983,      0.2993,      0.3003,      0.3013,      0.3023,      0.3033,      0.3043,     0.30531,     0.30631,     0.30731,     0.30831,     0.30931,     0.31031,     0.31131,\n",
       "           0.31231,     0.31331,     0.31431,     0.31532,     0.31632,     0.31732,     0.31832,     0.31932,     0.32032,     0.32132,     0.32232,     0.32332,     0.32432,     0.32533,     0.32633,     0.32733,     0.32833,     0.32933,     0.33033,     0.33133,     0.33233,     0.33333,     0.33433,     0.33534,\n",
       "           0.33634,     0.33734,     0.33834,     0.33934,     0.34034,     0.34134,     0.34234,     0.34334,     0.34434,     0.34535,     0.34635,     0.34735,     0.34835,     0.34935,     0.35035,     0.35135,     0.35235,     0.35335,     0.35435,     0.35536,     0.35636,     0.35736,     0.35836,     0.35936,\n",
       "           0.36036,     0.36136,     0.36236,     0.36336,     0.36436,     0.36537,     0.36637,     0.36737,     0.36837,     0.36937,     0.37037,     0.37137,     0.37237,     0.37337,     0.37437,     0.37538,     0.37638,     0.37738,     0.37838,     0.37938,     0.38038,     0.38138,     0.38238,     0.38338,\n",
       "           0.38438,     0.38539,     0.38639,     0.38739,     0.38839,     0.38939,     0.39039,     0.39139,     0.39239,     0.39339,     0.39439,      0.3954,      0.3964,      0.3974,      0.3984,      0.3994,      0.4004,      0.4014,      0.4024,      0.4034,      0.4044,     0.40541,     0.40641,     0.40741,\n",
       "           0.40841,     0.40941,     0.41041,     0.41141,     0.41241,     0.41341,     0.41441,     0.41542,     0.41642,     0.41742,     0.41842,     0.41942,     0.42042,     0.42142,     0.42242,     0.42342,     0.42442,     0.42543,     0.42643,     0.42743,     0.42843,     0.42943,     0.43043,     0.43143,\n",
       "           0.43243,     0.43343,     0.43443,     0.43544,     0.43644,     0.43744,     0.43844,     0.43944,     0.44044,     0.44144,     0.44244,     0.44344,     0.44444,     0.44545,     0.44645,     0.44745,     0.44845,     0.44945,     0.45045,     0.45145,     0.45245,     0.45345,     0.45445,     0.45546,\n",
       "           0.45646,     0.45746,     0.45846,     0.45946,     0.46046,     0.46146,     0.46246,     0.46346,     0.46446,     0.46547,     0.46647,     0.46747,     0.46847,     0.46947,     0.47047,     0.47147,     0.47247,     0.47347,     0.47447,     0.47548,     0.47648,     0.47748,     0.47848,     0.47948,\n",
       "           0.48048,     0.48148,     0.48248,     0.48348,     0.48448,     0.48549,     0.48649,     0.48749,     0.48849,     0.48949,     0.49049,     0.49149,     0.49249,     0.49349,     0.49449,      0.4955,      0.4965,      0.4975,      0.4985,      0.4995,      0.5005,      0.5015,      0.5025,      0.5035,\n",
       "            0.5045,     0.50551,     0.50651,     0.50751,     0.50851,     0.50951,     0.51051,     0.51151,     0.51251,     0.51351,     0.51451,     0.51552,     0.51652,     0.51752,     0.51852,     0.51952,     0.52052,     0.52152,     0.52252,     0.52352,     0.52452,     0.52553,     0.52653,     0.52753,\n",
       "           0.52853,     0.52953,     0.53053,     0.53153,     0.53253,     0.53353,     0.53453,     0.53554,     0.53654,     0.53754,     0.53854,     0.53954,     0.54054,     0.54154,     0.54254,     0.54354,     0.54454,     0.54555,     0.54655,     0.54755,     0.54855,     0.54955,     0.55055,     0.55155,\n",
       "           0.55255,     0.55355,     0.55455,     0.55556,     0.55656,     0.55756,     0.55856,     0.55956,     0.56056,     0.56156,     0.56256,     0.56356,     0.56456,     0.56557,     0.56657,     0.56757,     0.56857,     0.56957,     0.57057,     0.57157,     0.57257,     0.57357,     0.57457,     0.57558,\n",
       "           0.57658,     0.57758,     0.57858,     0.57958,     0.58058,     0.58158,     0.58258,     0.58358,     0.58458,     0.58559,     0.58659,     0.58759,     0.58859,     0.58959,     0.59059,     0.59159,     0.59259,     0.59359,     0.59459,      0.5956,      0.5966,      0.5976,      0.5986,      0.5996,\n",
       "            0.6006,      0.6016,      0.6026,      0.6036,      0.6046,     0.60561,     0.60661,     0.60761,     0.60861,     0.60961,     0.61061,     0.61161,     0.61261,     0.61361,     0.61461,     0.61562,     0.61662,     0.61762,     0.61862,     0.61962,     0.62062,     0.62162,     0.62262,     0.62362,\n",
       "           0.62462,     0.62563,     0.62663,     0.62763,     0.62863,     0.62963,     0.63063,     0.63163,     0.63263,     0.63363,     0.63463,     0.63564,     0.63664,     0.63764,     0.63864,     0.63964,     0.64064,     0.64164,     0.64264,     0.64364,     0.64464,     0.64565,     0.64665,     0.64765,\n",
       "           0.64865,     0.64965,     0.65065,     0.65165,     0.65265,     0.65365,     0.65465,     0.65566,     0.65666,     0.65766,     0.65866,     0.65966,     0.66066,     0.66166,     0.66266,     0.66366,     0.66466,     0.66567,     0.66667,     0.66767,     0.66867,     0.66967,     0.67067,     0.67167,\n",
       "           0.67267,     0.67367,     0.67467,     0.67568,     0.67668,     0.67768,     0.67868,     0.67968,     0.68068,     0.68168,     0.68268,     0.68368,     0.68468,     0.68569,     0.68669,     0.68769,     0.68869,     0.68969,     0.69069,     0.69169,     0.69269,     0.69369,     0.69469,      0.6957,\n",
       "            0.6967,      0.6977,      0.6987,      0.6997,      0.7007,      0.7017,      0.7027,      0.7037,      0.7047,     0.70571,     0.70671,     0.70771,     0.70871,     0.70971,     0.71071,     0.71171,     0.71271,     0.71371,     0.71471,     0.71572,     0.71672,     0.71772,     0.71872,     0.71972,\n",
       "           0.72072,     0.72172,     0.72272,     0.72372,     0.72472,     0.72573,     0.72673,     0.72773,     0.72873,     0.72973,     0.73073,     0.73173,     0.73273,     0.73373,     0.73473,     0.73574,     0.73674,     0.73774,     0.73874,     0.73974,     0.74074,     0.74174,     0.74274,     0.74374,\n",
       "           0.74474,     0.74575,     0.74675,     0.74775,     0.74875,     0.74975,     0.75075,     0.75175,     0.75275,     0.75375,     0.75475,     0.75576,     0.75676,     0.75776,     0.75876,     0.75976,     0.76076,     0.76176,     0.76276,     0.76376,     0.76476,     0.76577,     0.76677,     0.76777,\n",
       "           0.76877,     0.76977,     0.77077,     0.77177,     0.77277,     0.77377,     0.77477,     0.77578,     0.77678,     0.77778,     0.77878,     0.77978,     0.78078,     0.78178,     0.78278,     0.78378,     0.78478,     0.78579,     0.78679,     0.78779,     0.78879,     0.78979,     0.79079,     0.79179,\n",
       "           0.79279,     0.79379,     0.79479,      0.7958,      0.7968,      0.7978,      0.7988,      0.7998,      0.8008,      0.8018,      0.8028,      0.8038,      0.8048,     0.80581,     0.80681,     0.80781,     0.80881,     0.80981,     0.81081,     0.81181,     0.81281,     0.81381,     0.81481,     0.81582,\n",
       "           0.81682,     0.81782,     0.81882,     0.81982,     0.82082,     0.82182,     0.82282,     0.82382,     0.82482,     0.82583,     0.82683,     0.82783,     0.82883,     0.82983,     0.83083,     0.83183,     0.83283,     0.83383,     0.83483,     0.83584,     0.83684,     0.83784,     0.83884,     0.83984,\n",
       "           0.84084,     0.84184,     0.84284,     0.84384,     0.84484,     0.84585,     0.84685,     0.84785,     0.84885,     0.84985,     0.85085,     0.85185,     0.85285,     0.85385,     0.85485,     0.85586,     0.85686,     0.85786,     0.85886,     0.85986,     0.86086,     0.86186,     0.86286,     0.86386,\n",
       "           0.86486,     0.86587,     0.86687,     0.86787,     0.86887,     0.86987,     0.87087,     0.87187,     0.87287,     0.87387,     0.87487,     0.87588,     0.87688,     0.87788,     0.87888,     0.87988,     0.88088,     0.88188,     0.88288,     0.88388,     0.88488,     0.88589,     0.88689,     0.88789,\n",
       "           0.88889,     0.88989,     0.89089,     0.89189,     0.89289,     0.89389,     0.89489,      0.8959,      0.8969,      0.8979,      0.8989,      0.8999,      0.9009,      0.9019,      0.9029,      0.9039,      0.9049,     0.90591,     0.90691,     0.90791,     0.90891,     0.90991,     0.91091,     0.91191,\n",
       "           0.91291,     0.91391,     0.91491,     0.91592,     0.91692,     0.91792,     0.91892,     0.91992,     0.92092,     0.92192,     0.92292,     0.92392,     0.92492,     0.92593,     0.92693,     0.92793,     0.92893,     0.92993,     0.93093,     0.93193,     0.93293,     0.93393,     0.93493,     0.93594,\n",
       "           0.93694,     0.93794,     0.93894,     0.93994,     0.94094,     0.94194,     0.94294,     0.94394,     0.94494,     0.94595,     0.94695,     0.94795,     0.94895,     0.94995,     0.95095,     0.95195,     0.95295,     0.95395,     0.95495,     0.95596,     0.95696,     0.95796,     0.95896,     0.95996,\n",
       "           0.96096,     0.96196,     0.96296,     0.96396,     0.96496,     0.96597,     0.96697,     0.96797,     0.96897,     0.96997,     0.97097,     0.97197,     0.97297,     0.97397,     0.97497,     0.97598,     0.97698,     0.97798,     0.97898,     0.97998,     0.98098,     0.98198,     0.98298,     0.98398,\n",
       "           0.98498,     0.98599,     0.98699,     0.98799,     0.98899,     0.98999,     0.99099,     0.99199,     0.99299,     0.99399,     0.99499,       0.996,       0.997,       0.998,       0.999,           1]), array([[          1,           1,           1,           1,           1,           1,           1,           1,           1,           1,           1,           1,           1,           1,           1,           1,           1,           1,           1,           1,           1,           1,           1,\n",
       "                  1,           1,           1,           1,           1,           1,           1,           1,           1,           1,           1,           1,           1,           1,           1,           1,           1,           1,           1,           1,           1,           1,           1,\n",
       "                  1,           1,           1,           1,           1,           1,           1,           1,           1,           1,           1,           1,           1,           1,           1,           1,           1,           1,           1,           1,           1,           1,           1,\n",
       "                  1,           1,           1,           1,           1,           1,           1,           1,           1,           1,           1,           1,           1,           1,           1,           1,           1,           1,           1,           1,           1,           1,           1,\n",
       "                  1,           1,           1,           1,           1,           1,           1,           1,           1,           1,           1,           1,           1,           1,           1,           1,           1,           1,           1,           1,           1,           1,           1,\n",
       "                  1,           1,           1,           1,           1,           1,           1,           1,           1,           1,           1,           1,           1,           1,           1,           1,           1,           1,           1,           1,           1,           1,           1,\n",
       "                  1,           1,           1,           1,           1,           1,           1,           1,           1,           1,           1,           1,           1,           1,           1,           1,           1,           1,           1,           1,           1,           1,           1,\n",
       "                  1,           1,           1,           1,           1,           1,           1,           1,           1,           1,           1,           1,           1,           1,           1,           1,           1,           1,           1,           1,           1,           1,           1,\n",
       "                  1,           1,           1,           1,           1,           1,           1,           1,           1,           1,      0.9994,      0.9994,      0.9994,      0.9994,      0.9994,      0.9994,      0.9994,      0.9994,      0.9994,      0.9994,      0.9994,      0.9994,      0.9994,\n",
       "             0.9994,      0.9994,      0.9994,      0.9994,      0.9994,      0.9994,      0.9994,      0.9994,      0.9994,      0.9994,      0.9994,      0.9994,      0.9994,      0.9994,      0.9994,      0.9994,      0.9994,      0.9994,      0.9994,      0.9994,      0.9994,      0.9994,      0.9994,\n",
       "             0.9994,      0.9994,      0.9994,      0.9994,     0.99898,     0.99898,     0.99898,     0.99898,     0.99898,     0.99898,     0.99898,     0.99898,     0.99898,     0.99898,     0.99898,     0.99898,     0.99898,     0.99898,     0.99898,     0.99898,     0.99898,     0.99898,     0.99898,\n",
       "            0.99898,     0.99898,     0.99898,     0.99898,     0.99898,     0.99898,     0.99898,     0.99898,     0.99898,     0.99898,     0.99898,     0.99898,     0.99898,     0.99898,     0.99898,     0.99898,     0.99898,     0.99898,     0.99898,     0.99898,     0.99898,     0.99853,     0.99853,\n",
       "            0.99853,     0.99853,     0.99853,     0.99853,     0.99853,     0.99853,     0.99853,     0.99853,     0.99822,     0.99822,     0.99822,     0.99822,     0.99822,     0.99822,     0.99822,     0.99822,     0.99822,     0.99822,     0.99822,     0.99822,     0.99822,     0.99822,     0.99822,\n",
       "            0.99822,     0.99822,     0.99822,     0.99822,     0.99822,     0.99822,     0.99822,     0.99822,     0.99822,     0.99822,     0.99822,     0.99822,     0.99822,     0.99782,     0.99782,     0.99782,     0.99782,     0.99782,     0.99782,     0.99782,     0.99782,     0.99742,     0.99742,\n",
       "            0.99742,     0.99742,     0.99717,     0.99717,     0.99717,     0.99717,     0.99717,     0.99717,     0.99717,     0.99717,     0.99717,     0.99717,     0.99717,     0.99717,     0.99717,     0.99717,     0.99717,     0.99717,     0.99717,     0.99717,     0.99717,     0.99717,     0.99684,\n",
       "            0.99684,     0.99684,     0.99684,     0.99684,     0.99684,     0.99684,     0.99684,      0.9965,      0.9965,      0.9965,      0.9965,      0.9965,      0.9965,     0.99578,     0.99578,     0.99578,     0.99578,     0.99543,     0.99543,     0.99543,     0.99525,     0.99525,     0.99525,\n",
       "            0.99525,     0.99525,     0.99525,     0.99525,     0.99525,     0.99525,     0.99525,     0.99525,     0.99525,     0.99525,     0.99525,     0.99525,     0.99504,     0.99504,     0.99504,     0.99504,     0.99504,     0.99504,     0.99504,     0.99504,     0.99504,     0.99504,     0.99504,\n",
       "            0.99504,     0.99476,     0.99476,     0.99476,     0.99476,     0.99476,     0.99476,     0.99445,     0.99445,     0.99412,     0.99379,     0.99355,     0.99355,     0.99355,     0.99355,     0.99355,     0.99355,     0.99355,      0.9933,      0.9933,      0.9933,      0.9933,      0.9933,\n",
       "            0.99305,     0.99305,     0.99305,     0.99305,     0.99305,     0.99279,     0.99279,     0.99279,     0.99247,     0.99218,     0.99218,     0.99196,     0.99196,     0.99196,     0.99196,     0.99196,      0.9917,      0.9917,      0.9917,     0.99141,     0.99141,     0.99112,     0.99086,\n",
       "            0.99086,     0.99059,     0.99059,     0.99059,     0.99038,     0.99038,     0.99038,     0.99038,     0.99013,     0.99013,     0.99013,     0.98991,     0.98991,     0.98991,     0.98991,     0.98966,     0.98966,     0.98942,     0.98942,     0.98942,     0.98886,     0.98831,     0.98831,\n",
       "            0.98805,     0.98779,     0.98779,      0.9873,      0.9873,      0.9873,     0.98679,     0.98679,     0.98679,     0.98656,     0.98656,     0.98603,     0.98603,     0.98555,     0.98555,     0.98555,     0.98504,     0.98495,     0.98495,     0.98495,     0.98495,     0.98495,     0.98495,\n",
       "            0.98495,     0.98474,     0.98474,      0.9845,     0.98431,     0.98431,     0.98431,     0.98381,     0.98381,     0.98358,     0.98333,      0.9831,     0.98234,      0.9821,     0.98184,     0.98173,     0.98173,     0.98173,     0.98173,     0.98173,     0.98173,     0.98173,     0.98173,\n",
       "            0.98173,     0.98173,     0.98173,     0.98173,     0.98173,     0.98173,     0.98173,     0.98173,     0.98173,     0.98173,     0.98173,     0.98154,     0.98154,     0.98131,     0.98109,     0.98059,     0.98013,     0.97999,     0.97999,     0.97999,     0.97951,     0.97906,     0.97859,\n",
       "            0.97836,     0.97815,     0.97801,     0.97801,     0.97801,     0.97785,     0.97785,     0.97739,     0.97719,       0.977,     0.97679,     0.97664,     0.97664,     0.97617,     0.97571,     0.97534,     0.97534,     0.97534,     0.97534,     0.97534,     0.97534,     0.97534,     0.97534,\n",
       "            0.97499,     0.97499,     0.97499,     0.97485,     0.97485,     0.97443,      0.9743,      0.9743,     0.97409,     0.97393,     0.97393,     0.97393,     0.97393,     0.97393,     0.97393,     0.97393,     0.97378,     0.97378,     0.97299,     0.97299,     0.97299,      0.9726,     0.97239,\n",
       "            0.97222,     0.97162,     0.97162,     0.97099,     0.97081,      0.9704,     0.97002,     0.96984,     0.96948,     0.96948,     0.96935,     0.96935,     0.96927,     0.96927,     0.96927,     0.96847,     0.96787,     0.96748,     0.96683,     0.96668,      0.9665,     0.96641,     0.96641,\n",
       "            0.96586,     0.96586,     0.96586,     0.96586,     0.96586,     0.96586,     0.96571,     0.96563,     0.96563,     0.96548,     0.96528,     0.96526,     0.96526,     0.96526,     0.96509,      0.9645,     0.96391,     0.96358,     0.96348,     0.96348,     0.96332,       0.963,       0.963,\n",
       "            0.96299,     0.96299,     0.96299,     0.96283,     0.96248,      0.9619,     0.96174,     0.96143,     0.96126,     0.96111,     0.96076,     0.96073,     0.96073,     0.96073,     0.96058,     0.95944,     0.95935,     0.95916,     0.95878,     0.95878,     0.95878,      0.9582,     0.95789,\n",
       "            0.95757,      0.9572,     0.95667,     0.95642,     0.95642,      0.9563,     0.95624,     0.95624,     0.95594,     0.95541,     0.95504,     0.95454,     0.95421,     0.95411,     0.95358,     0.95315,     0.95315,     0.95282,      0.9528,      0.9528,     0.95244,     0.95236,     0.95184,\n",
       "             0.9517,     0.95119,     0.95108,     0.95041,     0.94958,     0.94942,     0.94895,     0.94881,     0.94881,     0.94881,     0.94866,     0.94835,     0.94825,     0.94794,     0.94765,     0.94719,     0.94674,     0.94606,     0.94559,     0.94549,     0.94538,     0.94454,     0.94397,\n",
       "            0.94397,     0.94386,     0.94358,     0.94333,     0.94306,     0.94291,     0.94238,     0.94238,     0.94212,     0.94166,     0.94137,     0.94125,       0.941,     0.94039,     0.94016,     0.94002,     0.93956,     0.93929,     0.93835,     0.93808,     0.93788,     0.93788,     0.93645,\n",
       "            0.93565,     0.93489,     0.93461,     0.93337,     0.93249,     0.93233,     0.93208,     0.93151,     0.92997,     0.92993,     0.92993,     0.92935,     0.92796,     0.92754,     0.92739,     0.92725,     0.92618,     0.92552,     0.92507,     0.92434,     0.92379,     0.92262,     0.92189,\n",
       "            0.92008,     0.91792,     0.91596,     0.91566,     0.91537,     0.91398,     0.91325,     0.91275,     0.91254,     0.91152,     0.91054,     0.91019,     0.90892,     0.90794,     0.90669,     0.90588,     0.90451,     0.90202,     0.90018,     0.89902,     0.89805,       0.897,     0.89356,\n",
       "            0.89266,     0.89147,     0.89001,     0.88898,     0.88819,     0.88736,     0.88534,     0.88206,     0.88068,     0.87941,     0.87812,       0.877,      0.8751,     0.87411,     0.87276,     0.87137,     0.87029,     0.86866,     0.86786,     0.86708,     0.86644,     0.86456,     0.86337,\n",
       "            0.85942,     0.85632,     0.85504,     0.85275,     0.85147,      0.8492,     0.84836,     0.84737,     0.84375,     0.83979,     0.83687,     0.83539,     0.83268,     0.83045,     0.82881,     0.82626,     0.82249,     0.81961,     0.81781,     0.81454,     0.81247,       0.811,     0.80812,\n",
       "            0.80482,     0.80044,     0.79607,     0.79232,     0.79004,     0.78799,     0.78458,     0.78123,     0.77575,     0.77265,      0.7688,     0.76549,     0.76291,      0.7603,      0.7534,     0.75112,     0.74848,     0.74398,      0.7406,     0.73759,     0.73407,     0.72648,     0.72053,\n",
       "            0.71758,     0.71437,     0.70929,     0.70555,     0.70388,     0.70008,     0.69832,     0.68941,     0.68322,     0.67612,     0.67316,     0.66332,     0.65486,     0.64729,     0.64342,     0.64075,     0.63738,     0.63451,     0.62779,     0.62394,     0.61976,     0.61626,     0.61159,\n",
       "             0.6079,     0.60256,     0.59686,     0.58944,     0.58073,     0.57268,     0.56719,     0.56063,     0.54519,     0.54093,     0.53171,     0.52464,     0.51811,     0.51354,     0.50279,     0.49736,     0.49479,      0.4884,     0.48207,     0.47737,     0.46834,     0.46093,     0.45235,\n",
       "            0.44768,     0.43478,     0.42818,     0.42259,      0.4182,     0.41191,      0.4042,     0.39961,     0.39366,     0.38749,     0.38107,     0.36852,     0.36133,       0.358,     0.35304,     0.34873,     0.34676,     0.34094,     0.33204,     0.32762,     0.32109,     0.31701,     0.30866,\n",
       "             0.2993,      0.2935,     0.28872,     0.27701,     0.27183,      0.2627,     0.25878,     0.25245,     0.24361,     0.22736,     0.21762,     0.20719,     0.20184,     0.18915,     0.18051,     0.17602,     0.16344,     0.15716,     0.15129,     0.13603,     0.13049,     0.12682,     0.12526,\n",
       "            0.12369,     0.12212,     0.12056,     0.11899,     0.11743,     0.11586,      0.1143,     0.11273,     0.11116,      0.1096,     0.10803,     0.10647,      0.1049,     0.10334,     0.10177,      0.1002,    0.098638,    0.097073,    0.095507,    0.093941,    0.092376,     0.09081,    0.089244,\n",
       "           0.087679,    0.086113,    0.084547,    0.082981,    0.081416,     0.07985,    0.078284,    0.076719,    0.075153,    0.073587,    0.072022,    0.070456,     0.06889,    0.067325,    0.065759,    0.064193,    0.062628,    0.061062,    0.059496,     0.05793,    0.056365,    0.054799,    0.053233,\n",
       "           0.051668,    0.050102,    0.048536,    0.046971,    0.045405,    0.043839,    0.042274,    0.040708,    0.039142,    0.037577,    0.036011,    0.034445,    0.032879,    0.031314,    0.029748,    0.028182,    0.026617,    0.025051,    0.023485,     0.02192,    0.020354,    0.018788,    0.017223,\n",
       "           0.015657,    0.014091,    0.012526,     0.01096,   0.0093941,   0.0078284,   0.0062628,   0.0046971,   0.0031314,   0.0015657,           0]]), 'Recall', 'Precision'], [array([          0,    0.001001,    0.002002,    0.003003,    0.004004,    0.005005,    0.006006,    0.007007,    0.008008,    0.009009,     0.01001,    0.011011,    0.012012,    0.013013,    0.014014,    0.015015,    0.016016,    0.017017,    0.018018,    0.019019,     0.02002,    0.021021,    0.022022,    0.023023,\n",
       "          0.024024,    0.025025,    0.026026,    0.027027,    0.028028,    0.029029,     0.03003,    0.031031,    0.032032,    0.033033,    0.034034,    0.035035,    0.036036,    0.037037,    0.038038,    0.039039,     0.04004,    0.041041,    0.042042,    0.043043,    0.044044,    0.045045,    0.046046,    0.047047,\n",
       "          0.048048,    0.049049,     0.05005,    0.051051,    0.052052,    0.053053,    0.054054,    0.055055,    0.056056,    0.057057,    0.058058,    0.059059,     0.06006,    0.061061,    0.062062,    0.063063,    0.064064,    0.065065,    0.066066,    0.067067,    0.068068,    0.069069,     0.07007,    0.071071,\n",
       "          0.072072,    0.073073,    0.074074,    0.075075,    0.076076,    0.077077,    0.078078,    0.079079,     0.08008,    0.081081,    0.082082,    0.083083,    0.084084,    0.085085,    0.086086,    0.087087,    0.088088,    0.089089,     0.09009,    0.091091,    0.092092,    0.093093,    0.094094,    0.095095,\n",
       "          0.096096,    0.097097,    0.098098,    0.099099,      0.1001,      0.1011,      0.1021,      0.1031,      0.1041,     0.10511,     0.10611,     0.10711,     0.10811,     0.10911,     0.11011,     0.11111,     0.11211,     0.11311,     0.11411,     0.11512,     0.11612,     0.11712,     0.11812,     0.11912,\n",
       "           0.12012,     0.12112,     0.12212,     0.12312,     0.12412,     0.12513,     0.12613,     0.12713,     0.12813,     0.12913,     0.13013,     0.13113,     0.13213,     0.13313,     0.13413,     0.13514,     0.13614,     0.13714,     0.13814,     0.13914,     0.14014,     0.14114,     0.14214,     0.14314,\n",
       "           0.14414,     0.14515,     0.14615,     0.14715,     0.14815,     0.14915,     0.15015,     0.15115,     0.15215,     0.15315,     0.15415,     0.15516,     0.15616,     0.15716,     0.15816,     0.15916,     0.16016,     0.16116,     0.16216,     0.16316,     0.16416,     0.16517,     0.16617,     0.16717,\n",
       "           0.16817,     0.16917,     0.17017,     0.17117,     0.17217,     0.17317,     0.17417,     0.17518,     0.17618,     0.17718,     0.17818,     0.17918,     0.18018,     0.18118,     0.18218,     0.18318,     0.18418,     0.18519,     0.18619,     0.18719,     0.18819,     0.18919,     0.19019,     0.19119,\n",
       "           0.19219,     0.19319,     0.19419,      0.1952,      0.1962,      0.1972,      0.1982,      0.1992,      0.2002,      0.2012,      0.2022,      0.2032,      0.2042,     0.20521,     0.20621,     0.20721,     0.20821,     0.20921,     0.21021,     0.21121,     0.21221,     0.21321,     0.21421,     0.21522,\n",
       "           0.21622,     0.21722,     0.21822,     0.21922,     0.22022,     0.22122,     0.22222,     0.22322,     0.22422,     0.22523,     0.22623,     0.22723,     0.22823,     0.22923,     0.23023,     0.23123,     0.23223,     0.23323,     0.23423,     0.23524,     0.23624,     0.23724,     0.23824,     0.23924,\n",
       "           0.24024,     0.24124,     0.24224,     0.24324,     0.24424,     0.24525,     0.24625,     0.24725,     0.24825,     0.24925,     0.25025,     0.25125,     0.25225,     0.25325,     0.25425,     0.25526,     0.25626,     0.25726,     0.25826,     0.25926,     0.26026,     0.26126,     0.26226,     0.26326,\n",
       "           0.26426,     0.26527,     0.26627,     0.26727,     0.26827,     0.26927,     0.27027,     0.27127,     0.27227,     0.27327,     0.27427,     0.27528,     0.27628,     0.27728,     0.27828,     0.27928,     0.28028,     0.28128,     0.28228,     0.28328,     0.28428,     0.28529,     0.28629,     0.28729,\n",
       "           0.28829,     0.28929,     0.29029,     0.29129,     0.29229,     0.29329,     0.29429,      0.2953,      0.2963,      0.2973,      0.2983,      0.2993,      0.3003,      0.3013,      0.3023,      0.3033,      0.3043,     0.30531,     0.30631,     0.30731,     0.30831,     0.30931,     0.31031,     0.31131,\n",
       "           0.31231,     0.31331,     0.31431,     0.31532,     0.31632,     0.31732,     0.31832,     0.31932,     0.32032,     0.32132,     0.32232,     0.32332,     0.32432,     0.32533,     0.32633,     0.32733,     0.32833,     0.32933,     0.33033,     0.33133,     0.33233,     0.33333,     0.33433,     0.33534,\n",
       "           0.33634,     0.33734,     0.33834,     0.33934,     0.34034,     0.34134,     0.34234,     0.34334,     0.34434,     0.34535,     0.34635,     0.34735,     0.34835,     0.34935,     0.35035,     0.35135,     0.35235,     0.35335,     0.35435,     0.35536,     0.35636,     0.35736,     0.35836,     0.35936,\n",
       "           0.36036,     0.36136,     0.36236,     0.36336,     0.36436,     0.36537,     0.36637,     0.36737,     0.36837,     0.36937,     0.37037,     0.37137,     0.37237,     0.37337,     0.37437,     0.37538,     0.37638,     0.37738,     0.37838,     0.37938,     0.38038,     0.38138,     0.38238,     0.38338,\n",
       "           0.38438,     0.38539,     0.38639,     0.38739,     0.38839,     0.38939,     0.39039,     0.39139,     0.39239,     0.39339,     0.39439,      0.3954,      0.3964,      0.3974,      0.3984,      0.3994,      0.4004,      0.4014,      0.4024,      0.4034,      0.4044,     0.40541,     0.40641,     0.40741,\n",
       "           0.40841,     0.40941,     0.41041,     0.41141,     0.41241,     0.41341,     0.41441,     0.41542,     0.41642,     0.41742,     0.41842,     0.41942,     0.42042,     0.42142,     0.42242,     0.42342,     0.42442,     0.42543,     0.42643,     0.42743,     0.42843,     0.42943,     0.43043,     0.43143,\n",
       "           0.43243,     0.43343,     0.43443,     0.43544,     0.43644,     0.43744,     0.43844,     0.43944,     0.44044,     0.44144,     0.44244,     0.44344,     0.44444,     0.44545,     0.44645,     0.44745,     0.44845,     0.44945,     0.45045,     0.45145,     0.45245,     0.45345,     0.45445,     0.45546,\n",
       "           0.45646,     0.45746,     0.45846,     0.45946,     0.46046,     0.46146,     0.46246,     0.46346,     0.46446,     0.46547,     0.46647,     0.46747,     0.46847,     0.46947,     0.47047,     0.47147,     0.47247,     0.47347,     0.47447,     0.47548,     0.47648,     0.47748,     0.47848,     0.47948,\n",
       "           0.48048,     0.48148,     0.48248,     0.48348,     0.48448,     0.48549,     0.48649,     0.48749,     0.48849,     0.48949,     0.49049,     0.49149,     0.49249,     0.49349,     0.49449,      0.4955,      0.4965,      0.4975,      0.4985,      0.4995,      0.5005,      0.5015,      0.5025,      0.5035,\n",
       "            0.5045,     0.50551,     0.50651,     0.50751,     0.50851,     0.50951,     0.51051,     0.51151,     0.51251,     0.51351,     0.51451,     0.51552,     0.51652,     0.51752,     0.51852,     0.51952,     0.52052,     0.52152,     0.52252,     0.52352,     0.52452,     0.52553,     0.52653,     0.52753,\n",
       "           0.52853,     0.52953,     0.53053,     0.53153,     0.53253,     0.53353,     0.53453,     0.53554,     0.53654,     0.53754,     0.53854,     0.53954,     0.54054,     0.54154,     0.54254,     0.54354,     0.54454,     0.54555,     0.54655,     0.54755,     0.54855,     0.54955,     0.55055,     0.55155,\n",
       "           0.55255,     0.55355,     0.55455,     0.55556,     0.55656,     0.55756,     0.55856,     0.55956,     0.56056,     0.56156,     0.56256,     0.56356,     0.56456,     0.56557,     0.56657,     0.56757,     0.56857,     0.56957,     0.57057,     0.57157,     0.57257,     0.57357,     0.57457,     0.57558,\n",
       "           0.57658,     0.57758,     0.57858,     0.57958,     0.58058,     0.58158,     0.58258,     0.58358,     0.58458,     0.58559,     0.58659,     0.58759,     0.58859,     0.58959,     0.59059,     0.59159,     0.59259,     0.59359,     0.59459,      0.5956,      0.5966,      0.5976,      0.5986,      0.5996,\n",
       "            0.6006,      0.6016,      0.6026,      0.6036,      0.6046,     0.60561,     0.60661,     0.60761,     0.60861,     0.60961,     0.61061,     0.61161,     0.61261,     0.61361,     0.61461,     0.61562,     0.61662,     0.61762,     0.61862,     0.61962,     0.62062,     0.62162,     0.62262,     0.62362,\n",
       "           0.62462,     0.62563,     0.62663,     0.62763,     0.62863,     0.62963,     0.63063,     0.63163,     0.63263,     0.63363,     0.63463,     0.63564,     0.63664,     0.63764,     0.63864,     0.63964,     0.64064,     0.64164,     0.64264,     0.64364,     0.64464,     0.64565,     0.64665,     0.64765,\n",
       "           0.64865,     0.64965,     0.65065,     0.65165,     0.65265,     0.65365,     0.65465,     0.65566,     0.65666,     0.65766,     0.65866,     0.65966,     0.66066,     0.66166,     0.66266,     0.66366,     0.66466,     0.66567,     0.66667,     0.66767,     0.66867,     0.66967,     0.67067,     0.67167,\n",
       "           0.67267,     0.67367,     0.67467,     0.67568,     0.67668,     0.67768,     0.67868,     0.67968,     0.68068,     0.68168,     0.68268,     0.68368,     0.68468,     0.68569,     0.68669,     0.68769,     0.68869,     0.68969,     0.69069,     0.69169,     0.69269,     0.69369,     0.69469,      0.6957,\n",
       "            0.6967,      0.6977,      0.6987,      0.6997,      0.7007,      0.7017,      0.7027,      0.7037,      0.7047,     0.70571,     0.70671,     0.70771,     0.70871,     0.70971,     0.71071,     0.71171,     0.71271,     0.71371,     0.71471,     0.71572,     0.71672,     0.71772,     0.71872,     0.71972,\n",
       "           0.72072,     0.72172,     0.72272,     0.72372,     0.72472,     0.72573,     0.72673,     0.72773,     0.72873,     0.72973,     0.73073,     0.73173,     0.73273,     0.73373,     0.73473,     0.73574,     0.73674,     0.73774,     0.73874,     0.73974,     0.74074,     0.74174,     0.74274,     0.74374,\n",
       "           0.74474,     0.74575,     0.74675,     0.74775,     0.74875,     0.74975,     0.75075,     0.75175,     0.75275,     0.75375,     0.75475,     0.75576,     0.75676,     0.75776,     0.75876,     0.75976,     0.76076,     0.76176,     0.76276,     0.76376,     0.76476,     0.76577,     0.76677,     0.76777,\n",
       "           0.76877,     0.76977,     0.77077,     0.77177,     0.77277,     0.77377,     0.77477,     0.77578,     0.77678,     0.77778,     0.77878,     0.77978,     0.78078,     0.78178,     0.78278,     0.78378,     0.78478,     0.78579,     0.78679,     0.78779,     0.78879,     0.78979,     0.79079,     0.79179,\n",
       "           0.79279,     0.79379,     0.79479,      0.7958,      0.7968,      0.7978,      0.7988,      0.7998,      0.8008,      0.8018,      0.8028,      0.8038,      0.8048,     0.80581,     0.80681,     0.80781,     0.80881,     0.80981,     0.81081,     0.81181,     0.81281,     0.81381,     0.81481,     0.81582,\n",
       "           0.81682,     0.81782,     0.81882,     0.81982,     0.82082,     0.82182,     0.82282,     0.82382,     0.82482,     0.82583,     0.82683,     0.82783,     0.82883,     0.82983,     0.83083,     0.83183,     0.83283,     0.83383,     0.83483,     0.83584,     0.83684,     0.83784,     0.83884,     0.83984,\n",
       "           0.84084,     0.84184,     0.84284,     0.84384,     0.84484,     0.84585,     0.84685,     0.84785,     0.84885,     0.84985,     0.85085,     0.85185,     0.85285,     0.85385,     0.85485,     0.85586,     0.85686,     0.85786,     0.85886,     0.85986,     0.86086,     0.86186,     0.86286,     0.86386,\n",
       "           0.86486,     0.86587,     0.86687,     0.86787,     0.86887,     0.86987,     0.87087,     0.87187,     0.87287,     0.87387,     0.87487,     0.87588,     0.87688,     0.87788,     0.87888,     0.87988,     0.88088,     0.88188,     0.88288,     0.88388,     0.88488,     0.88589,     0.88689,     0.88789,\n",
       "           0.88889,     0.88989,     0.89089,     0.89189,     0.89289,     0.89389,     0.89489,      0.8959,      0.8969,      0.8979,      0.8989,      0.8999,      0.9009,      0.9019,      0.9029,      0.9039,      0.9049,     0.90591,     0.90691,     0.90791,     0.90891,     0.90991,     0.91091,     0.91191,\n",
       "           0.91291,     0.91391,     0.91491,     0.91592,     0.91692,     0.91792,     0.91892,     0.91992,     0.92092,     0.92192,     0.92292,     0.92392,     0.92492,     0.92593,     0.92693,     0.92793,     0.92893,     0.92993,     0.93093,     0.93193,     0.93293,     0.93393,     0.93493,     0.93594,\n",
       "           0.93694,     0.93794,     0.93894,     0.93994,     0.94094,     0.94194,     0.94294,     0.94394,     0.94494,     0.94595,     0.94695,     0.94795,     0.94895,     0.94995,     0.95095,     0.95195,     0.95295,     0.95395,     0.95495,     0.95596,     0.95696,     0.95796,     0.95896,     0.95996,\n",
       "           0.96096,     0.96196,     0.96296,     0.96396,     0.96496,     0.96597,     0.96697,     0.96797,     0.96897,     0.96997,     0.97097,     0.97197,     0.97297,     0.97397,     0.97497,     0.97598,     0.97698,     0.97798,     0.97898,     0.97998,     0.98098,     0.98198,     0.98298,     0.98398,\n",
       "           0.98498,     0.98599,     0.98699,     0.98799,     0.98899,     0.98999,     0.99099,     0.99199,     0.99299,     0.99399,     0.99499,       0.996,       0.997,       0.998,       0.999,           1]), array([[    0.22379,     0.22379,     0.27105,      0.3046,     0.33027,     0.35035,     0.36851,     0.38315,     0.39683,     0.40884,     0.42015,     0.43032,     0.44003,     0.44853,     0.45638,      0.4653,     0.47241,     0.47965,     0.48618,     0.49327,     0.49916,     0.50416,     0.50927,\n",
       "            0.51516,      0.5205,      0.5259,      0.5305,     0.53525,     0.53998,     0.54454,     0.54918,      0.5537,     0.55736,     0.56138,     0.56548,      0.5693,     0.57288,     0.57641,     0.58014,     0.58313,     0.58697,     0.59064,     0.59338,      0.5974,     0.60047,     0.60354,\n",
       "            0.60679,     0.60963,     0.61293,     0.61564,     0.61807,     0.62037,     0.62372,     0.62652,     0.62976,      0.6319,     0.63456,     0.63687,     0.63968,     0.64282,     0.64502,     0.64704,     0.64976,     0.65294,      0.6552,     0.65684,     0.65943,     0.66191,     0.66448,\n",
       "            0.66667,     0.66916,     0.67099,     0.67267,     0.67524,     0.67772,     0.67986,     0.68174,       0.684,     0.68621,     0.68699,     0.68955,     0.69097,     0.69279,     0.69479,     0.69657,     0.69843,      0.7002,     0.70186,     0.70336,     0.70562,     0.70745,     0.70867,\n",
       "            0.70999,     0.71117,     0.71237,     0.71397,     0.71528,     0.71713,     0.71818,     0.71915,       0.721,     0.72254,     0.72429,     0.72557,     0.72655,     0.72747,     0.72852,      0.7298,     0.73066,     0.73183,     0.73306,     0.73391,     0.73563,       0.737,      0.7389,\n",
       "            0.74034,     0.74181,     0.74263,     0.74437,     0.74525,     0.74686,     0.74807,     0.74874,     0.75035,     0.75145,     0.75309,     0.75417,     0.75486,     0.75702,     0.75817,     0.75937,     0.76051,     0.76139,     0.76205,      0.7629,     0.76341,     0.76479,     0.76548,\n",
       "            0.76652,     0.76767,     0.76862,     0.76914,     0.77037,     0.77147,     0.77262,     0.77401,     0.77537,     0.77636,     0.77697,     0.77762,     0.77879,     0.77988,     0.78071,     0.78126,     0.78187,     0.78272,     0.78359,     0.78435,      0.7846,     0.78527,     0.78633,\n",
       "            0.78738,     0.78848,     0.78939,      0.7897,     0.79032,     0.79097,     0.79134,     0.79213,     0.79273,     0.79328,     0.79381,     0.79456,     0.79538,     0.79585,     0.79682,     0.79729,     0.79788,     0.79831,     0.79911,     0.79957,     0.80032,      0.8007,     0.80159,\n",
       "            0.80182,     0.80215,     0.80305,     0.80376,     0.80416,     0.80529,     0.80585,     0.80617,     0.80704,     0.80732,     0.80736,     0.80769,      0.8081,     0.80845,      0.8092,     0.80915,     0.80968,     0.81035,     0.81049,     0.81132,     0.81183,     0.81193,     0.81208,\n",
       "            0.81243,     0.81254,     0.81275,     0.81334,     0.81331,     0.81426,     0.81404,     0.81411,     0.81458,     0.81497,      0.8151,     0.81567,     0.81593,     0.81653,     0.81688,     0.81739,     0.81757,     0.81758,     0.81741,     0.81732,     0.81727,     0.81772,     0.81775,\n",
       "            0.81808,       0.818,     0.81824,     0.81831,     0.81856,     0.81836,     0.81851,     0.81903,     0.81912,     0.81921,     0.81966,     0.82008,     0.82045,     0.82053,     0.82054,     0.82073,     0.82066,     0.82029,     0.82026,     0.82008,     0.82032,     0.82024,     0.82022,\n",
       "             0.8202,     0.82012,     0.82033,     0.82018,     0.82033,      0.8203,     0.82047,     0.82061,     0.82045,     0.82049,     0.82061,     0.82046,     0.82034,     0.82028,     0.82042,     0.82072,     0.82095,     0.82122,     0.82138,     0.82141,     0.82149,     0.82131,     0.82102,\n",
       "            0.82109,     0.82082,     0.82103,     0.82088,     0.82082,     0.82065,     0.82077,     0.82089,     0.82067,     0.82062,     0.82062,     0.82092,     0.82106,     0.82127,      0.8213,     0.82135,     0.82123,      0.8215,     0.82126,     0.82099,     0.82095,     0.82125,      0.8212,\n",
       "            0.82127,     0.82144,     0.82168,     0.82184,     0.82153,     0.82177,     0.82131,      0.8214,     0.82131,     0.82125,     0.82123,      0.8212,     0.82116,      0.8209,     0.82094,       0.821,     0.82104,     0.82059,     0.82052,     0.82045,      0.8203,     0.82028,     0.82015,\n",
       "            0.82033,     0.81993,     0.81953,     0.81951,     0.81928,     0.81922,     0.81875,      0.8188,      0.8189,      0.8188,     0.81817,     0.81794,     0.81794,       0.818,     0.81794,     0.81811,     0.81796,     0.81823,     0.81833,     0.81815,     0.81819,     0.81846,     0.81829,\n",
       "            0.81808,     0.81807,       0.818,     0.81786,     0.81769,     0.81746,     0.81734,     0.81734,     0.81713,      0.8171,       0.817,     0.81669,     0.81648,     0.81635,     0.81626,     0.81599,     0.81607,       0.816,     0.81553,     0.81523,      0.8149,     0.81477,     0.81463,\n",
       "            0.81459,     0.81403,      0.8144,     0.81403,     0.81372,     0.81333,     0.81301,     0.81273,     0.81276,     0.81265,     0.81277,     0.81246,     0.81209,     0.81185,      0.8116,     0.81122,     0.81115,     0.81096,     0.81099,     0.81073,     0.81048,     0.81069,     0.81024,\n",
       "            0.81012,     0.81008,      0.8096,     0.80936,     0.80947,     0.80938,     0.80903,     0.80827,     0.80783,      0.8078,     0.80727,     0.80708,     0.80715,     0.80714,     0.80673,     0.80648,      0.8062,     0.80572,     0.80525,     0.80499,     0.80479,     0.80476,     0.80438,\n",
       "            0.80414,      0.8039,      0.8033,     0.80304,      0.8027,     0.80217,     0.80182,     0.80134,     0.80121,     0.80028,     0.79999,     0.79973,     0.79912,     0.79879,     0.79843,     0.79814,     0.79743,     0.79714,     0.79684,     0.79657,     0.79648,     0.79624,     0.79583,\n",
       "            0.79584,     0.79521,     0.79488,     0.79472,     0.79442,     0.79396,     0.79353,     0.79337,     0.79297,     0.79287,     0.79234,     0.79191,     0.79125,     0.79089,     0.79056,     0.79013,     0.78983,     0.78874,     0.78829,     0.78795,     0.78791,     0.78756,     0.78711,\n",
       "            0.78691,     0.78657,      0.7859,      0.7858,     0.78486,     0.78489,     0.78465,     0.78412,     0.78408,     0.78351,     0.78297,     0.78259,     0.78199,     0.78129,     0.78115,     0.78084,     0.77997,     0.77935,     0.77894,     0.77823,     0.77761,     0.77707,      0.7768,\n",
       "            0.77641,     0.77589,      0.7754,     0.77489,     0.77438,     0.77408,     0.77363,     0.77277,     0.77206,     0.77177,     0.77139,     0.77096,     0.77051,     0.76975,      0.7693,     0.76822,     0.76715,     0.76688,      0.7662,     0.76543,     0.76483,     0.76467,     0.76432,\n",
       "            0.76348,     0.76255,     0.76173,     0.76092,     0.76015,     0.75996,     0.75961,     0.75922,     0.75886,     0.75863,     0.75755,     0.75651,     0.75556,     0.75477,     0.75274,      0.7521,     0.75142,     0.75064,     0.75044,     0.74988,     0.74921,     0.74825,      0.7466,\n",
       "            0.74644,     0.74554,     0.74468,     0.74377,      0.7421,     0.74091,     0.73993,     0.73934,     0.73887,      0.7379,     0.73676,     0.73606,       0.735,     0.73423,     0.73425,     0.73366,     0.73194,     0.73149,     0.72952,      0.7293,     0.72765,     0.72738,     0.72666,\n",
       "            0.72669,     0.72513,     0.72492,     0.72327,     0.72293,     0.72154,     0.72043,     0.71987,     0.71888,     0.71876,     0.71645,     0.71554,      0.7135,     0.71304,     0.71168,     0.71157,     0.70879,     0.70838,     0.70637,     0.70625,      0.7047,     0.70441,     0.70314,\n",
       "            0.70232,     0.70023,     0.69977,     0.69762,      0.6975,     0.69599,       0.694,     0.69371,     0.69272,     0.69248,     0.69136,     0.69112,     0.68945,     0.68939,     0.68727,     0.68715,     0.68591,     0.68537,      0.6834,     0.68304,     0.68112,     0.67951,     0.67926,\n",
       "            0.67709,     0.67648,     0.67418,     0.67369,     0.67222,     0.67173,      0.6699,     0.66977,     0.66769,     0.66541,     0.66504,     0.66313,     0.66251,     0.66089,     0.66064,     0.65821,     0.65771,     0.65583,     0.65521,     0.65382,     0.65294,     0.65079,     0.64883,\n",
       "            0.64845,     0.64642,     0.64591,     0.64424,     0.64393,     0.64195,     0.64156,     0.64006,     0.63999,     0.63808,     0.63794,     0.63548,     0.63354,     0.63327,     0.63054,     0.63041,     0.62907,     0.62843,     0.62534,     0.62374,     0.62348,     0.62209,     0.62181,\n",
       "            0.61956,      0.6193,     0.61748,     0.61741,      0.6147,     0.61255,     0.61228,     0.61013,     0.60992,     0.60757,     0.60748,     0.60401,     0.60394,      0.6012,     0.59831,     0.59824,     0.59585,     0.59578,     0.59424,     0.59269,     0.59262,     0.59068,     0.59058,\n",
       "            0.58849,     0.58842,     0.58486,     0.58203,     0.58196,     0.57964,     0.57954,     0.57714,     0.57706,     0.57443,     0.57212,     0.57215,     0.56996,     0.56792,     0.56785,     0.56434,     0.56424,     0.56091,     0.56084,     0.55684,     0.55428,      0.5542,     0.55024,\n",
       "            0.55014,     0.54477,     0.54469,      0.5412,     0.53753,     0.53743,     0.53356,     0.53359,      0.5295,     0.52713,     0.52487,     0.52479,     0.52197,     0.52187,     0.51938,     0.51729,     0.51721,     0.51283,     0.51272,     0.50958,     0.50529,     0.50521,     0.50153,\n",
       "            0.50143,     0.49912,     0.49556,     0.49545,     0.49014,     0.49006,     0.48794,     0.48527,     0.48249,     0.48238,     0.47778,      0.4777,      0.4736,     0.47105,     0.47094,     0.46739,     0.46449,     0.46438,     0.46114,     0.45854,     0.45843,     0.45436,     0.45427,\n",
       "            0.45116,     0.44752,     0.44741,     0.44308,     0.43843,     0.43593,     0.43582,     0.43245,     0.42843,     0.42831,     0.42492,      0.4222,     0.42208,     0.41761,     0.41399,     0.41387,     0.41076,     0.40676,     0.40664,     0.40261,     0.39803,     0.39791,     0.39402,\n",
       "            0.38975,     0.38545,     0.38533,     0.38247,     0.37781,     0.37358,     0.37346,     0.36963,     0.36635,     0.36622,     0.36124,     0.35735,     0.35723,     0.35219,     0.34862,     0.34597,     0.34584,     0.34227,     0.33945,     0.33932,      0.3372,     0.33475,     0.33113,\n",
       "            0.32866,     0.32853,     0.32351,     0.32139,      0.3183,     0.31816,     0.31601,     0.31407,     0.31175,     0.31161,     0.30884,     0.30709,     0.30475,     0.30461,      0.3012,     0.29965,     0.29705,     0.29425,     0.29106,     0.28861,     0.28847,     0.28726,     0.28484,\n",
       "            0.28305,     0.28038,     0.28024,     0.27715,     0.27451,     0.27164,     0.26978,     0.26964,     0.26734,     0.26446,     0.26198,     0.25944,      0.2565,     0.25636,     0.25423,     0.24954,     0.24939,     0.24835,     0.24599,     0.24431,     0.24351,     0.24135,     0.24049,\n",
       "            0.24034,     0.23841,     0.23537,     0.23298,     0.23129,     0.23046,     0.22892,     0.22782,      0.2265,     0.22345,      0.2233,     0.22153,     0.21866,     0.21666,     0.21576,     0.21353,     0.21085,     0.20683,     0.20668,      0.2049,     0.20219,     0.20129,     0.19925,\n",
       "            0.19743,      0.1947,     0.19151,     0.18739,     0.18371,     0.17839,     0.17491,     0.17141,     0.16814,     0.16202,      0.1586,     0.15527,     0.15099,     0.14668,     0.14307,     0.13728,     0.13242,     0.12521,     0.12053,     0.11608,     0.11011,     0.10177,    0.095922,\n",
       "           0.089064,     0.08395,    0.073517,     0.06884,    0.064801,    0.060336,    0.049246,    0.040696,    0.036543,    0.032225,    0.024219,     0.02008,    0.016415,    0.014211,    0.011312,   0.0076441,   0.0061819,   0.0043711,   0.0041162,   0.0039264,   0.0033776,   0.0027306,    0.002588,\n",
       "          0.0024921,   0.0024564,   0.0024208,   0.0023851,   0.0023495,   0.0023138,   0.0022781,   0.0022425,   0.0019483,   0.0019299,   0.0019115,   0.0018931,   0.0018746,   0.0018562,   0.0018378,   0.0018194,    0.001801,   0.0017826,   0.0017641,   0.0017457,   0.0017273,   0.0017089,   0.0016905,\n",
       "          0.0016703,   0.0015752,     0.00148,   0.0013897,   0.0013458,   0.0013018,   0.0012579,    0.001214,     0.00117,   0.0011261,   0.0010614,     0.00099,  0.00091858,  0.00084715,  0.00082644,  0.00081454,  0.00080263,  0.00079073,  0.00077882,  0.00076692,  0.00075501,   0.0007431,   0.0007312,\n",
       "         0.00071929,  0.00070738,  0.00069548,  0.00068357,  0.00067166,  0.00065976,  0.00064785,  0.00063594,  0.00062403,  0.00061213,  0.00060022,  0.00058831,   0.0005764,  0.00056449,  0.00055248,  0.00054031,  0.00052815,  0.00051599,  0.00050383,  0.00049166,   0.0004795,  0.00046734,  0.00045518,\n",
       "         0.00044301,  0.00043085,  0.00041869,  0.00040652,  0.00039436,   0.0003822,  0.00037003,  0.00035787,   0.0003457,  0.00033354,  0.00032137,  0.00030921,  0.00029705,  0.00028488,           0,           0,           0,           0,           0,           0,           0,           0,           0,\n",
       "                  0,           0,           0,           0,           0,           0,           0,           0,           0,           0,           0]]), 'Confidence', 'F1'], [array([          0,    0.001001,    0.002002,    0.003003,    0.004004,    0.005005,    0.006006,    0.007007,    0.008008,    0.009009,     0.01001,    0.011011,    0.012012,    0.013013,    0.014014,    0.015015,    0.016016,    0.017017,    0.018018,    0.019019,     0.02002,    0.021021,    0.022022,    0.023023,\n",
       "          0.024024,    0.025025,    0.026026,    0.027027,    0.028028,    0.029029,     0.03003,    0.031031,    0.032032,    0.033033,    0.034034,    0.035035,    0.036036,    0.037037,    0.038038,    0.039039,     0.04004,    0.041041,    0.042042,    0.043043,    0.044044,    0.045045,    0.046046,    0.047047,\n",
       "          0.048048,    0.049049,     0.05005,    0.051051,    0.052052,    0.053053,    0.054054,    0.055055,    0.056056,    0.057057,    0.058058,    0.059059,     0.06006,    0.061061,    0.062062,    0.063063,    0.064064,    0.065065,    0.066066,    0.067067,    0.068068,    0.069069,     0.07007,    0.071071,\n",
       "          0.072072,    0.073073,    0.074074,    0.075075,    0.076076,    0.077077,    0.078078,    0.079079,     0.08008,    0.081081,    0.082082,    0.083083,    0.084084,    0.085085,    0.086086,    0.087087,    0.088088,    0.089089,     0.09009,    0.091091,    0.092092,    0.093093,    0.094094,    0.095095,\n",
       "          0.096096,    0.097097,    0.098098,    0.099099,      0.1001,      0.1011,      0.1021,      0.1031,      0.1041,     0.10511,     0.10611,     0.10711,     0.10811,     0.10911,     0.11011,     0.11111,     0.11211,     0.11311,     0.11411,     0.11512,     0.11612,     0.11712,     0.11812,     0.11912,\n",
       "           0.12012,     0.12112,     0.12212,     0.12312,     0.12412,     0.12513,     0.12613,     0.12713,     0.12813,     0.12913,     0.13013,     0.13113,     0.13213,     0.13313,     0.13413,     0.13514,     0.13614,     0.13714,     0.13814,     0.13914,     0.14014,     0.14114,     0.14214,     0.14314,\n",
       "           0.14414,     0.14515,     0.14615,     0.14715,     0.14815,     0.14915,     0.15015,     0.15115,     0.15215,     0.15315,     0.15415,     0.15516,     0.15616,     0.15716,     0.15816,     0.15916,     0.16016,     0.16116,     0.16216,     0.16316,     0.16416,     0.16517,     0.16617,     0.16717,\n",
       "           0.16817,     0.16917,     0.17017,     0.17117,     0.17217,     0.17317,     0.17417,     0.17518,     0.17618,     0.17718,     0.17818,     0.17918,     0.18018,     0.18118,     0.18218,     0.18318,     0.18418,     0.18519,     0.18619,     0.18719,     0.18819,     0.18919,     0.19019,     0.19119,\n",
       "           0.19219,     0.19319,     0.19419,      0.1952,      0.1962,      0.1972,      0.1982,      0.1992,      0.2002,      0.2012,      0.2022,      0.2032,      0.2042,     0.20521,     0.20621,     0.20721,     0.20821,     0.20921,     0.21021,     0.21121,     0.21221,     0.21321,     0.21421,     0.21522,\n",
       "           0.21622,     0.21722,     0.21822,     0.21922,     0.22022,     0.22122,     0.22222,     0.22322,     0.22422,     0.22523,     0.22623,     0.22723,     0.22823,     0.22923,     0.23023,     0.23123,     0.23223,     0.23323,     0.23423,     0.23524,     0.23624,     0.23724,     0.23824,     0.23924,\n",
       "           0.24024,     0.24124,     0.24224,     0.24324,     0.24424,     0.24525,     0.24625,     0.24725,     0.24825,     0.24925,     0.25025,     0.25125,     0.25225,     0.25325,     0.25425,     0.25526,     0.25626,     0.25726,     0.25826,     0.25926,     0.26026,     0.26126,     0.26226,     0.26326,\n",
       "           0.26426,     0.26527,     0.26627,     0.26727,     0.26827,     0.26927,     0.27027,     0.27127,     0.27227,     0.27327,     0.27427,     0.27528,     0.27628,     0.27728,     0.27828,     0.27928,     0.28028,     0.28128,     0.28228,     0.28328,     0.28428,     0.28529,     0.28629,     0.28729,\n",
       "           0.28829,     0.28929,     0.29029,     0.29129,     0.29229,     0.29329,     0.29429,      0.2953,      0.2963,      0.2973,      0.2983,      0.2993,      0.3003,      0.3013,      0.3023,      0.3033,      0.3043,     0.30531,     0.30631,     0.30731,     0.30831,     0.30931,     0.31031,     0.31131,\n",
       "           0.31231,     0.31331,     0.31431,     0.31532,     0.31632,     0.31732,     0.31832,     0.31932,     0.32032,     0.32132,     0.32232,     0.32332,     0.32432,     0.32533,     0.32633,     0.32733,     0.32833,     0.32933,     0.33033,     0.33133,     0.33233,     0.33333,     0.33433,     0.33534,\n",
       "           0.33634,     0.33734,     0.33834,     0.33934,     0.34034,     0.34134,     0.34234,     0.34334,     0.34434,     0.34535,     0.34635,     0.34735,     0.34835,     0.34935,     0.35035,     0.35135,     0.35235,     0.35335,     0.35435,     0.35536,     0.35636,     0.35736,     0.35836,     0.35936,\n",
       "           0.36036,     0.36136,     0.36236,     0.36336,     0.36436,     0.36537,     0.36637,     0.36737,     0.36837,     0.36937,     0.37037,     0.37137,     0.37237,     0.37337,     0.37437,     0.37538,     0.37638,     0.37738,     0.37838,     0.37938,     0.38038,     0.38138,     0.38238,     0.38338,\n",
       "           0.38438,     0.38539,     0.38639,     0.38739,     0.38839,     0.38939,     0.39039,     0.39139,     0.39239,     0.39339,     0.39439,      0.3954,      0.3964,      0.3974,      0.3984,      0.3994,      0.4004,      0.4014,      0.4024,      0.4034,      0.4044,     0.40541,     0.40641,     0.40741,\n",
       "           0.40841,     0.40941,     0.41041,     0.41141,     0.41241,     0.41341,     0.41441,     0.41542,     0.41642,     0.41742,     0.41842,     0.41942,     0.42042,     0.42142,     0.42242,     0.42342,     0.42442,     0.42543,     0.42643,     0.42743,     0.42843,     0.42943,     0.43043,     0.43143,\n",
       "           0.43243,     0.43343,     0.43443,     0.43544,     0.43644,     0.43744,     0.43844,     0.43944,     0.44044,     0.44144,     0.44244,     0.44344,     0.44444,     0.44545,     0.44645,     0.44745,     0.44845,     0.44945,     0.45045,     0.45145,     0.45245,     0.45345,     0.45445,     0.45546,\n",
       "           0.45646,     0.45746,     0.45846,     0.45946,     0.46046,     0.46146,     0.46246,     0.46346,     0.46446,     0.46547,     0.46647,     0.46747,     0.46847,     0.46947,     0.47047,     0.47147,     0.47247,     0.47347,     0.47447,     0.47548,     0.47648,     0.47748,     0.47848,     0.47948,\n",
       "           0.48048,     0.48148,     0.48248,     0.48348,     0.48448,     0.48549,     0.48649,     0.48749,     0.48849,     0.48949,     0.49049,     0.49149,     0.49249,     0.49349,     0.49449,      0.4955,      0.4965,      0.4975,      0.4985,      0.4995,      0.5005,      0.5015,      0.5025,      0.5035,\n",
       "            0.5045,     0.50551,     0.50651,     0.50751,     0.50851,     0.50951,     0.51051,     0.51151,     0.51251,     0.51351,     0.51451,     0.51552,     0.51652,     0.51752,     0.51852,     0.51952,     0.52052,     0.52152,     0.52252,     0.52352,     0.52452,     0.52553,     0.52653,     0.52753,\n",
       "           0.52853,     0.52953,     0.53053,     0.53153,     0.53253,     0.53353,     0.53453,     0.53554,     0.53654,     0.53754,     0.53854,     0.53954,     0.54054,     0.54154,     0.54254,     0.54354,     0.54454,     0.54555,     0.54655,     0.54755,     0.54855,     0.54955,     0.55055,     0.55155,\n",
       "           0.55255,     0.55355,     0.55455,     0.55556,     0.55656,     0.55756,     0.55856,     0.55956,     0.56056,     0.56156,     0.56256,     0.56356,     0.56456,     0.56557,     0.56657,     0.56757,     0.56857,     0.56957,     0.57057,     0.57157,     0.57257,     0.57357,     0.57457,     0.57558,\n",
       "           0.57658,     0.57758,     0.57858,     0.57958,     0.58058,     0.58158,     0.58258,     0.58358,     0.58458,     0.58559,     0.58659,     0.58759,     0.58859,     0.58959,     0.59059,     0.59159,     0.59259,     0.59359,     0.59459,      0.5956,      0.5966,      0.5976,      0.5986,      0.5996,\n",
       "            0.6006,      0.6016,      0.6026,      0.6036,      0.6046,     0.60561,     0.60661,     0.60761,     0.60861,     0.60961,     0.61061,     0.61161,     0.61261,     0.61361,     0.61461,     0.61562,     0.61662,     0.61762,     0.61862,     0.61962,     0.62062,     0.62162,     0.62262,     0.62362,\n",
       "           0.62462,     0.62563,     0.62663,     0.62763,     0.62863,     0.62963,     0.63063,     0.63163,     0.63263,     0.63363,     0.63463,     0.63564,     0.63664,     0.63764,     0.63864,     0.63964,     0.64064,     0.64164,     0.64264,     0.64364,     0.64464,     0.64565,     0.64665,     0.64765,\n",
       "           0.64865,     0.64965,     0.65065,     0.65165,     0.65265,     0.65365,     0.65465,     0.65566,     0.65666,     0.65766,     0.65866,     0.65966,     0.66066,     0.66166,     0.66266,     0.66366,     0.66466,     0.66567,     0.66667,     0.66767,     0.66867,     0.66967,     0.67067,     0.67167,\n",
       "           0.67267,     0.67367,     0.67467,     0.67568,     0.67668,     0.67768,     0.67868,     0.67968,     0.68068,     0.68168,     0.68268,     0.68368,     0.68468,     0.68569,     0.68669,     0.68769,     0.68869,     0.68969,     0.69069,     0.69169,     0.69269,     0.69369,     0.69469,      0.6957,\n",
       "            0.6967,      0.6977,      0.6987,      0.6997,      0.7007,      0.7017,      0.7027,      0.7037,      0.7047,     0.70571,     0.70671,     0.70771,     0.70871,     0.70971,     0.71071,     0.71171,     0.71271,     0.71371,     0.71471,     0.71572,     0.71672,     0.71772,     0.71872,     0.71972,\n",
       "           0.72072,     0.72172,     0.72272,     0.72372,     0.72472,     0.72573,     0.72673,     0.72773,     0.72873,     0.72973,     0.73073,     0.73173,     0.73273,     0.73373,     0.73473,     0.73574,     0.73674,     0.73774,     0.73874,     0.73974,     0.74074,     0.74174,     0.74274,     0.74374,\n",
       "           0.74474,     0.74575,     0.74675,     0.74775,     0.74875,     0.74975,     0.75075,     0.75175,     0.75275,     0.75375,     0.75475,     0.75576,     0.75676,     0.75776,     0.75876,     0.75976,     0.76076,     0.76176,     0.76276,     0.76376,     0.76476,     0.76577,     0.76677,     0.76777,\n",
       "           0.76877,     0.76977,     0.77077,     0.77177,     0.77277,     0.77377,     0.77477,     0.77578,     0.77678,     0.77778,     0.77878,     0.77978,     0.78078,     0.78178,     0.78278,     0.78378,     0.78478,     0.78579,     0.78679,     0.78779,     0.78879,     0.78979,     0.79079,     0.79179,\n",
       "           0.79279,     0.79379,     0.79479,      0.7958,      0.7968,      0.7978,      0.7988,      0.7998,      0.8008,      0.8018,      0.8028,      0.8038,      0.8048,     0.80581,     0.80681,     0.80781,     0.80881,     0.80981,     0.81081,     0.81181,     0.81281,     0.81381,     0.81481,     0.81582,\n",
       "           0.81682,     0.81782,     0.81882,     0.81982,     0.82082,     0.82182,     0.82282,     0.82382,     0.82482,     0.82583,     0.82683,     0.82783,     0.82883,     0.82983,     0.83083,     0.83183,     0.83283,     0.83383,     0.83483,     0.83584,     0.83684,     0.83784,     0.83884,     0.83984,\n",
       "           0.84084,     0.84184,     0.84284,     0.84384,     0.84484,     0.84585,     0.84685,     0.84785,     0.84885,     0.84985,     0.85085,     0.85185,     0.85285,     0.85385,     0.85485,     0.85586,     0.85686,     0.85786,     0.85886,     0.85986,     0.86086,     0.86186,     0.86286,     0.86386,\n",
       "           0.86486,     0.86587,     0.86687,     0.86787,     0.86887,     0.86987,     0.87087,     0.87187,     0.87287,     0.87387,     0.87487,     0.87588,     0.87688,     0.87788,     0.87888,     0.87988,     0.88088,     0.88188,     0.88288,     0.88388,     0.88488,     0.88589,     0.88689,     0.88789,\n",
       "           0.88889,     0.88989,     0.89089,     0.89189,     0.89289,     0.89389,     0.89489,      0.8959,      0.8969,      0.8979,      0.8989,      0.8999,      0.9009,      0.9019,      0.9029,      0.9039,      0.9049,     0.90591,     0.90691,     0.90791,     0.90891,     0.90991,     0.91091,     0.91191,\n",
       "           0.91291,     0.91391,     0.91491,     0.91592,     0.91692,     0.91792,     0.91892,     0.91992,     0.92092,     0.92192,     0.92292,     0.92392,     0.92492,     0.92593,     0.92693,     0.92793,     0.92893,     0.92993,     0.93093,     0.93193,     0.93293,     0.93393,     0.93493,     0.93594,\n",
       "           0.93694,     0.93794,     0.93894,     0.93994,     0.94094,     0.94194,     0.94294,     0.94394,     0.94494,     0.94595,     0.94695,     0.94795,     0.94895,     0.94995,     0.95095,     0.95195,     0.95295,     0.95395,     0.95495,     0.95596,     0.95696,     0.95796,     0.95896,     0.95996,\n",
       "           0.96096,     0.96196,     0.96296,     0.96396,     0.96496,     0.96597,     0.96697,     0.96797,     0.96897,     0.96997,     0.97097,     0.97197,     0.97297,     0.97397,     0.97497,     0.97598,     0.97698,     0.97798,     0.97898,     0.97998,     0.98098,     0.98198,     0.98298,     0.98398,\n",
       "           0.98498,     0.98599,     0.98699,     0.98799,     0.98899,     0.98999,     0.99099,     0.99199,     0.99299,     0.99399,     0.99499,       0.996,       0.997,       0.998,       0.999,           1]), array([[    0.12742,     0.12742,     0.15909,     0.18286,     0.20174,     0.21705,     0.23125,     0.24295,     0.25417,     0.26426,     0.27387,     0.28275,     0.29126,     0.29888,     0.30603,      0.3142,     0.32089,     0.32777,     0.33413,     0.34091,     0.34673,     0.35185,     0.35699,\n",
       "            0.36305,      0.3685,     0.37402,     0.37874,      0.3837,     0.38874,     0.39365,     0.39867,     0.40366,     0.40776,      0.4122,     0.41683,     0.42119,     0.42532,     0.42938,     0.43367,     0.43709,     0.44149,     0.44573,       0.449,     0.45393,     0.45752,     0.46125,\n",
       "            0.46513,     0.46868,     0.47267,     0.47603,     0.47907,      0.4821,     0.48642,     0.49001,      0.4941,     0.49713,     0.50061,     0.50369,     0.50726,     0.51136,     0.51435,     0.51718,     0.52086,     0.52532,      0.5283,      0.5306,      0.5341,     0.53763,     0.54114,\n",
       "            0.54422,     0.54772,     0.55022,     0.55254,     0.55614,     0.55964,     0.56292,     0.56561,     0.56886,     0.57198,     0.57348,     0.57727,     0.57933,     0.58203,     0.58498,     0.58758,     0.59042,     0.59296,     0.59548,     0.59812,      0.6016,     0.60455,     0.60662,\n",
       "            0.60891,     0.61079,     0.61293,     0.61544,     0.61784,     0.62098,     0.62285,      0.6247,     0.62765,     0.63038,     0.63319,     0.63547,     0.63721,     0.63902,     0.64105,     0.64353,     0.64511,     0.64718,     0.64944,     0.65085,     0.65381,     0.65624,     0.65943,\n",
       "            0.66182,     0.66434,     0.66584,     0.66873,     0.67033,     0.67303,     0.67541,     0.67681,     0.67972,      0.6818,      0.6847,     0.68658,       0.688,     0.69189,     0.69401,     0.69622,     0.69852,     0.70081,     0.70221,     0.70376,     0.70531,      0.7081,     0.70978,\n",
       "            0.71178,     0.71407,      0.7162,     0.71777,     0.72034,     0.72247,      0.7245,      0.7276,     0.73022,     0.73209,     0.73339,     0.73512,     0.73752,     0.73983,     0.74211,     0.74356,     0.74503,     0.74679,     0.74883,     0.75116,     0.75184,     0.75355,     0.75586,\n",
       "            0.75803,     0.76032,     0.76262,     0.76397,     0.76548,     0.76718,     0.76811,     0.76985,     0.77137,     0.77304,      0.7743,     0.77622,     0.77791,     0.77908,     0.78146,     0.78288,     0.78402,     0.78562,     0.78797,     0.78952,     0.79126,     0.79279,     0.79469,\n",
       "            0.79528,       0.797,     0.79919,     0.80087,     0.80208,     0.80481,     0.80642,     0.80734,     0.80944,     0.81079,     0.81144,     0.81267,     0.81452,     0.81537,     0.81761,     0.81826,     0.82014,     0.82204,     0.82276,     0.82508,     0.82624,     0.82723,     0.82784,\n",
       "            0.82904,     0.82986,     0.83053,     0.83248,     0.83285,     0.83529,      0.8356,     0.83654,     0.83768,     0.83913,     0.83988,     0.84146,     0.84227,     0.84402,     0.84494,     0.84634,     0.84702,     0.84825,     0.84842,     0.84909,     0.84947,     0.85064,     0.85116,\n",
       "            0.85254,     0.85309,     0.85371,     0.85468,     0.85552,     0.85629,     0.85695,     0.85842,     0.85895,     0.85948,     0.86081,     0.86191,     0.86358,     0.86419,     0.86479,     0.86593,     0.86637,       0.867,     0.86856,     0.86876,     0.87003,     0.87055,     0.87136,\n",
       "            0.87222,     0.87312,      0.8741,     0.87521,     0.87584,     0.87658,     0.87738,       0.878,     0.87927,     0.87992,     0.88045,     0.88054,     0.88179,     0.88236,      0.8827,     0.88357,     0.88428,     0.88529,     0.88641,     0.88686,     0.88743,      0.8881,     0.88859,\n",
       "            0.88884,     0.88918,     0.88975,     0.89109,     0.89153,     0.89167,     0.89238,     0.89285,      0.8931,     0.89314,     0.89357,     0.89455,      0.8952,      0.8957,     0.89734,     0.89744,     0.89828,       0.899,     0.89941,     0.89994,     0.90016,     0.90117,     0.90144,\n",
       "             0.9022,     0.90282,     0.90359,     0.90419,     0.90544,     0.90632,     0.90624,     0.90668,     0.90693,     0.90764,     0.90797,     0.90821,     0.90877,     0.90902,     0.90932,     0.90975,     0.90997,     0.91026,     0.91053,      0.9108,     0.91125,      0.9115,     0.91163,\n",
       "            0.91253,     0.91261,      0.9127,     0.91312,     0.91323,     0.91395,     0.91388,     0.91447,     0.91537,     0.91555,     0.91555,     0.91575,     0.91638,     0.91671,       0.917,     0.91792,     0.91794,     0.91906,     0.91953,     0.92038,     0.92047,      0.9216,     0.92203,\n",
       "            0.92216,     0.92281,     0.92319,     0.92358,     0.92376,     0.92434,     0.92447,     0.92493,     0.92526,     0.92542,      0.9255,     0.92571,     0.92584,     0.92617,     0.92617,      0.9266,     0.92681,     0.92738,     0.92731,     0.92727,     0.92753,     0.92767,     0.92781,\n",
       "            0.92795,     0.92788,     0.92935,     0.92977,     0.92989,     0.92983,     0.92995,     0.93001,     0.93023,     0.93117,      0.9315,     0.93162,     0.93206,     0.93218,     0.93247,     0.93242,     0.93263,     0.93271,     0.93314,     0.93333,     0.93362,     0.93425,     0.93472,\n",
       "            0.93487,     0.93502,     0.93563,     0.93643,     0.93697,     0.93746,     0.93784,     0.93775,     0.93802,      0.9383,     0.93829,     0.93826,     0.93874,     0.93943,     0.93955,     0.93986,     0.94016,      0.9401,     0.94025,     0.94035,     0.94083,       0.941,     0.94095,\n",
       "            0.94109,     0.94124,     0.94133,     0.94164,     0.94206,     0.94205,     0.94235,      0.9423,     0.94276,     0.94303,       0.943,     0.94332,     0.94342,     0.94356,     0.94386,     0.94383,     0.94392,     0.94389,     0.94438,     0.94458,     0.94521,     0.94536,     0.94531,\n",
       "            0.94543,     0.94542,     0.94556,     0.94589,      0.9467,     0.94669,     0.94682,     0.94716,     0.94711,     0.94763,     0.94776,     0.94789,     0.94818,      0.9485,     0.94864,     0.94878,     0.94875,     0.94864,     0.94877,     0.94892,     0.94909,     0.94932,     0.94955,\n",
       "            0.94953,     0.95022,     0.95062,     0.95105,     0.95115,     0.95163,     0.95167,     0.95181,     0.95199,      0.9523,     0.95243,     0.95276,     0.95271,     0.95264,     0.95281,     0.95278,     0.95307,     0.95357,      0.9541,     0.95403,     0.95454,     0.95467,     0.95504,\n",
       "            0.95537,     0.95589,     0.95623,     0.95618,     0.95614,     0.95611,     0.95626,     0.95638,     0.95631,     0.95667,     0.95702,     0.95744,      0.9576,     0.95785,     0.95847,     0.95869,     0.95879,     0.95906,      0.9593,     0.95943,     0.95989,     0.96055,     0.96072,\n",
       "            0.96065,     0.96058,     0.96091,     0.96125,     0.96138,     0.96153,     0.96171,     0.96171,     0.96189,     0.96247,     0.96298,     0.96292,     0.96284,     0.96299,     0.96345,      0.9634,     0.96355,     0.96372,      0.9641,     0.96468,     0.96525,     0.96518,     0.96527,\n",
       "            0.96547,     0.96561,     0.96555,      0.9657,     0.96579,     0.96571,     0.96564,     0.96581,     0.96587,     0.96635,     0.96648,     0.96665,     0.96744,     0.96794,     0.96838,     0.96856,     0.96919,     0.96916,     0.96947,     0.96946,      0.9698,        0.97,     0.97018,\n",
       "            0.97036,     0.97097,     0.97141,     0.97221,     0.97219,     0.97256,     0.97295,     0.97292,     0.97378,     0.97377,     0.97387,     0.97382,     0.97371,     0.97368,     0.97407,     0.97422,     0.97478,     0.97482,     0.97495,     0.97495,      0.9751,     0.97532,     0.97525,\n",
       "            0.97521,      0.9751,     0.97508,     0.97568,     0.97568,     0.97657,     0.97696,     0.97694,     0.97763,     0.97762,     0.97781,      0.9778,     0.97796,     0.97796,     0.97836,     0.97835,     0.97904,     0.97927,     0.97994,     0.97992,     0.98035,      0.9813,     0.98129,\n",
       "            0.98171,     0.98169,      0.9816,     0.98158,     0.98152,      0.9815,     0.98142,     0.98142,     0.98133,     0.98124,     0.98122,     0.98141,     0.98138,     0.98132,     0.98184,     0.98309,     0.98307,     0.98355,      0.9838,     0.98429,     0.98426,     0.98474,     0.98495,\n",
       "            0.98493,     0.98487,     0.98485,     0.98479,     0.98478,     0.98499,     0.98498,      0.9855,      0.9855,       0.986,       0.986,     0.98678,     0.98672,      0.9873,     0.98722,     0.98721,     0.98802,     0.98803,     0.98884,     0.98939,     0.98939,     0.98965,     0.98965,\n",
       "            0.98989,     0.98989,     0.98985,     0.98984,     0.99008,     0.99034,     0.99034,     0.99029,     0.99038,     0.99085,     0.99085,      0.9914,      0.9914,     0.99166,     0.99192,     0.99192,     0.99188,     0.99188,     0.99217,     0.99246,     0.99246,     0.99275,     0.99275,\n",
       "            0.99304,     0.99304,     0.99298,     0.99327,     0.99327,     0.99323,     0.99323,     0.99353,     0.99352,     0.99348,     0.99352,      0.9937,     0.99444,     0.99476,     0.99476,     0.99472,     0.99472,     0.99502,     0.99502,     0.99497,     0.99494,     0.99494,     0.99525,\n",
       "            0.99525,     0.99519,     0.99519,     0.99514,      0.9951,      0.9951,     0.99522,     0.99542,     0.99576,     0.99574,     0.99649,     0.99649,     0.99646,     0.99646,     0.99683,     0.99682,     0.99681,     0.99678,     0.99678,     0.99716,     0.99712,     0.99712,     0.99709,\n",
       "            0.99709,     0.99708,     0.99705,     0.99705,       0.997,       0.997,     0.99742,      0.9974,     0.99781,     0.99781,     0.99778,     0.99778,     0.99821,     0.99819,     0.99819,     0.99817,     0.99816,     0.99816,     0.99814,     0.99813,     0.99813,     0.99811,     0.99811,\n",
       "            0.99809,     0.99807,     0.99807,     0.99804,     0.99851,      0.9985,      0.9985,     0.99849,     0.99898,     0.99898,     0.99897,     0.99896,     0.99896,     0.99894,     0.99893,     0.99893,     0.99892,     0.99891,     0.99891,     0.99889,     0.99888,     0.99888,     0.99886,\n",
       "            0.99885,     0.99883,     0.99883,     0.99882,      0.9994,     0.99939,     0.99939,     0.99939,     0.99938,     0.99938,     0.99937,     0.99936,     0.99936,     0.99935,     0.99934,     0.99933,     0.99933,     0.99932,     0.99932,     0.99932,     0.99931,     0.99931,      0.9993,\n",
       "            0.99929,     0.99929,           1,           1,           1,           1,           1,           1,           1,           1,           1,           1,           1,           1,           1,           1,           1,           1,           1,           1,           1,           1,           1,\n",
       "                  1,           1,           1,           1,           1,           1,           1,           1,           1,           1,           1,           1,           1,           1,           1,           1,           1,           1,           1,           1,           1,           1,           1,\n",
       "                  1,           1,           1,           1,           1,           1,           1,           1,           1,           1,           1,           1,           1,           1,           1,           1,           1,           1,           1,           1,           1,           1,           1,\n",
       "                  1,           1,           1,           1,           1,           1,           1,           1,           1,           1,           1,           1,           1,           1,           1,           1,           1,           1,           1,           1,           1,           1,           1,\n",
       "                  1,           1,           1,           1,           1,           1,           1,           1,           1,           1,           1,           1,           1,           1,           1,           1,           1,           1,           1,           1,           1,           1,           1,\n",
       "                  1,           1,           1,           1,           1,           1,           1,           1,           1,           1,           1,           1,           1,           1,           1,           1,           1,           1,           1,           1,           1,           1,           1,\n",
       "                  1,           1,           1,           1,           1,           1,           1,           1,           1,           1,           1,           1,           1,           1,           1,           1,           1,           1,           1,           1,           1,           1,           1,\n",
       "                  1,           1,           1,           1,           1,           1,           1,           1,           1,           1,           1,           1,           1,           1,           1,           1,           1,           1,           1,           1,           1,           1,           1,\n",
       "                  1,           1,           1,           1,           1,           1,           1,           1,           1,           1,           1,           1,           1,           1,           1,           1,           1,           1,           1,           1,           1,           1,           1,\n",
       "                  1,           1,           1,           1,           1,           1,           1,           1,           1,           1,           1]]), 'Confidence', 'Precision'], [array([          0,    0.001001,    0.002002,    0.003003,    0.004004,    0.005005,    0.006006,    0.007007,    0.008008,    0.009009,     0.01001,    0.011011,    0.012012,    0.013013,    0.014014,    0.015015,    0.016016,    0.017017,    0.018018,    0.019019,     0.02002,    0.021021,    0.022022,    0.023023,\n",
       "          0.024024,    0.025025,    0.026026,    0.027027,    0.028028,    0.029029,     0.03003,    0.031031,    0.032032,    0.033033,    0.034034,    0.035035,    0.036036,    0.037037,    0.038038,    0.039039,     0.04004,    0.041041,    0.042042,    0.043043,    0.044044,    0.045045,    0.046046,    0.047047,\n",
       "          0.048048,    0.049049,     0.05005,    0.051051,    0.052052,    0.053053,    0.054054,    0.055055,    0.056056,    0.057057,    0.058058,    0.059059,     0.06006,    0.061061,    0.062062,    0.063063,    0.064064,    0.065065,    0.066066,    0.067067,    0.068068,    0.069069,     0.07007,    0.071071,\n",
       "          0.072072,    0.073073,    0.074074,    0.075075,    0.076076,    0.077077,    0.078078,    0.079079,     0.08008,    0.081081,    0.082082,    0.083083,    0.084084,    0.085085,    0.086086,    0.087087,    0.088088,    0.089089,     0.09009,    0.091091,    0.092092,    0.093093,    0.094094,    0.095095,\n",
       "          0.096096,    0.097097,    0.098098,    0.099099,      0.1001,      0.1011,      0.1021,      0.1031,      0.1041,     0.10511,     0.10611,     0.10711,     0.10811,     0.10911,     0.11011,     0.11111,     0.11211,     0.11311,     0.11411,     0.11512,     0.11612,     0.11712,     0.11812,     0.11912,\n",
       "           0.12012,     0.12112,     0.12212,     0.12312,     0.12412,     0.12513,     0.12613,     0.12713,     0.12813,     0.12913,     0.13013,     0.13113,     0.13213,     0.13313,     0.13413,     0.13514,     0.13614,     0.13714,     0.13814,     0.13914,     0.14014,     0.14114,     0.14214,     0.14314,\n",
       "           0.14414,     0.14515,     0.14615,     0.14715,     0.14815,     0.14915,     0.15015,     0.15115,     0.15215,     0.15315,     0.15415,     0.15516,     0.15616,     0.15716,     0.15816,     0.15916,     0.16016,     0.16116,     0.16216,     0.16316,     0.16416,     0.16517,     0.16617,     0.16717,\n",
       "           0.16817,     0.16917,     0.17017,     0.17117,     0.17217,     0.17317,     0.17417,     0.17518,     0.17618,     0.17718,     0.17818,     0.17918,     0.18018,     0.18118,     0.18218,     0.18318,     0.18418,     0.18519,     0.18619,     0.18719,     0.18819,     0.18919,     0.19019,     0.19119,\n",
       "           0.19219,     0.19319,     0.19419,      0.1952,      0.1962,      0.1972,      0.1982,      0.1992,      0.2002,      0.2012,      0.2022,      0.2032,      0.2042,     0.20521,     0.20621,     0.20721,     0.20821,     0.20921,     0.21021,     0.21121,     0.21221,     0.21321,     0.21421,     0.21522,\n",
       "           0.21622,     0.21722,     0.21822,     0.21922,     0.22022,     0.22122,     0.22222,     0.22322,     0.22422,     0.22523,     0.22623,     0.22723,     0.22823,     0.22923,     0.23023,     0.23123,     0.23223,     0.23323,     0.23423,     0.23524,     0.23624,     0.23724,     0.23824,     0.23924,\n",
       "           0.24024,     0.24124,     0.24224,     0.24324,     0.24424,     0.24525,     0.24625,     0.24725,     0.24825,     0.24925,     0.25025,     0.25125,     0.25225,     0.25325,     0.25425,     0.25526,     0.25626,     0.25726,     0.25826,     0.25926,     0.26026,     0.26126,     0.26226,     0.26326,\n",
       "           0.26426,     0.26527,     0.26627,     0.26727,     0.26827,     0.26927,     0.27027,     0.27127,     0.27227,     0.27327,     0.27427,     0.27528,     0.27628,     0.27728,     0.27828,     0.27928,     0.28028,     0.28128,     0.28228,     0.28328,     0.28428,     0.28529,     0.28629,     0.28729,\n",
       "           0.28829,     0.28929,     0.29029,     0.29129,     0.29229,     0.29329,     0.29429,      0.2953,      0.2963,      0.2973,      0.2983,      0.2993,      0.3003,      0.3013,      0.3023,      0.3033,      0.3043,     0.30531,     0.30631,     0.30731,     0.30831,     0.30931,     0.31031,     0.31131,\n",
       "           0.31231,     0.31331,     0.31431,     0.31532,     0.31632,     0.31732,     0.31832,     0.31932,     0.32032,     0.32132,     0.32232,     0.32332,     0.32432,     0.32533,     0.32633,     0.32733,     0.32833,     0.32933,     0.33033,     0.33133,     0.33233,     0.33333,     0.33433,     0.33534,\n",
       "           0.33634,     0.33734,     0.33834,     0.33934,     0.34034,     0.34134,     0.34234,     0.34334,     0.34434,     0.34535,     0.34635,     0.34735,     0.34835,     0.34935,     0.35035,     0.35135,     0.35235,     0.35335,     0.35435,     0.35536,     0.35636,     0.35736,     0.35836,     0.35936,\n",
       "           0.36036,     0.36136,     0.36236,     0.36336,     0.36436,     0.36537,     0.36637,     0.36737,     0.36837,     0.36937,     0.37037,     0.37137,     0.37237,     0.37337,     0.37437,     0.37538,     0.37638,     0.37738,     0.37838,     0.37938,     0.38038,     0.38138,     0.38238,     0.38338,\n",
       "           0.38438,     0.38539,     0.38639,     0.38739,     0.38839,     0.38939,     0.39039,     0.39139,     0.39239,     0.39339,     0.39439,      0.3954,      0.3964,      0.3974,      0.3984,      0.3994,      0.4004,      0.4014,      0.4024,      0.4034,      0.4044,     0.40541,     0.40641,     0.40741,\n",
       "           0.40841,     0.40941,     0.41041,     0.41141,     0.41241,     0.41341,     0.41441,     0.41542,     0.41642,     0.41742,     0.41842,     0.41942,     0.42042,     0.42142,     0.42242,     0.42342,     0.42442,     0.42543,     0.42643,     0.42743,     0.42843,     0.42943,     0.43043,     0.43143,\n",
       "           0.43243,     0.43343,     0.43443,     0.43544,     0.43644,     0.43744,     0.43844,     0.43944,     0.44044,     0.44144,     0.44244,     0.44344,     0.44444,     0.44545,     0.44645,     0.44745,     0.44845,     0.44945,     0.45045,     0.45145,     0.45245,     0.45345,     0.45445,     0.45546,\n",
       "           0.45646,     0.45746,     0.45846,     0.45946,     0.46046,     0.46146,     0.46246,     0.46346,     0.46446,     0.46547,     0.46647,     0.46747,     0.46847,     0.46947,     0.47047,     0.47147,     0.47247,     0.47347,     0.47447,     0.47548,     0.47648,     0.47748,     0.47848,     0.47948,\n",
       "           0.48048,     0.48148,     0.48248,     0.48348,     0.48448,     0.48549,     0.48649,     0.48749,     0.48849,     0.48949,     0.49049,     0.49149,     0.49249,     0.49349,     0.49449,      0.4955,      0.4965,      0.4975,      0.4985,      0.4995,      0.5005,      0.5015,      0.5025,      0.5035,\n",
       "            0.5045,     0.50551,     0.50651,     0.50751,     0.50851,     0.50951,     0.51051,     0.51151,     0.51251,     0.51351,     0.51451,     0.51552,     0.51652,     0.51752,     0.51852,     0.51952,     0.52052,     0.52152,     0.52252,     0.52352,     0.52452,     0.52553,     0.52653,     0.52753,\n",
       "           0.52853,     0.52953,     0.53053,     0.53153,     0.53253,     0.53353,     0.53453,     0.53554,     0.53654,     0.53754,     0.53854,     0.53954,     0.54054,     0.54154,     0.54254,     0.54354,     0.54454,     0.54555,     0.54655,     0.54755,     0.54855,     0.54955,     0.55055,     0.55155,\n",
       "           0.55255,     0.55355,     0.55455,     0.55556,     0.55656,     0.55756,     0.55856,     0.55956,     0.56056,     0.56156,     0.56256,     0.56356,     0.56456,     0.56557,     0.56657,     0.56757,     0.56857,     0.56957,     0.57057,     0.57157,     0.57257,     0.57357,     0.57457,     0.57558,\n",
       "           0.57658,     0.57758,     0.57858,     0.57958,     0.58058,     0.58158,     0.58258,     0.58358,     0.58458,     0.58559,     0.58659,     0.58759,     0.58859,     0.58959,     0.59059,     0.59159,     0.59259,     0.59359,     0.59459,      0.5956,      0.5966,      0.5976,      0.5986,      0.5996,\n",
       "            0.6006,      0.6016,      0.6026,      0.6036,      0.6046,     0.60561,     0.60661,     0.60761,     0.60861,     0.60961,     0.61061,     0.61161,     0.61261,     0.61361,     0.61461,     0.61562,     0.61662,     0.61762,     0.61862,     0.61962,     0.62062,     0.62162,     0.62262,     0.62362,\n",
       "           0.62462,     0.62563,     0.62663,     0.62763,     0.62863,     0.62963,     0.63063,     0.63163,     0.63263,     0.63363,     0.63463,     0.63564,     0.63664,     0.63764,     0.63864,     0.63964,     0.64064,     0.64164,     0.64264,     0.64364,     0.64464,     0.64565,     0.64665,     0.64765,\n",
       "           0.64865,     0.64965,     0.65065,     0.65165,     0.65265,     0.65365,     0.65465,     0.65566,     0.65666,     0.65766,     0.65866,     0.65966,     0.66066,     0.66166,     0.66266,     0.66366,     0.66466,     0.66567,     0.66667,     0.66767,     0.66867,     0.66967,     0.67067,     0.67167,\n",
       "           0.67267,     0.67367,     0.67467,     0.67568,     0.67668,     0.67768,     0.67868,     0.67968,     0.68068,     0.68168,     0.68268,     0.68368,     0.68468,     0.68569,     0.68669,     0.68769,     0.68869,     0.68969,     0.69069,     0.69169,     0.69269,     0.69369,     0.69469,      0.6957,\n",
       "            0.6967,      0.6977,      0.6987,      0.6997,      0.7007,      0.7017,      0.7027,      0.7037,      0.7047,     0.70571,     0.70671,     0.70771,     0.70871,     0.70971,     0.71071,     0.71171,     0.71271,     0.71371,     0.71471,     0.71572,     0.71672,     0.71772,     0.71872,     0.71972,\n",
       "           0.72072,     0.72172,     0.72272,     0.72372,     0.72472,     0.72573,     0.72673,     0.72773,     0.72873,     0.72973,     0.73073,     0.73173,     0.73273,     0.73373,     0.73473,     0.73574,     0.73674,     0.73774,     0.73874,     0.73974,     0.74074,     0.74174,     0.74274,     0.74374,\n",
       "           0.74474,     0.74575,     0.74675,     0.74775,     0.74875,     0.74975,     0.75075,     0.75175,     0.75275,     0.75375,     0.75475,     0.75576,     0.75676,     0.75776,     0.75876,     0.75976,     0.76076,     0.76176,     0.76276,     0.76376,     0.76476,     0.76577,     0.76677,     0.76777,\n",
       "           0.76877,     0.76977,     0.77077,     0.77177,     0.77277,     0.77377,     0.77477,     0.77578,     0.77678,     0.77778,     0.77878,     0.77978,     0.78078,     0.78178,     0.78278,     0.78378,     0.78478,     0.78579,     0.78679,     0.78779,     0.78879,     0.78979,     0.79079,     0.79179,\n",
       "           0.79279,     0.79379,     0.79479,      0.7958,      0.7968,      0.7978,      0.7988,      0.7998,      0.8008,      0.8018,      0.8028,      0.8038,      0.8048,     0.80581,     0.80681,     0.80781,     0.80881,     0.80981,     0.81081,     0.81181,     0.81281,     0.81381,     0.81481,     0.81582,\n",
       "           0.81682,     0.81782,     0.81882,     0.81982,     0.82082,     0.82182,     0.82282,     0.82382,     0.82482,     0.82583,     0.82683,     0.82783,     0.82883,     0.82983,     0.83083,     0.83183,     0.83283,     0.83383,     0.83483,     0.83584,     0.83684,     0.83784,     0.83884,     0.83984,\n",
       "           0.84084,     0.84184,     0.84284,     0.84384,     0.84484,     0.84585,     0.84685,     0.84785,     0.84885,     0.84985,     0.85085,     0.85185,     0.85285,     0.85385,     0.85485,     0.85586,     0.85686,     0.85786,     0.85886,     0.85986,     0.86086,     0.86186,     0.86286,     0.86386,\n",
       "           0.86486,     0.86587,     0.86687,     0.86787,     0.86887,     0.86987,     0.87087,     0.87187,     0.87287,     0.87387,     0.87487,     0.87588,     0.87688,     0.87788,     0.87888,     0.87988,     0.88088,     0.88188,     0.88288,     0.88388,     0.88488,     0.88589,     0.88689,     0.88789,\n",
       "           0.88889,     0.88989,     0.89089,     0.89189,     0.89289,     0.89389,     0.89489,      0.8959,      0.8969,      0.8979,      0.8989,      0.8999,      0.9009,      0.9019,      0.9029,      0.9039,      0.9049,     0.90591,     0.90691,     0.90791,     0.90891,     0.90991,     0.91091,     0.91191,\n",
       "           0.91291,     0.91391,     0.91491,     0.91592,     0.91692,     0.91792,     0.91892,     0.91992,     0.92092,     0.92192,     0.92292,     0.92392,     0.92492,     0.92593,     0.92693,     0.92793,     0.92893,     0.92993,     0.93093,     0.93193,     0.93293,     0.93393,     0.93493,     0.93594,\n",
       "           0.93694,     0.93794,     0.93894,     0.93994,     0.94094,     0.94194,     0.94294,     0.94394,     0.94494,     0.94595,     0.94695,     0.94795,     0.94895,     0.94995,     0.95095,     0.95195,     0.95295,     0.95395,     0.95495,     0.95596,     0.95696,     0.95796,     0.95896,     0.95996,\n",
       "           0.96096,     0.96196,     0.96296,     0.96396,     0.96496,     0.96597,     0.96697,     0.96797,     0.96897,     0.96997,     0.97097,     0.97197,     0.97297,     0.97397,     0.97497,     0.97598,     0.97698,     0.97798,     0.97898,     0.97998,     0.98098,     0.98198,     0.98298,     0.98398,\n",
       "           0.98498,     0.98599,     0.98699,     0.98799,     0.98899,     0.98999,     0.99099,     0.99199,     0.99299,     0.99399,     0.99499,       0.996,       0.997,       0.998,       0.999,           1]), array([[    0.91854,     0.91854,     0.91491,     0.91128,     0.91003,     0.90794,     0.90668,     0.90598,     0.90459,     0.90278,      0.9018,     0.90013,     0.89943,     0.89831,      0.8972,     0.89636,     0.89496,     0.89385,     0.89217,      0.8919,     0.89078,     0.88897,     0.88813,\n",
       "             0.8866,      0.8859,     0.88548,      0.8852,     0.88464,     0.88381,     0.88297,     0.88227,     0.88129,     0.88032,     0.87976,     0.87892,     0.87809,     0.87725,     0.87655,     0.87599,     0.87571,     0.87544,     0.87516,      0.8746,     0.87346,     0.87334,     0.87276,\n",
       "            0.87251,     0.87181,     0.87153,     0.87111,     0.87069,     0.86986,     0.86902,     0.86846,      0.8681,     0.86693,     0.86637,     0.86581,     0.86567,     0.86525,      0.8647,       0.864,     0.86344,     0.86246,     0.86232,     0.86191,     0.86163,     0.86093,     0.86065,\n",
       "            0.86023,     0.85981,     0.85967,     0.85953,     0.85926,     0.85898,     0.85814,     0.85786,     0.85758,     0.85744,     0.85653,     0.85605,     0.85591,     0.85563,     0.85535,     0.85521,     0.85479,     0.85479,     0.85451,     0.85354,     0.85312,     0.85256,       0.852,\n",
       "             0.8513,     0.85103,     0.85033,     0.85005,     0.84921,     0.84851,     0.84796,     0.84726,     0.84698,     0.84628,       0.846,     0.84545,     0.84503,     0.84433,     0.84363,      0.8428,     0.84238,     0.84196,      0.8414,     0.84126,     0.84084,     0.84042,     0.84015,\n",
       "            0.84001,     0.83973,     0.83945,     0.83931,     0.83903,     0.83889,     0.83824,     0.83777,     0.83736,     0.83694,     0.83666,     0.83652,      0.8361,     0.83568,      0.8354,     0.83512,     0.83457,     0.83345,     0.83303,     0.83289,     0.83195,     0.83136,     0.83066,\n",
       "            0.83038,     0.82996,     0.82933,     0.82843,     0.82787,     0.82759,     0.82759,     0.82675,     0.82648,     0.82634,     0.82606,     0.82533,     0.82494,     0.82452,     0.82355,     0.82299,     0.82254,     0.82229,     0.82173,     0.82062,     0.82034,     0.81978,     0.81936,\n",
       "            0.81908,      0.8188,     0.81811,     0.81722,     0.81682,     0.81629,     0.81601,     0.81573,     0.81532,     0.81462,     0.81434,     0.81378,     0.81364,     0.81336,     0.81281,     0.81225,     0.81225,     0.81141,     0.81057,     0.80988,      0.8096,     0.80876,     0.80862,\n",
       "            0.80848,     0.80737,     0.80695,     0.80667,     0.80625,     0.80578,     0.80527,     0.80499,     0.80465,     0.80388,     0.80332,     0.80276,     0.80179,     0.80165,     0.80095,     0.80025,      0.7995,     0.79899,     0.79858,     0.79802,     0.79791,     0.79718,      0.7969,\n",
       "            0.79648,     0.79593,     0.79571,     0.79507,     0.79467,     0.79425,     0.79356,     0.79286,     0.79272,     0.79216,     0.79174,     0.79142,     0.79118,     0.79077,     0.79063,     0.79035,      0.7901,     0.78905,     0.78858,     0.78784,     0.78742,     0.78726,     0.78686,\n",
       "             0.7863,     0.78568,      0.7856,     0.78491,     0.78466,     0.78365,     0.78337,     0.78309,     0.78281,     0.78254,     0.78226,     0.78212,     0.78142,     0.78108,     0.78061,     0.78003,     0.77953,     0.77836,     0.77705,     0.77656,     0.77598,     0.77542,     0.77476,\n",
       "            0.77403,     0.77319,     0.77279,     0.77166,     0.77144,     0.77082,      0.7705,     0.77026,     0.76901,     0.76859,     0.76839,     0.76806,     0.76689,     0.76636,     0.76636,     0.76622,     0.76608,      0.7658,     0.76523,     0.76496,     0.76468,     0.76387,     0.76301,\n",
       "            0.76293,     0.76221,     0.76217,     0.76092,      0.7605,     0.76011,      0.7598,     0.75966,      0.7591,     0.75898,     0.75868,     0.75848,     0.75826,     0.75826,     0.75715,     0.75715,     0.75635,     0.75631,     0.75561,     0.75478,     0.75456,     0.75436,     0.75408,\n",
       "            0.75366,     0.75352,     0.75338,     0.75324,     0.75185,     0.75166,     0.75094,     0.75078,     0.75045,     0.74987,     0.74962,     0.74941,     0.74896,     0.74836,     0.74822,     0.74803,     0.74794,     0.74701,      0.7467,     0.74641,     0.74585,     0.74566,     0.74536,\n",
       "            0.74505,     0.74434,     0.74362,     0.74331,     0.74286,     0.74228,     0.74157,     0.74125,     0.74083,     0.74055,     0.73952,     0.73902,      0.7386,     0.73847,     0.73819,     0.73787,     0.73762,     0.73734,      0.7372,     0.73636,     0.73636,     0.73609,     0.73553,\n",
       "            0.73511,     0.73469,     0.73433,     0.73385,     0.73347,     0.73274,     0.73245,     0.73217,     0.73162,     0.73148,     0.73127,     0.73065,     0.73023,     0.72981,     0.72967,     0.72897,     0.72897,     0.72851,     0.72779,     0.72735,     0.72665,     0.72637,     0.72605,\n",
       "             0.7259,     0.72507,     0.72475,     0.72391,     0.72335,     0.72277,     0.72219,     0.72172,     0.72163,     0.72089,     0.72088,     0.72032,     0.71949,     0.71903,     0.71847,     0.71791,     0.71767,     0.71732,     0.71712,      0.7166,     0.71604,       0.716,     0.71502,\n",
       "            0.71474,      0.7146,     0.71349,     0.71265,     0.71251,     0.71209,     0.71134,     0.71022,     0.70938,     0.70916,     0.70836,     0.70808,     0.70791,     0.70751,     0.70681,     0.70625,     0.70565,     0.70495,     0.70414,     0.70369,     0.70313,     0.70298,     0.70242,\n",
       "            0.70198,     0.70154,     0.70056,         0.7,     0.69926,     0.69846,     0.69776,     0.69706,     0.69661,     0.69506,     0.69464,     0.69408,      0.6931,     0.69254,     0.69184,     0.69142,      0.6903,     0.68988,     0.68917,     0.68866,     0.68819,     0.68775,     0.68717,\n",
       "            0.68713,     0.68619,     0.68563,     0.68521,     0.68434,     0.68366,     0.68296,     0.68254,     0.68198,     0.68156,     0.68072,     0.68002,      0.6789,      0.6782,     0.67763,     0.67693,     0.67651,     0.67497,     0.67424,     0.67368,     0.67353,      0.6729,     0.67213,\n",
       "            0.67185,     0.67101,     0.66983,     0.66947,     0.66807,     0.66788,      0.6675,     0.66666,     0.66652,     0.66554,      0.6647,       0.664,     0.66316,     0.66218,      0.6619,     0.66147,     0.66008,     0.65896,     0.65812,     0.65714,     0.65602,     0.65518,     0.65462,\n",
       "            0.65391,     0.65293,     0.65209,     0.65139,     0.65069,     0.65027,     0.64957,     0.64831,     0.64733,     0.64677,     0.64607,     0.64528,     0.64458,     0.64341,     0.64249,     0.64089,     0.63935,     0.63886,     0.63781,     0.63669,     0.63565,     0.63515,     0.63459,\n",
       "            0.63347,     0.63221,     0.63095,     0.62969,     0.62857,     0.62826,      0.6277,     0.62717,     0.62661,     0.62604,     0.62435,     0.62297,     0.62171,     0.62059,     0.61766,     0.61682,     0.61584,     0.61473,      0.6143,     0.61332,      0.6122,     0.61094,      0.6087,\n",
       "            0.60842,     0.60716,     0.60604,     0.60478,     0.60255,     0.60101,     0.59975,     0.59891,     0.59827,     0.59681,     0.59527,     0.59429,     0.59262,     0.59144,      0.5913,     0.59046,       0.588,     0.58744,     0.58478,      0.5845,     0.58227,     0.58184,     0.58086,\n",
       "            0.58083,     0.57862,      0.5782,     0.57583,     0.57541,     0.57352,     0.57198,     0.57128,     0.56974,      0.5696,     0.56667,     0.56555,     0.56303,     0.56247,     0.56066,     0.56047,     0.55684,     0.55632,     0.55381,     0.55366,     0.55171,     0.55128,     0.54975,\n",
       "            0.54877,     0.54625,     0.54569,      0.5429,     0.54275,     0.54066,     0.53814,     0.53779,     0.53639,     0.53611,     0.53471,     0.53443,     0.53238,     0.53231,     0.52968,     0.52953,     0.52786,     0.52716,     0.52464,     0.52422,     0.52185,     0.51968,      0.5194,\n",
       "            0.51674,     0.51604,     0.51339,     0.51283,     0.51115,     0.51059,     0.50849,     0.50835,     0.50598,     0.50339,     0.50297,     0.50073,     0.50003,     0.49822,     0.49779,     0.49472,     0.49416,     0.49192,     0.49117,     0.48948,      0.4885,     0.48598,     0.48375,\n",
       "            0.48333,     0.48109,     0.48053,      0.4787,     0.47836,     0.47612,      0.4757,     0.47394,     0.47386,     0.47165,      0.4715,     0.46864,     0.46654,     0.46612,     0.46319,     0.46305,     0.46143,     0.46074,     0.45725,     0.45543,     0.45515,     0.45361,     0.45332,\n",
       "            0.45088,      0.4506,     0.44869,     0.44862,     0.44571,      0.4434,     0.44312,     0.44089,     0.44065,      0.4381,     0.43801,     0.43431,     0.43424,     0.43135,     0.42834,     0.42827,     0.42583,     0.42575,     0.42413,     0.42251,     0.42244,     0.42041,     0.42031,\n",
       "            0.41814,     0.41807,     0.41449,     0.41161,     0.41154,     0.40923,     0.40914,     0.40669,     0.40662,     0.40402,     0.40173,     0.40173,     0.39945,      0.3974,     0.39733,     0.39391,     0.39382,     0.39053,     0.39046,      0.3866,     0.38414,     0.38407,     0.38023,\n",
       "            0.38013,     0.37503,     0.37496,     0.37166,     0.36822,     0.36812,     0.36449,     0.36449,     0.36063,     0.35844,     0.35625,     0.35618,      0.3536,      0.3535,     0.35118,     0.34927,      0.3492,     0.34522,     0.34512,     0.34224,     0.33838,     0.33831,     0.33502,\n",
       "            0.33493,     0.33288,     0.32972,     0.32962,     0.32494,     0.32487,     0.32297,     0.32064,     0.31817,     0.31808,     0.31409,     0.31402,     0.31044,     0.30826,     0.30816,     0.30514,     0.30267,     0.30257,     0.29983,     0.29764,     0.29755,     0.29412,     0.29405,\n",
       "            0.29145,     0.28842,     0.28833,     0.28475,     0.28088,     0.27884,     0.27874,     0.27599,     0.27269,      0.2726,     0.26985,     0.26766,     0.26757,     0.26398,      0.2611,       0.261,     0.25854,     0.25537,     0.25528,     0.25211,     0.24853,     0.24844,     0.24541,\n",
       "            0.24211,      0.2388,     0.23871,     0.23652,     0.23293,     0.22973,     0.22963,     0.22675,     0.22428,     0.22419,     0.22046,     0.21758,     0.21748,     0.21376,     0.21114,      0.2092,      0.2091,      0.2065,     0.20445,     0.20435,     0.20282,     0.20105,     0.19844,\n",
       "            0.19667,     0.19658,     0.19297,     0.19146,     0.18927,     0.18918,     0.18765,     0.18629,     0.18466,     0.18456,     0.18262,      0.1814,     0.17977,     0.17967,      0.1773,     0.17623,     0.17444,      0.1725,     0.17031,     0.16864,     0.16854,     0.16772,     0.16607,\n",
       "            0.16486,     0.16305,     0.16295,     0.16087,     0.15909,     0.15717,     0.15592,     0.15583,      0.1543,     0.15238,     0.15073,     0.14906,     0.14712,     0.14702,     0.14563,     0.14256,     0.14246,     0.14178,     0.14024,     0.13915,     0.13863,     0.13723,     0.13668,\n",
       "            0.13659,     0.13534,     0.13338,     0.13185,     0.13076,     0.13023,     0.12926,     0.12855,     0.12771,     0.12578,     0.12568,     0.12456,     0.12275,     0.12149,     0.12093,     0.11953,     0.11785,     0.11534,     0.11525,     0.11414,     0.11247,     0.11191,     0.11065,\n",
       "            0.10953,     0.10785,     0.10589,     0.10338,     0.10114,    0.097933,    0.095837,    0.093741,    0.091785,    0.088151,    0.086128,    0.084172,    0.081658,    0.079143,    0.077047,    0.073696,    0.070903,    0.066785,    0.064131,    0.061616,    0.058265,    0.053614,    0.050377,\n",
       "           0.046607,    0.043814,    0.038161,    0.035647,    0.033485,    0.031107,    0.025245,    0.020771,    0.018612,    0.016376,    0.012258,    0.010142,   0.0082756,   0.0071562,   0.0056881,   0.0038367,   0.0031005,   0.0021904,   0.0020624,    0.001967,   0.0016917,   0.0013672,   0.0012957,\n",
       "          0.0012476,   0.0012297,   0.0012119,    0.001194,   0.0011761,   0.0011582,   0.0011404,   0.0011225,   0.0009751,  0.00096587,  0.00095665,  0.00094742,   0.0009382,  0.00092897,  0.00091975,  0.00091053,   0.0009013,  0.00089208,  0.00088285,  0.00087363,   0.0008644,  0.00085518,  0.00084595,\n",
       "         0.00083587,  0.00078821,  0.00074055,  0.00069534,  0.00067335,  0.00065135,  0.00062935,  0.00060735,  0.00058536,  0.00056336,  0.00053099,  0.00049525,   0.0004595,  0.00042376,  0.00041339,  0.00040743,  0.00040148,  0.00039552,  0.00038956,   0.0003836,  0.00037765,  0.00037169,  0.00036573,\n",
       "         0.00035977,  0.00035382,  0.00034786,   0.0003419,  0.00033594,  0.00032999,  0.00032403,  0.00031807,  0.00031211,  0.00030616,   0.0003002,  0.00029424,  0.00028828,  0.00028233,  0.00027631,  0.00027023,  0.00026415,  0.00025806,  0.00025198,  0.00024589,  0.00023981,  0.00023372,  0.00022764,\n",
       "         0.00022156,  0.00021547,  0.00020939,   0.0002033,  0.00019722,  0.00019113,  0.00018505,  0.00017897,  0.00017288,   0.0001668,  0.00016071,  0.00015463,  0.00014854,  0.00014246,           0,           0,           0,           0,           0,           0,           0,           0,           0,\n",
       "                  0,           0,           0,           0,           0,           0,           0,           0,           0,           0,           0]]), 'Confidence', 'Recall']]\n",
       "fitness: 0.5351219939141156\n",
       "keys: ['metrics/precision(B)', 'metrics/recall(B)', 'metrics/mAP50(B)', 'metrics/mAP50-95(B)']\n",
       "maps: array([    0.50023])\n",
       "names: {0: 'chess-table-corners'}\n",
       "plot: True\n",
       "results_dict: {'metrics/precision(B)': 0.8923767855179614, 'metrics/recall(B)': 0.7597991351652951, 'metrics/mAP50(B)': 0.8491258586158249, 'metrics/mAP50-95(B)': 0.5002326756139257, 'fitness': 0.5351219939141156}\n",
       "save_dir: WindowsPath('runs/detect/train')\n",
       "speed: {'preprocess': 0.1949933139806779, 'inference': 1.5014712687051734, 'loss': 0.0, 'postprocess': 0.6819474990791025}\n",
       "task: 'detect'"
      ]
     },
     "execution_count": 1,
     "metadata": {},
     "output_type": "execute_result"
    }
   ],
   "source": [
    "from ultralytics import YOLO\n",
    "\n",
    "# Load a pretrained YOLOv8 model\n",
    "model = YOLO('yolo11n.pt')\n",
    "\n",
    "# Start training\n",
    "model.train(\n",
    "    data='data.yaml',\n",
    "    epochs=100,\n",
    "    imgsz=640,\n",
    "    batch=8,\n",
    "    device=0\n",
    ")\n"
   ]
  }
 ],
 "metadata": {
  "kernelspec": {
   "display_name": "ChessProject",
   "language": "python",
   "name": "python3"
  },
  "language_info": {
   "codemirror_mode": {
    "name": "ipython",
    "version": 3
   },
   "file_extension": ".py",
   "mimetype": "text/x-python",
   "name": "python",
   "nbconvert_exporter": "python",
   "pygments_lexer": "ipython3",
   "version": "3.12.8"
  }
 },
 "nbformat": 4,
 "nbformat_minor": 2
}
